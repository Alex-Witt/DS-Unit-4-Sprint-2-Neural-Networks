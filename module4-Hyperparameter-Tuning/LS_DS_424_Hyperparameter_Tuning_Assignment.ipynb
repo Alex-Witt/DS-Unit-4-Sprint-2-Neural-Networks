{
 "cells": [
  {
   "cell_type": "markdown",
   "metadata": {
    "colab_type": "text",
    "id": "9Ryp-TVm4njD"
   },
   "source": [
    "# Your Mission, should you choose to accept it...\n",
    "\n",
    "To hyperparameter tune and extract every ounce of accuracy out of this telecom customer churn dataset: <https://drive.google.com/file/d/1dfbAsM9DwA7tYhInyflIpZnYs7VT-0AQ/view> \n",
    "\n",
    "## Requirements\n",
    "\n",
    "- Load the data\n",
    "- Clean the data if necessary (it will be)\n",
    "- Create and fit a baseline Keras MLP model to the data.\n",
    "- Hyperparameter tune (at least) the following parameters:\n",
    " - batch_size\n",
    " - training epochs\n",
    " - optimizer\n",
    " - learning rate (if applicable to optimizer)\n",
    " - momentum (if applicable to optimizer)\n",
    " - activation functions\n",
    " - network weight initialization\n",
    " - dropout regularization\n",
    " - number of neurons in the hidden layer\n",
    " \n",
    " You must use Grid Search and Cross Validation for your initial pass of the above hyperparameters\n",
    " \n",
    " Try and get the maximum accuracy possible out of this data! You'll save big telecoms millions! Doesn't that sound great?\n"
   ]
  },
  {
   "cell_type": "markdown",
   "metadata": {},
   "source": [
    "## First Look at the Data"
   ]
  },
  {
   "cell_type": "code",
   "execution_count": 85,
   "metadata": {},
   "outputs": [],
   "source": [
    "import numpy as np\n",
    "import pandas as pd\n",
    "import seaborn as sns\n",
    "import matplotlib.pyplot as plt"
   ]
  },
  {
   "cell_type": "code",
   "execution_count": 86,
   "metadata": {
    "colab": {},
    "colab_type": "code",
    "id": "NNJ-tOBs4jM1"
   },
   "outputs": [
    {
     "name": "stdout",
     "output_type": "stream",
     "text": [
      "(7043, 21)\n"
     ]
    },
    {
     "data": {
      "text/html": [
       "<div>\n",
       "<style scoped>\n",
       "    .dataframe tbody tr th:only-of-type {\n",
       "        vertical-align: middle;\n",
       "    }\n",
       "\n",
       "    .dataframe tbody tr th {\n",
       "        vertical-align: top;\n",
       "    }\n",
       "\n",
       "    .dataframe thead th {\n",
       "        text-align: right;\n",
       "    }\n",
       "</style>\n",
       "<table border=\"1\" class=\"dataframe\">\n",
       "  <thead>\n",
       "    <tr style=\"text-align: right;\">\n",
       "      <th></th>\n",
       "      <th>customerID</th>\n",
       "      <th>gender</th>\n",
       "      <th>SeniorCitizen</th>\n",
       "      <th>Partner</th>\n",
       "      <th>Dependents</th>\n",
       "      <th>tenure</th>\n",
       "      <th>PhoneService</th>\n",
       "      <th>MultipleLines</th>\n",
       "      <th>InternetService</th>\n",
       "      <th>OnlineSecurity</th>\n",
       "      <th>...</th>\n",
       "      <th>DeviceProtection</th>\n",
       "      <th>TechSupport</th>\n",
       "      <th>StreamingTV</th>\n",
       "      <th>StreamingMovies</th>\n",
       "      <th>Contract</th>\n",
       "      <th>PaperlessBilling</th>\n",
       "      <th>PaymentMethod</th>\n",
       "      <th>MonthlyCharges</th>\n",
       "      <th>TotalCharges</th>\n",
       "      <th>Churn</th>\n",
       "    </tr>\n",
       "  </thead>\n",
       "  <tbody>\n",
       "    <tr>\n",
       "      <th>0</th>\n",
       "      <td>7590-VHVEG</td>\n",
       "      <td>Female</td>\n",
       "      <td>0</td>\n",
       "      <td>Yes</td>\n",
       "      <td>No</td>\n",
       "      <td>1</td>\n",
       "      <td>No</td>\n",
       "      <td>No phone service</td>\n",
       "      <td>DSL</td>\n",
       "      <td>No</td>\n",
       "      <td>...</td>\n",
       "      <td>No</td>\n",
       "      <td>No</td>\n",
       "      <td>No</td>\n",
       "      <td>No</td>\n",
       "      <td>Month-to-month</td>\n",
       "      <td>Yes</td>\n",
       "      <td>Electronic check</td>\n",
       "      <td>29.85</td>\n",
       "      <td>29.85</td>\n",
       "      <td>No</td>\n",
       "    </tr>\n",
       "    <tr>\n",
       "      <th>1</th>\n",
       "      <td>5575-GNVDE</td>\n",
       "      <td>Male</td>\n",
       "      <td>0</td>\n",
       "      <td>No</td>\n",
       "      <td>No</td>\n",
       "      <td>34</td>\n",
       "      <td>Yes</td>\n",
       "      <td>No</td>\n",
       "      <td>DSL</td>\n",
       "      <td>Yes</td>\n",
       "      <td>...</td>\n",
       "      <td>Yes</td>\n",
       "      <td>No</td>\n",
       "      <td>No</td>\n",
       "      <td>No</td>\n",
       "      <td>One year</td>\n",
       "      <td>No</td>\n",
       "      <td>Mailed check</td>\n",
       "      <td>56.95</td>\n",
       "      <td>1889.5</td>\n",
       "      <td>No</td>\n",
       "    </tr>\n",
       "    <tr>\n",
       "      <th>2</th>\n",
       "      <td>3668-QPYBK</td>\n",
       "      <td>Male</td>\n",
       "      <td>0</td>\n",
       "      <td>No</td>\n",
       "      <td>No</td>\n",
       "      <td>2</td>\n",
       "      <td>Yes</td>\n",
       "      <td>No</td>\n",
       "      <td>DSL</td>\n",
       "      <td>Yes</td>\n",
       "      <td>...</td>\n",
       "      <td>No</td>\n",
       "      <td>No</td>\n",
       "      <td>No</td>\n",
       "      <td>No</td>\n",
       "      <td>Month-to-month</td>\n",
       "      <td>Yes</td>\n",
       "      <td>Mailed check</td>\n",
       "      <td>53.85</td>\n",
       "      <td>108.15</td>\n",
       "      <td>Yes</td>\n",
       "    </tr>\n",
       "    <tr>\n",
       "      <th>3</th>\n",
       "      <td>7795-CFOCW</td>\n",
       "      <td>Male</td>\n",
       "      <td>0</td>\n",
       "      <td>No</td>\n",
       "      <td>No</td>\n",
       "      <td>45</td>\n",
       "      <td>No</td>\n",
       "      <td>No phone service</td>\n",
       "      <td>DSL</td>\n",
       "      <td>Yes</td>\n",
       "      <td>...</td>\n",
       "      <td>Yes</td>\n",
       "      <td>Yes</td>\n",
       "      <td>No</td>\n",
       "      <td>No</td>\n",
       "      <td>One year</td>\n",
       "      <td>No</td>\n",
       "      <td>Bank transfer (automatic)</td>\n",
       "      <td>42.30</td>\n",
       "      <td>1840.75</td>\n",
       "      <td>No</td>\n",
       "    </tr>\n",
       "    <tr>\n",
       "      <th>4</th>\n",
       "      <td>9237-HQITU</td>\n",
       "      <td>Female</td>\n",
       "      <td>0</td>\n",
       "      <td>No</td>\n",
       "      <td>No</td>\n",
       "      <td>2</td>\n",
       "      <td>Yes</td>\n",
       "      <td>No</td>\n",
       "      <td>Fiber optic</td>\n",
       "      <td>No</td>\n",
       "      <td>...</td>\n",
       "      <td>No</td>\n",
       "      <td>No</td>\n",
       "      <td>No</td>\n",
       "      <td>No</td>\n",
       "      <td>Month-to-month</td>\n",
       "      <td>Yes</td>\n",
       "      <td>Electronic check</td>\n",
       "      <td>70.70</td>\n",
       "      <td>151.65</td>\n",
       "      <td>Yes</td>\n",
       "    </tr>\n",
       "  </tbody>\n",
       "</table>\n",
       "<p>5 rows × 21 columns</p>\n",
       "</div>"
      ],
      "text/plain": [
       "   customerID  gender  SeniorCitizen Partner Dependents  tenure PhoneService  \\\n",
       "0  7590-VHVEG  Female              0     Yes         No       1           No   \n",
       "1  5575-GNVDE    Male              0      No         No      34          Yes   \n",
       "2  3668-QPYBK    Male              0      No         No       2          Yes   \n",
       "3  7795-CFOCW    Male              0      No         No      45           No   \n",
       "4  9237-HQITU  Female              0      No         No       2          Yes   \n",
       "\n",
       "      MultipleLines InternetService OnlineSecurity  ... DeviceProtection  \\\n",
       "0  No phone service             DSL             No  ...               No   \n",
       "1                No             DSL            Yes  ...              Yes   \n",
       "2                No             DSL            Yes  ...               No   \n",
       "3  No phone service             DSL            Yes  ...              Yes   \n",
       "4                No     Fiber optic             No  ...               No   \n",
       "\n",
       "  TechSupport StreamingTV StreamingMovies        Contract PaperlessBilling  \\\n",
       "0          No          No              No  Month-to-month              Yes   \n",
       "1          No          No              No        One year               No   \n",
       "2          No          No              No  Month-to-month              Yes   \n",
       "3         Yes          No              No        One year               No   \n",
       "4          No          No              No  Month-to-month              Yes   \n",
       "\n",
       "               PaymentMethod MonthlyCharges  TotalCharges Churn  \n",
       "0           Electronic check          29.85         29.85    No  \n",
       "1               Mailed check          56.95        1889.5    No  \n",
       "2               Mailed check          53.85        108.15   Yes  \n",
       "3  Bank transfer (automatic)          42.30       1840.75    No  \n",
       "4           Electronic check          70.70        151.65   Yes  \n",
       "\n",
       "[5 rows x 21 columns]"
      ]
     },
     "execution_count": 86,
     "metadata": {},
     "output_type": "execute_result"
    }
   ],
   "source": [
    "df = pd.read_csv('telecomm.csv')\n",
    "print(df.shape)\n",
    "df.head()"
   ]
  },
  {
   "cell_type": "code",
   "execution_count": 87,
   "metadata": {},
   "outputs": [
    {
     "data": {
      "text/plain": [
       "No     0.73463\n",
       "Yes    0.26537\n",
       "Name: Churn, dtype: float64"
      ]
     },
     "execution_count": 87,
     "metadata": {},
     "output_type": "execute_result"
    }
   ],
   "source": [
    "# Distribution of target data\n",
    "\n",
    "df['Churn'].value_counts(normalize=True)"
   ]
  },
  {
   "cell_type": "code",
   "execution_count": 88,
   "metadata": {},
   "outputs": [],
   "source": [
    "# turn the taget into numbers representing yes and no\n",
    "\n",
    "df['Churn'] = df['Churn'].replace({'Yes':1, 'No':0})"
   ]
  },
  {
   "cell_type": "code",
   "execution_count": 89,
   "metadata": {},
   "outputs": [
    {
     "name": "stdout",
     "output_type": "stream",
     "text": [
      "customerID:   7043\n",
      "gender:   2\n",
      "SeniorCitizen:   2\n",
      "Partner:   2\n",
      "Dependents:   2\n",
      "tenure:   73\n",
      "PhoneService:   2\n",
      "MultipleLines:   3\n",
      "InternetService:   3\n",
      "OnlineSecurity:   3\n",
      "OnlineBackup:   3\n",
      "DeviceProtection:   3\n",
      "TechSupport:   3\n",
      "StreamingTV:   3\n",
      "StreamingMovies:   3\n",
      "Contract:   3\n",
      "PaperlessBilling:   2\n",
      "PaymentMethod:   4\n",
      "MonthlyCharges:   1585\n",
      "TotalCharges:   6531\n",
      "Churn:   2\n"
     ]
    }
   ],
   "source": [
    "# Check the Cardinality of each feature\n",
    "for column in df.columns:\n",
    "    print(column+':  ',df[column].nunique())"
   ]
  },
  {
   "cell_type": "code",
   "execution_count": 90,
   "metadata": {},
   "outputs": [
    {
     "data": {
      "text/plain": [
       "<matplotlib.axes._subplots.AxesSubplot at 0x1a3bc56e48>"
      ]
     },
     "execution_count": 90,
     "metadata": {},
     "output_type": "execute_result"
    },
    {
     "data": {
      "image/png": "[encoded data removed]",
      "text/plain": [
       "<Figure size 432x288 with 1 Axes>"
      ]
     },
     "metadata": {
      "needs_background": "light"
     },
     "output_type": "display_data"
    }
   ],
   "source": [
    "sns.distplot(df[['tenure']])"
   ]
  },
  {
   "cell_type": "markdown",
   "metadata": {},
   "source": [
    "I want to check the cardinality of each feature. It looks like I have mostly low cardinality data with a few continuous features. I'll need to do some ordinal encoding and Scaling. That can all be put together in a pipeline and run through the Grid Search with a multi-layer Perceptron."
   ]
  },
  {
   "cell_type": "markdown",
   "metadata": {},
   "source": [
    "## Modeling"
   ]
  },
  {
   "cell_type": "code",
   "execution_count": 243,
   "metadata": {},
   "outputs": [],
   "source": [
    "from sklearn.model_selection import train_test_split\n",
    "from sklearn.model_selection import cross_val_score\n",
    "from sklearn.model_selection import GridSearchCV\n",
    "from sklearn.preprocessing import StandardScaler\n",
    "from sklearn.pipeline import Pipeline\n",
    "\n",
    "from xgboost import XGBClassifier\n",
    "\n",
    "from keras.models import Sequential\n",
    "from keras.layers import Dense\n",
    "\n",
    "from keras.wrappers.scikit_learn import KerasClassifier\n",
    "\n",
    "import category_encoders as ce"
   ]
  },
  {
   "cell_type": "code",
   "execution_count": 244,
   "metadata": {},
   "outputs": [],
   "source": [
    "X = df.drop(columns=['Churn', 'customerID']).values\n",
    "y = df['Churn'].values"
   ]
  },
  {
   "cell_type": "code",
   "execution_count": 245,
   "metadata": {},
   "outputs": [],
   "source": [
    "def ghetto_pipe(tts=False, X=X, y=y):\n",
    "    \"\"\"Create a pipline to quickly manipulate data\"\"\"\n",
    "    \n",
    "    ord_enc = ce.OrdinalEncoder()\n",
    "    scaler  = StandardScaler()\n",
    "\n",
    "\n",
    "    X = ord_enc.fit_transform(X)\n",
    "    X = scaler.fit_transform(X)\n",
    "    \n",
    "    \n",
    "    if tts==True:\n",
    "        \n",
    "        X_train, X_test, y_train, y_test = train_test_split(X, y, \n",
    "                                                            test_size=0.3, \n",
    "                                                            random_state=42)\n",
    "\n",
    "        return X_train, X_test, y_train, y_test\n",
    "    \n",
    "    else:\n",
    "        \n",
    "        return X, y"
   ]
  },
  {
   "cell_type": "code",
   "execution_count": 246,
   "metadata": {},
   "outputs": [
    {
     "data": {
      "text/plain": [
       "((4930, 19), (2113, 19), (4930,), (2113,))"
      ]
     },
     "execution_count": 246,
     "metadata": {},
     "output_type": "execute_result"
    }
   ],
   "source": [
    "X_train, X_test, y_train, y_test = ghetto_pipe(tts=True)\n",
    "\n",
    "X_train.shape, X_test.shape, y_train.shape, y_test.shape"
   ]
  },
  {
   "cell_type": "code",
   "execution_count": 247,
   "metadata": {},
   "outputs": [
    {
     "data": {
      "text/plain": [
       "((7043, 19), (7043,))"
      ]
     },
     "execution_count": 247,
     "metadata": {},
     "output_type": "execute_result"
    }
   ],
   "source": [
    "X, y = ghetto_pipe()\n",
    "\n",
    "X.shape, y.shape"
   ]
  },
  {
   "cell_type": "markdown",
   "metadata": {},
   "source": [
    "### Establish a Baseline\n",
    "\n",
    "I want something to compare the performance of the MLP with. I'll be breaking out a Gradient Boosting Tree Ensemble to run a classification with. "
   ]
  },
  {
   "cell_type": "code",
   "execution_count": 248,
   "metadata": {},
   "outputs": [
    {
     "name": "stdout",
     "output_type": "stream",
     "text": [
      "0.7802067428244562\n"
     ]
    }
   ],
   "source": [
    "xgbc    = XGBClassifier(base_score=0.4, booster='gbtree', colsample_bylevel=1,\n",
    "                        colsample_bytree=1, gamma=0, learning_rate=0.1, max_delta_step=0,\n",
    "                        max_depth=17, min_child_weight=1, missing=None, n_estimators=100,\n",
    "                        n_jobs=-1, nthread=None, objective='binary:logistic',random_state=42, \n",
    "                        reg_alpha=0, reg_lambda=1, scale_pos_weight=1, seed=42, \n",
    "                        silent=True, subsample=1, eval_metric='error')\n",
    "\n",
    "xgbc.fit(X, y)\n",
    "\n",
    "print(cross_val_score(xgbc, X, y, cv = 5, scoring = 'accuracy',\n",
    "                      n_jobs = -1, verbose = 0).mean())"
   ]
  },
  {
   "cell_type": "code",
   "execution_count": 249,
   "metadata": {},
   "outputs": [],
   "source": [
    "# Define model function for Keras Classifier Object\n",
    "def create_model():\n",
    "    # create model\n",
    "    model = Sequential()\n",
    "    # Input and First Hidden Layer\n",
    "    model.add(Dense(32, input_dim=X.shape[1], activation='relu'))\n",
    "    # Second Hidden Layer\n",
    "    model.add(Dense(16, activation='relu'))\n",
    "    # Output Layer\n",
    "    model.add(Dense(1, activation='sigmoid'))\n",
    "    # Compile model\n",
    "    model.compile(loss='binary_crossentropy', \n",
    "                  optimizer='adam', \n",
    "                  metrics=['accuracy'])\n",
    "\n",
    "    return model\n",
    "\n",
    "model = KerasClassifier(build_fn=create_model, verbose=1)"
   ]
  },
  {
   "cell_type": "code",
   "execution_count": 255,
   "metadata": {},
   "outputs": [
    {
     "name": "stdout",
     "output_type": "stream",
     "text": [
      "Best: 0.8061905434299866 using {'batch_size': 40, 'epochs': 15}\n",
      "Means: 0.7985233530459308, Stdev: 0.006031576690396276 with: {'batch_size': 10, 'epochs': 5}\n",
      "Means: 0.8046287061154935, Stdev: 0.0040691759810969315 with: {'batch_size': 10, 'epochs': 6}\n",
      "Means: 0.7986653388079706, Stdev: 0.007583987546990879 with: {'batch_size': 10, 'epochs': 7}\n",
      "Means: 0.8037767964263844, Stdev: 0.0039817723579041115 with: {'batch_size': 10, 'epochs': 8}\n",
      "Means: 0.8002271731435009, Stdev: 0.007838815737788128 with: {'batch_size': 10, 'epochs': 9}\n",
      "Means: 0.7968195348948423, Stdev: 0.0014438747287277554 with: {'batch_size': 10, 'epochs': 10}\n",
      "Means: 0.8006531277553239, Stdev: 0.005009287761089869 with: {'batch_size': 10, 'epochs': 11}\n",
      "Means: 0.8027829017538282, Stdev: 0.005768278479146024 with: {'batch_size': 10, 'epochs': 12}\n",
      "Means: 0.7966775494036172, Stdev: 0.006480245129029531 with: {'batch_size': 10, 'epochs': 13}\n",
      "Means: 0.7907141820707054, Stdev: 0.005116399103415604 with: {'batch_size': 10, 'epochs': 14}\n",
      "Means: 0.7982393838830179, Stdev: 0.0034651650402003475 with: {'batch_size': 10, 'epochs': 15}\n",
      "Means: 0.7956836549172461, Stdev: 0.007290737238347665 with: {'batch_size': 10, 'epochs': 16}\n",
      "Means: 0.7949737304146953, Stdev: 0.0076479374297231135 with: {'batch_size': 10, 'epochs': 17}\n",
      "Means: 0.7998012186586222, Stdev: 0.0055643698108798845 with: {'batch_size': 10, 'epochs': 18}\n",
      "Means: 0.7980973994327374, Stdev: 0.0056298651314456265 with: {'batch_size': 10, 'epochs': 19}\n",
      "Means: 0.7925599862800375, Stdev: 0.002749962644850974 with: {'batch_size': 10, 'epochs': 20}\n",
      "Means: 0.79284395644158, Stdev: 0.0029270026569415903 with: {'batch_size': 10, 'epochs': 21}\n",
      "Means: 0.7966775486927284, Stdev: 0.007953308512893172 with: {'batch_size': 10, 'epochs': 22}\n",
      "Means: 0.7993752631666511, Stdev: 0.0059892273275702086 with: {'batch_size': 10, 'epochs': 23}\n",
      "Means: 0.7915660910489257, Stdev: 0.006753180730853131 with: {'batch_size': 10, 'epochs': 24}\n",
      "Means: 0.791140136564047, Stdev: 0.003487655737387293 with: {'batch_size': 10, 'epochs': 25}\n",
      "Means: 0.7927019709926699, Stdev: 0.007259395093487483 with: {'batch_size': 10, 'epochs': 26}\n",
      "Means: 0.7871645580515441, Stdev: 0.006083495814618504 with: {'batch_size': 10, 'epochs': 27}\n",
      "Means: 0.7911401367756211, Stdev: 0.003580448721681788 with: {'batch_size': 10, 'epochs': 28}\n",
      "Means: 0.783188980715393, Stdev: 0.005471763426941257 with: {'batch_size': 10, 'epochs': 29}\n",
      "Means: 0.7829050096737024, Stdev: 0.012065313248948035 with: {'batch_size': 10, 'epochs': 30}\n",
      "Means: 0.7917080768448173, Stdev: 0.005499091144587082 with: {'batch_size': 10, 'epochs': 31}\n",
      "Means: 0.7870225729326895, Stdev: 0.008651604404271242 with: {'batch_size': 10, 'epochs': 32}\n",
      "Means: 0.7857447085217388, Stdev: 0.009133753002693137 with: {'batch_size': 10, 'epochs': 33}\n",
      "Means: 0.786312649504935, Stdev: 0.004469190557824167 with: {'batch_size': 10, 'epochs': 34}\n",
      "Means: 0.7883004373351772, Stdev: 0.006260939500157344 with: {'batch_size': 10, 'epochs': 35}\n",
      "Means: 0.7838989049217401, Stdev: 0.007556254866370277 with: {'batch_size': 10, 'epochs': 36}\n",
      "Means: 0.78645463385366, Stdev: 0.005507677244627007 with: {'batch_size': 10, 'epochs': 37}\n",
      "Means: 0.7890103625655428, Stdev: 0.0057200253831048205 with: {'batch_size': 10, 'epochs': 38}\n",
      "Means: 0.7861706642675989, Stdev: 0.00556475674501763 with: {'batch_size': 10, 'epochs': 39}\n",
      "Means: 0.7766576726870257, Stdev: 0.008094748094454636 with: {'batch_size': 10, 'epochs': 40}\n",
      "Means: 0.797245490242943, Stdev: 0.008110381393543633 with: {'batch_size': 40, 'epochs': 5}\n",
      "Means: 0.7973874749301866, Stdev: 0.0062926431913382505 with: {'batch_size': 40, 'epochs': 6}\n",
      "Means: 0.7976714472582475, Stdev: 0.007295552911635768 with: {'batch_size': 40, 'epochs': 7}\n",
      "Means: 0.801363055346856, Stdev: 0.005547969782355879 with: {'batch_size': 40, 'epochs': 8}\n",
      "Means: 0.8030668750128149, Stdev: 0.0034384900231286945 with: {'batch_size': 40, 'epochs': 9}\n",
      "Means: 0.8000851911390164, Stdev: 0.011321540497609469 with: {'batch_size': 40, 'epochs': 10}\n",
      "Means: 0.7985233580475417, Stdev: 0.006426187060564254 with: {'batch_size': 40, 'epochs': 11}\n",
      "Means: 0.8027829056467909, Stdev: 0.006166973023074579 with: {'batch_size': 40, 'epochs': 12}\n",
      "Means: 0.8006531283646572, Stdev: 0.0033387011000070473 with: {'batch_size': 40, 'epochs': 13}\n",
      "Means: 0.797671447596766, Stdev: 0.008143546630071602 with: {'batch_size': 40, 'epochs': 14}\n",
      "Means: 0.8061905434299866, Stdev: 0.005068017859714484 with: {'batch_size': 40, 'epochs': 15}\n",
      "Means: 0.8022149645705022, Stdev: 0.006957932380827276 with: {'batch_size': 40, 'epochs': 16}\n",
      "Means: 0.7980974007529595, Stdev: 0.005768651373630292 with: {'batch_size': 40, 'epochs': 17}\n",
      "Means: 0.7951157159397721, Stdev: 0.004929854441746346 with: {'batch_size': 40, 'epochs': 18}\n",
      "Means: 0.8016470240866209, Stdev: 0.00964663966448674 with: {'batch_size': 40, 'epochs': 19}\n",
      "Means: 0.7982393849578141, Stdev: 0.003907119937373162 with: {'batch_size': 40, 'epochs': 20}\n",
      "Means: 0.7951157183094016, Stdev: 0.003893079156364399 with: {'batch_size': 40, 'epochs': 21}\n",
      "Means: 0.7948317469884333, Stdev: 0.003031732116652089 with: {'batch_size': 40, 'epochs': 22}\n",
      "Means: 0.8006531282292498, Stdev: 0.006401646022156035 with: {'batch_size': 40, 'epochs': 23}\n",
      "Means: 0.8003691596164294, Stdev: 0.008235721702058144 with: {'batch_size': 40, 'epochs': 24}\n",
      "Means: 0.7968195345901756, Stdev: 0.008365432598880958 with: {'batch_size': 40, 'epochs': 25}\n",
      "Means: 0.7966775530934689, Stdev: 0.007847427222948726 with: {'batch_size': 40, 'epochs': 26}\n",
      "Means: 0.795399687599259, Stdev: 0.0052745455872799775 with: {'batch_size': 40, 'epochs': 27}\n",
      "Means: 0.7949737334952137, Stdev: 0.008207322886786722 with: {'batch_size': 40, 'epochs': 28}\n",
      "Means: 0.7932699130845141, Stdev: 0.005911785999390607 with: {'batch_size': 40, 'epochs': 29}\n",
      "Means: 0.7978134328256391, Stdev: 0.006609704841794673 with: {'batch_size': 40, 'epochs': 30}\n",
      "Means: 0.796535566239707, Stdev: 0.00831043766213243 with: {'batch_size': 40, 'epochs': 31}\n",
      "Means: 0.7949737320057323, Stdev: 0.007513615364132111 with: {'batch_size': 40, 'epochs': 32}\n",
      "Means: 0.7992332831340369, Stdev: 0.004228348789391917 with: {'batch_size': 40, 'epochs': 33}\n",
      "Means: 0.7966775513924135, Stdev: 0.00790085872106152 with: {'batch_size': 40, 'epochs': 34}\n",
      "Means: 0.791566095034981, Stdev: 0.004842195541757204 with: {'batch_size': 40, 'epochs': 35}\n",
      "Means: 0.7912821229184942, Stdev: 0.004363024081816013 with: {'batch_size': 40, 'epochs': 36}\n",
      "Means: 0.7962515985154976, Stdev: 0.009560334137442643 with: {'batch_size': 40, 'epochs': 37}\n",
      "Means: 0.794405792207351, Stdev: 0.009880294690404556 with: {'batch_size': 40, 'epochs': 38}\n",
      "Means: 0.790146244523472, Stdev: 0.009161896859280467 with: {'batch_size': 40, 'epochs': 39}\n",
      "Means: 0.7929859431260827, Stdev: 0.0072117549468720885 with: {'batch_size': 40, 'epochs': 40}\n",
      "Means: 0.801647027886491, Stdev: 0.0034851360295861315 with: {'batch_size': 80, 'epochs': 5}\n",
      "Means: 0.7985233563549492, Stdev: 0.008371305782796578 with: {'batch_size': 80, 'epochs': 6}\n",
      "Means: 0.7959676270506589, Stdev: 0.006498462703549909 with: {'batch_size': 80, 'epochs': 7}\n",
      "Means: 0.8007951186628449, Stdev: 0.006493518762648182 with: {'batch_size': 80, 'epochs': 8}\n",
      "Means: 0.8039187848457944, Stdev: 0.006483063847179493 with: {'batch_size': 80, 'epochs': 9}\n",
      "Means: 0.798949310797513, Stdev: 0.00745760052283429 with: {'batch_size': 80, 'epochs': 10}\n",
      "Means: 0.8000851903942757, Stdev: 0.007835520623412674 with: {'batch_size': 80, 'epochs': 11}\n",
      "Means: 0.8007951168940857, Stdev: 0.008255996712796842 with: {'batch_size': 80, 'epochs': 12}\n",
      "Means: 0.797387477976853, Stdev: 0.003971513701180968 with: {'batch_size': 80, 'epochs': 13}\n",
      "Means: 0.8007951176388264, Stdev: 0.008567268166193125 with: {'batch_size': 80, 'epochs': 14}\n",
      "Means: 0.794973731193288, Stdev: 0.007861954545588978 with: {'batch_size': 80, 'epochs': 15}\n",
      "Means: 0.7986653427178593, Stdev: 0.0062976320107120355 with: {'batch_size': 80, 'epochs': 16}\n",
      "Means: 0.8012210714043533, Stdev: 0.010563652021364722 with: {'batch_size': 80, 'epochs': 17}\n",
      "Means: 0.8012210712858717, Stdev: 0.005774020327736882 with: {'batch_size': 80, 'epochs': 18}\n",
      "Means: 0.7986653423201, Stdev: 0.009927382139389975 with: {'batch_size': 80, 'epochs': 19}\n",
      "Means: 0.7996592360786564, Stdev: 0.006405672981395205 with: {'batch_size': 80, 'epochs': 20}\n",
      "Means: 0.8013630550760412, Stdev: 0.01184813462238866 with: {'batch_size': 80, 'epochs': 21}\n",
      "Means: 0.8016470271417503, Stdev: 0.004702227125173256 with: {'batch_size': 80, 'epochs': 22}\n",
      "Means: 0.8040607740607228, Stdev: 0.005819718032116315 with: {'batch_size': 80, 'epochs': 23}\n",
      "Means: 0.8020729801709994, Stdev: 0.0035831060139269004 with: {'batch_size': 80, 'epochs': 24}\n",
      "Means: 0.7996592358924712, Stdev: 0.008127353957475386 with: {'batch_size': 80, 'epochs': 25}\n",
      "Means: 0.7988073275997509, Stdev: 0.008049466211249882 with: {'batch_size': 80, 'epochs': 26}\n",
      "Means: 0.7975294617754854, Stdev: 0.005288067797802277 with: {'batch_size': 80, 'epochs': 27}\n",
      "Means: 0.7999432059186063, Stdev: 0.003963538887856598 with: {'batch_size': 80, 'epochs': 28}\n",
      "Means: 0.8003691604288738, Stdev: 0.007191199669648357 with: {'batch_size': 80, 'epochs': 29}\n",
      "Means: 0.7989493123546981, Stdev: 0.005656388663916159 with: {'batch_size': 80, 'epochs': 30}\n",
      "Means: 0.7969615235258263, Stdev: 0.004431442507942938 with: {'batch_size': 80, 'epochs': 31}\n",
      "Means: 0.7979554199417528, Stdev: 0.008005701385826366 with: {'batch_size': 80, 'epochs': 32}\n",
      "Means: 0.8009371009127552, Stdev: 0.0042940015833818 with: {'batch_size': 80, 'epochs': 33}\n",
      "Means: 0.7972454903191097, Stdev: 0.0056859043618831505 with: {'batch_size': 80, 'epochs': 34}\n",
      "Means: 0.7985233583098935, Stdev: 0.008706969084324395 with: {'batch_size': 80, 'epochs': 35}\n",
      "Means: 0.7996592349361564, Stdev: 0.005859356865424148 with: {'batch_size': 80, 'epochs': 36}\n",
      "Means: 0.7948317488248962, Stdev: 0.010675123210416778 with: {'batch_size': 80, 'epochs': 37}\n",
      "Means: 0.7985233568965788, Stdev: 0.00451430581648911 with: {'batch_size': 80, 'epochs': 38}\n",
      "Means: 0.7980973993311818, Stdev: 0.006460393145226303 with: {'batch_size': 80, 'epochs': 39}\n",
      "Means: 0.7966775522133208, Stdev: 0.006836827554882778 with: {'batch_size': 80, 'epochs': 40}\n",
      "Means: 0.8002271726949638, Stdev: 0.007262162957335563 with: {'batch_size': 100, 'epochs': 5}\n",
      "Means: 0.7945477721130206, Stdev: 0.00623256557601337 with: {'batch_size': 100, 'epochs': 6}\n",
      "Means: 0.8043447375703768, Stdev: 0.005774604435303827 with: {'batch_size': 100, 'epochs': 7}\n",
      "Means: 0.8002271715693898, Stdev: 0.003183085556237592 with: {'batch_size': 100, 'epochs': 8}\n",
      "Means: 0.8039187829416279, Stdev: 0.0060818294034632 with: {'batch_size': 100, 'epochs': 9}\n",
      "Means: 0.7980974003552003, Stdev: 0.00782841100760438 with: {'batch_size': 100, 'epochs': 10}\n",
      "Means: 0.7948317486471739, Stdev: 0.009882794765760499 with: {'batch_size': 100, 'epochs': 11}\n",
      "Means: 0.7992332765837039, Stdev: 0.008089682863343403 with: {'batch_size': 100, 'epochs': 12}\n",
      "Means: 0.7978134281879357, Stdev: 0.00541515618699464 with: {'batch_size': 100, 'epochs': 13}\n",
      "Means: 0.7973874719173719, Stdev: 0.002688764953334101 with: {'batch_size': 100, 'epochs': 14}\n",
      "Means: 0.7989493098158094, Stdev: 0.006784333450951875 with: {'batch_size': 100, 'epochs': 15}\n",
      "Means: 0.8024989311606745, Stdev: 0.006154976719190751 with: {'batch_size': 100, 'epochs': 16}\n",
      "Means: 0.8009371001426255, Stdev: 0.008334576707841084 with: {'batch_size': 100, 'epochs': 17}\n",
      "Means: 0.8000851886001277, Stdev: 0.008705237468452637 with: {'batch_size': 100, 'epochs': 18}\n",
      "Means: 0.7982393850255178, Stdev: 0.008500872689967626 with: {'batch_size': 100, 'epochs': 19}\n",
      "Means: 0.7995172517468573, Stdev: 0.007614295253833732 with: {'batch_size': 100, 'epochs': 20}\n",
      "Means: 0.7995172483616723, Stdev: 0.008533357525371986 with: {'batch_size': 100, 'epochs': 21}\n",
      "Means: 0.7978134281794727, Stdev: 0.0075190022955514265 with: {'batch_size': 100, 'epochs': 22}\n",
      "Means: 0.8005111419255805, Stdev: 0.0051514038744189285 with: {'batch_size': 100, 'epochs': 23}\n",
      "Means: 0.7963935789289451, Stdev: 0.005298599171232007 with: {'batch_size': 100, 'epochs': 24}\n",
      "Means: 0.7992332768968335, Stdev: 0.007337110988760204 with: {'batch_size': 100, 'epochs': 25}\n",
      "Means: 0.7996592348684527, Stdev: 0.00888358760179597 with: {'batch_size': 100, 'epochs': 26}\n",
      "Means: 0.7953996843833333, Stdev: 0.003759317069364967 with: {'batch_size': 100, 'epochs': 27}\n",
      "Means: 0.7995172483616723, Stdev: 0.005283097565093482 with: {'batch_size': 100, 'epochs': 28}\n",
      "Means: 0.7990912954847565, Stdev: 0.006762590385202768 with: {'batch_size': 100, 'epochs': 29}\n",
      "Means: 0.7990912920911085, Stdev: 0.006631794227809899 with: {'batch_size': 100, 'epochs': 30}\n",
      "Means: 0.8009370965035517, Stdev: 0.008864719673589278 with: {'batch_size': 100, 'epochs': 31}\n",
      "Means: 0.7969615181856969, Stdev: 0.005417331233678406 with: {'batch_size': 100, 'epochs': 32}\n",
      "Means: 0.7985233553647826, Stdev: 0.00394233426963625 with: {'batch_size': 100, 'epochs': 33}\n",
      "Means: 0.7979554161080308, Stdev: 0.008456479701793461 with: {'batch_size': 100, 'epochs': 34}\n",
      "Means: 0.8000851876099611, Stdev: 0.009668078594210537 with: {'batch_size': 100, 'epochs': 35}\n",
      "Means: 0.799517245949728, Stdev: 0.00448653926681961 with: {'batch_size': 100, 'epochs': 36}\n",
      "Means: 0.7971035072313661, Stdev: 0.006344873880479661 with: {'batch_size': 100, 'epochs': 37}\n",
      "Means: 0.7993752625573177, Stdev: 0.005671761258949419 with: {'batch_size': 100, 'epochs': 38}\n",
      "Means: 0.8005111430342285, Stdev: 0.005259668972280883 with: {'batch_size': 100, 'epochs': 39}\n",
      "Means: 0.8000851874830167, Stdev: 0.009770546383313487 with: {'batch_size': 100, 'epochs': 40}\n",
      "CPU times: user 9.68 s, sys: 1.35 s, total: 11 s\n",
      "Wall time: 40min 42s\n"
     ]
    }
   ],
   "source": [
    "%%time\n",
    "\n",
    "# Define the grid search parameters\n",
    "param_grid = {'batch_size': [10, 40, 80, 100],\n",
    "              'epochs': np.arange(5,41)}\n",
    "\n",
    "# Create Grid Search\n",
    "grid = GridSearchCV(estimator=model, \n",
    "                    param_grid=param_grid,\n",
    "                    cv=5,\n",
    "                    n_jobs=-1)\n",
    "\n",
    "grid_result = grid.fit(X, y, verbose=0)\n",
    "\n",
    "# Report Results\n",
    "print(f\"Best: {grid_result.best_score_} using {grid_result.best_params_}\")\n",
    "means = grid_result.cv_results_['mean_test_score']\n",
    "stds = grid_result.cv_results_['std_test_score']\n",
    "params = grid_result.cv_results_['params']\n",
    "for mean, stdev, param in zip(means, stds, params):\n",
    "    print(f\"Means: {mean}, Stdev: {stdev} with: {param}\")"
   ]
  },
  {
   "cell_type": "markdown",
   "metadata": {},
   "source": [
    "#### How'd it do?\n",
    "\n",
    "**Wall time: 28min 45s**\n",
    "\n",
    "Woof\n",
    "\n",
    "##### Model performance is slightly better than gradient boosting. That's nice. "
   ]
  },
  {
   "cell_type": "code",
   "execution_count": 256,
   "metadata": {},
   "outputs": [
    {
     "name": "stdout",
     "output_type": "stream",
     "text": [
      "Train on 5634 samples, validate on 1409 samples\n",
      "Epoch 1/15\n",
      "5634/5634 [==============================] - 3s 464us/step - loss: 0.5133 - acc: 0.7435 - val_loss: 0.4614 - val_acc: 0.7708\n",
      "Epoch 2/15\n",
      "5634/5634 [==============================] - 0s 59us/step - loss: 0.4329 - acc: 0.7932 - val_loss: 0.4484 - val_acc: 0.7835\n",
      "Epoch 3/15\n",
      "5634/5634 [==============================] - 0s 57us/step - loss: 0.4224 - acc: 0.8026 - val_loss: 0.4390 - val_acc: 0.7963\n",
      "Epoch 4/15\n",
      "5634/5634 [==============================] - 0s 57us/step - loss: 0.4172 - acc: 0.8056 - val_loss: 0.4375 - val_acc: 0.8034\n",
      "Epoch 5/15\n",
      "5634/5634 [==============================] - 0s 57us/step - loss: 0.4129 - acc: 0.8080 - val_loss: 0.4334 - val_acc: 0.8027\n",
      "Epoch 6/15\n",
      "5634/5634 [==============================] - 0s 59us/step - loss: 0.4112 - acc: 0.8078 - val_loss: 0.4306 - val_acc: 0.8006\n",
      "Epoch 7/15\n",
      "5634/5634 [==============================] - 0s 57us/step - loss: 0.4085 - acc: 0.8094 - val_loss: 0.4289 - val_acc: 0.8013\n",
      "Epoch 8/15\n",
      "5634/5634 [==============================] - 0s 56us/step - loss: 0.4063 - acc: 0.8088 - val_loss: 0.4317 - val_acc: 0.8034\n",
      "Epoch 9/15\n",
      "5634/5634 [==============================] - 0s 60us/step - loss: 0.4047 - acc: 0.8163 - val_loss: 0.4323 - val_acc: 0.7928\n",
      "Epoch 10/15\n",
      "5634/5634 [==============================] - 0s 59us/step - loss: 0.4052 - acc: 0.8115 - val_loss: 0.4278 - val_acc: 0.7999\n",
      "Epoch 11/15\n",
      "5634/5634 [==============================] - 0s 55us/step - loss: 0.4018 - acc: 0.8119 - val_loss: 0.4276 - val_acc: 0.8034\n",
      "Epoch 12/15\n",
      "5634/5634 [==============================] - 0s 69us/step - loss: 0.4000 - acc: 0.8170 - val_loss: 0.4282 - val_acc: 0.8020\n",
      "Epoch 13/15\n",
      "5634/5634 [==============================] - 0s 69us/step - loss: 0.3989 - acc: 0.8174 - val_loss: 0.4279 - val_acc: 0.8013\n",
      "Epoch 14/15\n",
      "5634/5634 [==============================] - 0s 66us/step - loss: 0.3981 - acc: 0.8163 - val_loss: 0.4294 - val_acc: 0.7942\n",
      "Epoch 15/15\n",
      "5634/5634 [==============================] - 0s 57us/step - loss: 0.3968 - acc: 0.8161 - val_loss: 0.4291 - val_acc: 0.7991\n"
     ]
    }
   ],
   "source": [
    "# I want to look at the loss functions\n",
    "\n",
    "best_batch = grid_result.best_params_['batch_size']\n",
    "best_epoch = grid_result.best_params_['epochs']\n",
    "\n",
    "optimal_model = create_model()\n",
    "\n",
    "opt = optimal_model.fit(X, y,\n",
    "                        epochs=best_epoch,\n",
    "                        batch_size=best_batch,\n",
    "                        validation_split=.2,\n",
    "                        verbose=1)"
   ]
  },
  {
   "cell_type": "code",
   "execution_count": 257,
   "metadata": {},
   "outputs": [
    {
     "data": {
      "image/png": "[encoded data removed]",
      "text/plain": [
       "<Figure size 432x288 with 1 Axes>"
      ]
     },
     "metadata": {
      "needs_background": "light"
     },
     "output_type": "display_data"
    }
   ],
   "source": [
    "# Plot training & validation loss values\n",
    "plt.plot(opt.history['loss'])\n",
    "plt.plot(opt.history['val_loss'])\n",
    "plt.title('Model loss')\n",
    "plt.ylabel('Loss')\n",
    "plt.xlabel('Epoch')\n",
    "plt.legend(['Train', 'Val'], loc='upper left')\n",
    "plt.show()"
   ]
  },
  {
   "cell_type": "code",
   "execution_count": 258,
   "metadata": {},
   "outputs": [
    {
     "name": "stdout",
     "output_type": "stream",
     "text": [
      "Epoch 1/15\n",
      "4930/4930 [==============================] - 0s 56us/step - loss: 0.4071 - acc: 0.8134\n",
      "Epoch 2/15\n",
      "4930/4930 [==============================] - 0s 55us/step - loss: 0.4058 - acc: 0.8103\n",
      "Epoch 3/15\n",
      "4930/4930 [==============================] - 0s 55us/step - loss: 0.4031 - acc: 0.8154\n",
      "Epoch 4/15\n",
      "4930/4930 [==============================] - 0s 53us/step - loss: 0.4017 - acc: 0.8138\n",
      "Epoch 5/15\n",
      "4930/4930 [==============================] - 0s 56us/step - loss: 0.4005 - acc: 0.8168\n",
      "Epoch 6/15\n",
      "4930/4930 [==============================] - 0s 51us/step - loss: 0.3982 - acc: 0.8162\n",
      "Epoch 7/15\n",
      "4930/4930 [==============================] - 0s 48us/step - loss: 0.3975 - acc: 0.8174\n",
      "Epoch 8/15\n",
      "4930/4930 [==============================] - 0s 51us/step - loss: 0.3961 - acc: 0.8140\n",
      "Epoch 9/15\n",
      "4930/4930 [==============================] - 0s 54us/step - loss: 0.3949 - acc: 0.8174\n",
      "Epoch 10/15\n",
      "4930/4930 [==============================] - 0s 46us/step - loss: 0.3947 - acc: 0.8189\n",
      "Epoch 11/15\n",
      "4930/4930 [==============================] - 0s 54us/step - loss: 0.3926 - acc: 0.8183\n",
      "Epoch 12/15\n",
      "4930/4930 [==============================] - 0s 52us/step - loss: 0.3904 - acc: 0.8189\n",
      "Epoch 13/15\n",
      "4930/4930 [==============================] - 0s 59us/step - loss: 0.3903 - acc: 0.8185\n",
      "Epoch 14/15\n",
      "4930/4930 [==============================] - 0s 47us/step - loss: 0.3886 - acc: 0.8191\n",
      "Epoch 15/15\n",
      "4930/4930 [==============================] - 0s 56us/step - loss: 0.3881 - acc: 0.8227\n"
     ]
    },
    {
     "data": {
      "text/plain": [
       "<keras.callbacks.History at 0x1a4921e940>"
      ]
     },
     "execution_count": 258,
     "metadata": {},
     "output_type": "execute_result"
    }
   ],
   "source": [
    "optimal_model.fit(X_train, y_train,\n",
    "                 epochs=best_epoch,\n",
    "                 batch_size=best_batch,\n",
    "                 verbose=1)"
   ]
  },
  {
   "cell_type": "code",
   "execution_count": 259,
   "metadata": {},
   "outputs": [
    {
     "name": "stdout",
     "output_type": "stream",
     "text": [
      "2113/2113 [==============================] - 0s 63us/step\n",
      "Neural Network ACC:  0.807382867960246\n"
     ]
    }
   ],
   "source": [
    "scores = optimal_model.evaluate(X_test, y_test)\n",
    "\n",
    "print('Neural Network ACC: ', scores[1])"
   ]
  },
  {
   "cell_type": "markdown",
   "metadata": {},
   "source": [
    "## Other Strategies\n",
    "\n",
    "So that was computationally expensive and established a couple things\n",
    "\n",
    "- low epoch and batch size are optimal\n",
    "- the training data is overfitting compared to the validation data\n",
    "\n",
    "\n",
    "Therefore the next steps are:\n",
    "\n",
    "- Apply Dropout Layers to prevent overfitting\n",
    "- Random Search CV with lots of hyper-parameter (TURN ALL THE KNOBS!)\n",
    "- Bayes SMBO on the narrowed down section"
   ]
  },
  {
   "cell_type": "code",
   "execution_count": 260,
   "metadata": {},
   "outputs": [],
   "source": [
    "from keras.layers import Dropout\n",
    "from keras.optimizers import SGD\n",
    "from keras.optimizers import Adam"
   ]
  },
  {
   "cell_type": "code",
   "execution_count": 277,
   "metadata": {},
   "outputs": [],
   "source": [
    "# Define model function for Keras Classifier Object\n",
    "def create_drop_model():\n",
    "    # create model\n",
    "    model = Sequential()\n",
    "    # Input and First Dropout Layer\n",
    "    model.add(Dropout(0.3, input_dim=X.shape[1]))\n",
    "    # Second Hidden Layer\n",
    "    model.add(Dense(32, activation='relu'))\n",
    "    # Second Dropout\n",
    "    model.add.Dropout(0.3)\n",
    "    # Second Hidden Layer\n",
    "    model.add(Dense(16, activation='relu'))\n",
    "    # Second Dropout\n",
    "    model.add.Dropout(0.3)\n",
    "    # Third Hidden Layer\n",
    "    model.add(Dense(16, activation='relu'))\n",
    "    # Output Layer\n",
    "    model.add(Dense(1, activation='sigmoid'))\n",
    "    # Compile model\n",
    "    \n",
    "    sgd = SGD(lr=0.0001, momentum=0.5, decay=0, nesterov=False)\n",
    "    adam = Adam(lr=0.0000001, beta_1=0.9, beta_2=0.999, epsilon=None, decay=10, amsgrad=False)\n",
    "\n",
    "    \n",
    "    \n",
    "    model.compile(loss='binary_crossentropy', \n",
    "                  optimizer='adam', \n",
    "                  metrics=['accuracy'])\n",
    "\n",
    "    return model\n",
    "\n",
    "drop_model = KerasClassifier(build_fn=create_model, verbose=1)"
   ]
  },
  {
   "cell_type": "code",
   "execution_count": 278,
   "metadata": {},
   "outputs": [
    {
     "name": "stdout",
     "output_type": "stream",
     "text": [
      "Train on 5634 samples, validate on 1409 samples\n",
      "Epoch 1/100\n",
      "5634/5634 [==============================] - 3s 521us/step - loss: 0.4801 - acc: 0.7561 - val_loss: 0.4527 - val_acc: 0.7800\n",
      "Epoch 2/100\n",
      "5634/5634 [==============================] - 0s 65us/step - loss: 0.4306 - acc: 0.7945 - val_loss: 0.4457 - val_acc: 0.7956\n",
      "Epoch 3/100\n",
      "5634/5634 [==============================] - 0s 64us/step - loss: 0.4221 - acc: 0.8007 - val_loss: 0.4388 - val_acc: 0.8006\n",
      "Epoch 4/100\n",
      "5634/5634 [==============================] - 0s 69us/step - loss: 0.4171 - acc: 0.8030 - val_loss: 0.4401 - val_acc: 0.7977\n",
      "Epoch 5/100\n",
      "5634/5634 [==============================] - 0s 71us/step - loss: 0.4128 - acc: 0.8072 - val_loss: 0.4358 - val_acc: 0.7977\n",
      "Epoch 6/100\n",
      "5634/5634 [==============================] - 0s 72us/step - loss: 0.4110 - acc: 0.8051 - val_loss: 0.4402 - val_acc: 0.7963\n",
      "Epoch 7/100\n",
      "5634/5634 [==============================] - 0s 56us/step - loss: 0.4085 - acc: 0.8067 - val_loss: 0.4404 - val_acc: 0.7949\n",
      "Epoch 8/100\n",
      "5634/5634 [==============================] - 0s 66us/step - loss: 0.4072 - acc: 0.8083 - val_loss: 0.4380 - val_acc: 0.7963\n",
      "Epoch 9/100\n",
      "5634/5634 [==============================] - 0s 58us/step - loss: 0.4052 - acc: 0.8111 - val_loss: 0.4398 - val_acc: 0.7963\n",
      "Epoch 10/100\n",
      "5634/5634 [==============================] - 0s 61us/step - loss: 0.4043 - acc: 0.8111 - val_loss: 0.4371 - val_acc: 0.7963\n",
      "Epoch 11/100\n",
      "5634/5634 [==============================] - 0s 62us/step - loss: 0.4027 - acc: 0.8113 - val_loss: 0.4372 - val_acc: 0.7963\n",
      "Epoch 12/100\n",
      "5634/5634 [==============================] - 0s 60us/step - loss: 0.4016 - acc: 0.8120 - val_loss: 0.4370 - val_acc: 0.7970\n",
      "Epoch 13/100\n",
      "5634/5634 [==============================] - 0s 57us/step - loss: 0.4010 - acc: 0.8103 - val_loss: 0.4383 - val_acc: 0.8013\n",
      "Epoch 14/100\n",
      "5634/5634 [==============================] - 0s 69us/step - loss: 0.3995 - acc: 0.8149 - val_loss: 0.4399 - val_acc: 0.7935\n",
      "Epoch 15/100\n",
      "5634/5634 [==============================] - 0s 74us/step - loss: 0.3985 - acc: 0.8122 - val_loss: 0.4372 - val_acc: 0.7991\n",
      "Epoch 16/100\n",
      "5634/5634 [==============================] - 0s 67us/step - loss: 0.3977 - acc: 0.8149 - val_loss: 0.4378 - val_acc: 0.8006\n",
      "Epoch 17/100\n",
      "5634/5634 [==============================] - 0s 59us/step - loss: 0.3963 - acc: 0.8156 - val_loss: 0.4387 - val_acc: 0.7970\n",
      "Epoch 18/100\n",
      "5634/5634 [==============================] - 0s 59us/step - loss: 0.3958 - acc: 0.8166 - val_loss: 0.4414 - val_acc: 0.7956\n",
      "Epoch 19/100\n",
      "5634/5634 [==============================] - 0s 64us/step - loss: 0.3947 - acc: 0.8170 - val_loss: 0.4385 - val_acc: 0.7999\n",
      "Epoch 20/100\n",
      "5634/5634 [==============================] - 0s 64us/step - loss: 0.3939 - acc: 0.8170 - val_loss: 0.4402 - val_acc: 0.7977\n",
      "Epoch 21/100\n",
      "5634/5634 [==============================] - 0s 60us/step - loss: 0.3928 - acc: 0.8174 - val_loss: 0.4416 - val_acc: 0.7999\n",
      "Epoch 22/100\n",
      "5634/5634 [==============================] - 0s 66us/step - loss: 0.3924 - acc: 0.8156 - val_loss: 0.4383 - val_acc: 0.8055\n",
      "Epoch 23/100\n",
      "5634/5634 [==============================] - 0s 70us/step - loss: 0.3906 - acc: 0.8177 - val_loss: 0.4414 - val_acc: 0.8013\n",
      "Epoch 24/100\n",
      "5634/5634 [==============================] - 0s 69us/step - loss: 0.3898 - acc: 0.8188 - val_loss: 0.4391 - val_acc: 0.8055\n",
      "Epoch 25/100\n",
      "5634/5634 [==============================] - 0s 65us/step - loss: 0.3887 - acc: 0.8211 - val_loss: 0.4395 - val_acc: 0.7999\n",
      "Epoch 26/100\n",
      "5634/5634 [==============================] - 0s 66us/step - loss: 0.3880 - acc: 0.8202 - val_loss: 0.4389 - val_acc: 0.8055\n",
      "Epoch 27/100\n",
      "5634/5634 [==============================] - 0s 72us/step - loss: 0.3874 - acc: 0.8191 - val_loss: 0.4423 - val_acc: 0.8027\n",
      "Epoch 28/100\n",
      "5634/5634 [==============================] - 0s 69us/step - loss: 0.3864 - acc: 0.8191 - val_loss: 0.4418 - val_acc: 0.8013\n",
      "Epoch 29/100\n",
      "5634/5634 [==============================] - 0s 78us/step - loss: 0.3854 - acc: 0.8211 - val_loss: 0.4441 - val_acc: 0.8013\n",
      "Epoch 30/100\n",
      "5634/5634 [==============================] - 0s 71us/step - loss: 0.3840 - acc: 0.8214 - val_loss: 0.4445 - val_acc: 0.8034\n",
      "Epoch 31/100\n",
      "5634/5634 [==============================] - 0s 60us/step - loss: 0.3829 - acc: 0.8253 - val_loss: 0.4487 - val_acc: 0.8062\n",
      "Epoch 32/100\n",
      "5634/5634 [==============================] - 0s 61us/step - loss: 0.3819 - acc: 0.8214 - val_loss: 0.4447 - val_acc: 0.8013\n",
      "Epoch 33/100\n",
      "5634/5634 [==============================] - 0s 66us/step - loss: 0.3811 - acc: 0.8229 - val_loss: 0.4432 - val_acc: 0.8020\n",
      "Epoch 34/100\n",
      "5634/5634 [==============================] - 0s 59us/step - loss: 0.3799 - acc: 0.8241 - val_loss: 0.4495 - val_acc: 0.8027\n",
      "Epoch 35/100\n",
      "5634/5634 [==============================] - 0s 60us/step - loss: 0.3794 - acc: 0.8246 - val_loss: 0.4463 - val_acc: 0.8006\n",
      "Epoch 36/100\n",
      "5634/5634 [==============================] - 0s 69us/step - loss: 0.3789 - acc: 0.8253 - val_loss: 0.4525 - val_acc: 0.8013\n",
      "Epoch 37/100\n",
      "5634/5634 [==============================] - 0s 58us/step - loss: 0.3783 - acc: 0.8243 - val_loss: 0.4500 - val_acc: 0.8006\n",
      "Epoch 38/100\n",
      "5634/5634 [==============================] - 0s 63us/step - loss: 0.3769 - acc: 0.8257 - val_loss: 0.4527 - val_acc: 0.7991\n",
      "Epoch 39/100\n",
      "5634/5634 [==============================] - 0s 60us/step - loss: 0.3767 - acc: 0.8213 - val_loss: 0.4505 - val_acc: 0.7999\n",
      "Epoch 40/100\n",
      "5634/5634 [==============================] - 0s 56us/step - loss: 0.3747 - acc: 0.8278 - val_loss: 0.4540 - val_acc: 0.7970\n",
      "Epoch 41/100\n",
      "5634/5634 [==============================] - 0s 63us/step - loss: 0.3755 - acc: 0.8252 - val_loss: 0.4564 - val_acc: 0.7970\n",
      "Epoch 42/100\n",
      "5634/5634 [==============================] - 0s 59us/step - loss: 0.3737 - acc: 0.8253 - val_loss: 0.4523 - val_acc: 0.7991\n",
      "Epoch 43/100\n",
      "5634/5634 [==============================] - 0s 57us/step - loss: 0.3727 - acc: 0.8230 - val_loss: 0.4553 - val_acc: 0.7984\n",
      "Epoch 44/100\n",
      "5634/5634 [==============================] - 0s 63us/step - loss: 0.3724 - acc: 0.8237 - val_loss: 0.4558 - val_acc: 0.7928\n",
      "Epoch 45/100\n",
      "5634/5634 [==============================] - 0s 58us/step - loss: 0.3718 - acc: 0.8245 - val_loss: 0.4550 - val_acc: 0.7956\n",
      "Epoch 46/100\n",
      "5634/5634 [==============================] - 0s 56us/step - loss: 0.3720 - acc: 0.8252 - val_loss: 0.4562 - val_acc: 0.7970\n",
      "Epoch 47/100\n",
      "5634/5634 [==============================] - 0s 65us/step - loss: 0.3707 - acc: 0.8264 - val_loss: 0.4595 - val_acc: 0.7921\n",
      "Epoch 48/100\n",
      "5634/5634 [==============================] - 0s 60us/step - loss: 0.3699 - acc: 0.8257 - val_loss: 0.4604 - val_acc: 0.7949\n",
      "Epoch 49/100\n",
      "5634/5634 [==============================] - 0s 58us/step - loss: 0.3684 - acc: 0.8275 - val_loss: 0.4605 - val_acc: 0.7899\n",
      "Epoch 50/100\n",
      "5634/5634 [==============================] - 0s 63us/step - loss: 0.3681 - acc: 0.8289 - val_loss: 0.4613 - val_acc: 0.7921\n",
      "Epoch 51/100\n",
      "5634/5634 [==============================] - 0s 59us/step - loss: 0.3670 - acc: 0.8261 - val_loss: 0.4675 - val_acc: 0.7878\n",
      "Epoch 52/100\n",
      "5634/5634 [==============================] - 0s 60us/step - loss: 0.3658 - acc: 0.8268 - val_loss: 0.4737 - val_acc: 0.7913\n",
      "Epoch 53/100\n",
      "5634/5634 [==============================] - 0s 62us/step - loss: 0.3663 - acc: 0.8266 - val_loss: 0.4651 - val_acc: 0.7892\n",
      "Epoch 54/100\n",
      "5634/5634 [==============================] - 0s 59us/step - loss: 0.3654 - acc: 0.8285 - val_loss: 0.4677 - val_acc: 0.7906\n",
      "Epoch 55/100\n",
      "5634/5634 [==============================] - 0s 56us/step - loss: 0.3647 - acc: 0.8269 - val_loss: 0.4684 - val_acc: 0.7913\n",
      "Epoch 56/100\n",
      "5634/5634 [==============================] - 0s 60us/step - loss: 0.3633 - acc: 0.8293 - val_loss: 0.4709 - val_acc: 0.7892\n",
      "Epoch 57/100\n",
      "5634/5634 [==============================] - 0s 59us/step - loss: 0.3643 - acc: 0.8294 - val_loss: 0.4678 - val_acc: 0.7913\n",
      "Epoch 58/100\n",
      "5634/5634 [==============================] - 0s 57us/step - loss: 0.3625 - acc: 0.8275 - val_loss: 0.4657 - val_acc: 0.7885\n",
      "Epoch 59/100\n",
      "5634/5634 [==============================] - 0s 64us/step - loss: 0.3619 - acc: 0.8284 - val_loss: 0.4671 - val_acc: 0.7871\n",
      "Epoch 60/100\n",
      "5634/5634 [==============================] - 0s 58us/step - loss: 0.3617 - acc: 0.8287 - val_loss: 0.4706 - val_acc: 0.7871\n",
      "Epoch 61/100\n",
      "5634/5634 [==============================] - 0s 57us/step - loss: 0.3597 - acc: 0.8326 - val_loss: 0.4716 - val_acc: 0.7857\n",
      "Epoch 62/100\n",
      "5634/5634 [==============================] - 0s 63us/step - loss: 0.3595 - acc: 0.8314 - val_loss: 0.4756 - val_acc: 0.7892\n",
      "Epoch 63/100\n",
      "5634/5634 [==============================] - 0s 59us/step - loss: 0.3599 - acc: 0.8287 - val_loss: 0.4705 - val_acc: 0.7892\n",
      "Epoch 64/100\n",
      "5634/5634 [==============================] - 0s 58us/step - loss: 0.3588 - acc: 0.8317 - val_loss: 0.4741 - val_acc: 0.7878\n",
      "Epoch 65/100\n",
      "5634/5634 [==============================] - 0s 63us/step - loss: 0.3588 - acc: 0.8314 - val_loss: 0.4707 - val_acc: 0.7878\n",
      "Epoch 66/100\n",
      "5634/5634 [==============================] - 0s 58us/step - loss: 0.3589 - acc: 0.8289 - val_loss: 0.4746 - val_acc: 0.7842\n",
      "Epoch 67/100\n",
      "5634/5634 [==============================] - 0s 57us/step - loss: 0.3577 - acc: 0.8324 - val_loss: 0.4748 - val_acc: 0.7885\n",
      "Epoch 68/100\n",
      "5634/5634 [==============================] - 0s 64us/step - loss: 0.3556 - acc: 0.8330 - val_loss: 0.4771 - val_acc: 0.7892\n",
      "Epoch 69/100\n",
      "5634/5634 [==============================] - 0s 60us/step - loss: 0.3570 - acc: 0.8319 - val_loss: 0.4784 - val_acc: 0.7857\n",
      "Epoch 70/100\n",
      "5634/5634 [==============================] - 0s 56us/step - loss: 0.3565 - acc: 0.8307 - val_loss: 0.4808 - val_acc: 0.7828\n",
      "Epoch 71/100\n",
      "5634/5634 [==============================] - 0s 63us/step - loss: 0.3550 - acc: 0.8351 - val_loss: 0.4779 - val_acc: 0.7828\n",
      "Epoch 72/100\n",
      "5634/5634 [==============================] - 0s 60us/step - loss: 0.3547 - acc: 0.8319 - val_loss: 0.4779 - val_acc: 0.7885\n",
      "Epoch 73/100\n",
      "5634/5634 [==============================] - 0s 60us/step - loss: 0.3547 - acc: 0.8332 - val_loss: 0.4835 - val_acc: 0.7857\n",
      "Epoch 74/100\n",
      "5634/5634 [==============================] - 0s 64us/step - loss: 0.3538 - acc: 0.8364 - val_loss: 0.4785 - val_acc: 0.7821\n",
      "Epoch 75/100\n",
      "5634/5634 [==============================] - 0s 59us/step - loss: 0.3524 - acc: 0.8362 - val_loss: 0.4846 - val_acc: 0.7842\n",
      "Epoch 76/100\n",
      "5634/5634 [==============================] - 0s 58us/step - loss: 0.3531 - acc: 0.8324 - val_loss: 0.4821 - val_acc: 0.7786\n",
      "Epoch 77/100\n",
      "5634/5634 [==============================] - 0s 65us/step - loss: 0.3511 - acc: 0.8364 - val_loss: 0.4853 - val_acc: 0.7786\n",
      "Epoch 78/100\n",
      "5634/5634 [==============================] - 0s 59us/step - loss: 0.3521 - acc: 0.8323 - val_loss: 0.4849 - val_acc: 0.7800\n",
      "Epoch 79/100\n",
      "5634/5634 [==============================] - 0s 58us/step - loss: 0.3509 - acc: 0.8356 - val_loss: 0.4879 - val_acc: 0.7793\n",
      "Epoch 80/100\n",
      "5634/5634 [==============================] - 0s 59us/step - loss: 0.3490 - acc: 0.8360 - val_loss: 0.4908 - val_acc: 0.7743\n",
      "Epoch 81/100\n",
      "5634/5634 [==============================] - 0s 61us/step - loss: 0.3496 - acc: 0.8374 - val_loss: 0.4857 - val_acc: 0.7793\n",
      "Epoch 82/100\n",
      "5634/5634 [==============================] - 0s 68us/step - loss: 0.3489 - acc: 0.8397 - val_loss: 0.4906 - val_acc: 0.7793\n",
      "Epoch 83/100\n",
      "5634/5634 [==============================] - 0s 78us/step - loss: 0.3491 - acc: 0.8404 - val_loss: 0.4860 - val_acc: 0.7793\n",
      "Epoch 84/100\n",
      "5634/5634 [==============================] - 0s 65us/step - loss: 0.3469 - acc: 0.8374 - val_loss: 0.4948 - val_acc: 0.7637\n",
      "Epoch 85/100\n",
      "5634/5634 [==============================] - 0s 67us/step - loss: 0.3469 - acc: 0.8403 - val_loss: 0.4931 - val_acc: 0.7786\n",
      "Epoch 86/100\n",
      "5634/5634 [==============================] - 0s 63us/step - loss: 0.3470 - acc: 0.8381 - val_loss: 0.4915 - val_acc: 0.7835\n",
      "Epoch 87/100\n",
      "5634/5634 [==============================] - 0s 60us/step - loss: 0.3472 - acc: 0.8367 - val_loss: 0.4901 - val_acc: 0.7764\n",
      "Epoch 88/100\n",
      "5634/5634 [==============================] - 0s 65us/step - loss: 0.3460 - acc: 0.8394 - val_loss: 0.4901 - val_acc: 0.7793\n",
      "Epoch 89/100\n",
      "5634/5634 [==============================] - 0s 58us/step - loss: 0.3451 - acc: 0.8413 - val_loss: 0.4883 - val_acc: 0.7807\n",
      "Epoch 90/100\n",
      "5634/5634 [==============================] - 0s 55us/step - loss: 0.3446 - acc: 0.8381 - val_loss: 0.4911 - val_acc: 0.7764\n",
      "Epoch 91/100\n",
      "5634/5634 [==============================] - 0s 63us/step - loss: 0.3441 - acc: 0.8422 - val_loss: 0.4922 - val_acc: 0.7786\n",
      "Epoch 92/100\n",
      "5634/5634 [==============================] - 0s 59us/step - loss: 0.3436 - acc: 0.8415 - val_loss: 0.4989 - val_acc: 0.7750\n",
      "Epoch 93/100\n",
      "5634/5634 [==============================] - 0s 58us/step - loss: 0.3453 - acc: 0.8392 - val_loss: 0.4934 - val_acc: 0.7821\n",
      "Epoch 94/100\n",
      "5634/5634 [==============================] - 0s 64us/step - loss: 0.3436 - acc: 0.8443 - val_loss: 0.5011 - val_acc: 0.7757\n",
      "Epoch 95/100\n",
      "5634/5634 [==============================] - 0s 57us/step - loss: 0.3431 - acc: 0.8452 - val_loss: 0.4948 - val_acc: 0.7750\n",
      "Epoch 96/100\n",
      "5634/5634 [==============================] - 0s 56us/step - loss: 0.3420 - acc: 0.8411 - val_loss: 0.4966 - val_acc: 0.7771\n",
      "Epoch 97/100\n",
      "5634/5634 [==============================] - 0s 62us/step - loss: 0.3421 - acc: 0.8390 - val_loss: 0.5030 - val_acc: 0.7743\n",
      "Epoch 98/100\n",
      "5634/5634 [==============================] - 0s 70us/step - loss: 0.3411 - acc: 0.8420 - val_loss: 0.5081 - val_acc: 0.7637\n",
      "Epoch 99/100\n",
      "5634/5634 [==============================] - 0s 73us/step - loss: 0.3434 - acc: 0.8397 - val_loss: 0.5045 - val_acc: 0.7722\n",
      "Epoch 100/100\n",
      "5634/5634 [==============================] - 0s 61us/step - loss: 0.3392 - acc: 0.8419 - val_loss: 0.5055 - val_acc: 0.7736\n"
     ]
    }
   ],
   "source": [
    "d_model = drop_model.fit(X, y,\n",
    "                         epochs=100,\n",
    "                         batch_size=best_batch,\n",
    "                         validation_split=.2,\n",
    "                         verbose=1)"
   ]
  },
  {
   "cell_type": "code",
   "execution_count": 279,
   "metadata": {},
   "outputs": [
    {
     "data": {
      "image/png": "[encoded data removed]",
      "text/plain": [
       "<Figure size 432x288 with 1 Axes>"
      ]
     },
     "metadata": {
      "needs_background": "light"
     },
     "output_type": "display_data"
    }
   ],
   "source": [
    "# Plot training & validation loss values\n",
    "plt.plot(d_model.history['loss'])\n",
    "plt.plot(d_model.history['val_loss'])\n",
    "plt.title('Model loss')\n",
    "plt.ylabel('Loss')\n",
    "plt.xlabel('Epoch')\n",
    "plt.legend(['Train', 'Val'], loc='upper left')\n",
    "plt.show()"
   ]
  },
  {
   "cell_type": "code",
   "execution_count": 280,
   "metadata": {},
   "outputs": [
    {
     "data": {
      "image/png": "[encoded data removed]",
      "text/plain": [
       "<Figure size 432x288 with 1 Axes>"
      ]
     },
     "metadata": {
      "needs_background": "light"
     },
     "output_type": "display_data"
    }
   ],
   "source": [
    "plt.plot(d_model.history['acc'])\n",
    "plt.plot(d_model.history['val_acc'])\n",
    "plt.title('Model Accuracy')\n",
    "plt.ylabel('Accuracy')\n",
    "plt.xlabel('Epoch')\n",
    "plt.legend(['Train', 'Val'], loc='upper left')\n",
    "plt.show()"
   ]
  },
  {
   "cell_type": "markdown",
   "metadata": {},
   "source": [
    "## On Overfitting\n",
    "\n",
    "There is an exceptional amount of overfitting in this dataset. After applying overfitting prevention measures such as dropout layers and max feature weights, I have found that it still does not decrease overfitting. \n",
    "\n",
    "I am going to move on to some Random Searches and Bayes Searches\n",
    "\n",
    "## Better Searching\n",
    "\n",
    "\n",
    "#### Random Search"
   ]
  },
  {
   "cell_type": "code",
   "execution_count": 290,
   "metadata": {},
   "outputs": [],
   "source": [
    "import random\n",
    "\n",
    "from sklearn.model_selection import RandomizedSearchCV"
   ]
  },
  {
   "cell_type": "code",
   "execution_count": 296,
   "metadata": {},
   "outputs": [],
   "source": [
    "# Define model function for Keras Classifier Object\n",
    "def r_create_model():\n",
    "    # create model\n",
    "    model = Sequential()\n",
    "    # Input and First Hidden Layer\n",
    "    model.add(Dense(32, input_dim=X.shape[1], activation='relu'))\n",
    "    # Second Hidden Layer\n",
    "    model.add(Dense(16, activation='relu'))\n",
    "    # Output Layer\n",
    "    model.add(Dense(1, activation='sigmoid'))\n",
    "    # Compile model\n",
    "    model.compile(loss='binary_crossentropy', \n",
    "                  optimizer='adam', \n",
    "                  metrics=['accuracy'])\n",
    "\n",
    "    return model"
   ]
  },
  {
   "cell_type": "code",
   "execution_count": 298,
   "metadata": {},
   "outputs": [
    {
     "name": "stderr",
     "output_type": "stream",
     "text": [
      "/anaconda3/envs/U4-S2-NNF/lib/python3.7/site-packages/sklearn/model_selection/_search.py:266: UserWarning: The total space of parameters 1 is smaller than n_iter=50. Running 1 iterations. For exhaustive searches, use GridSearchCV.\n",
      "  % (grid_size, self.n_iter, grid_size), UserWarning)\n"
     ]
    },
    {
     "ename": "TypeError",
     "evalue": "__call__() missing 1 required positional argument: 'inputs'",
     "output_type": "error",
     "traceback": [
      "\u001b[0;31m---------------------------------------------------------------------------\u001b[0m",
      "\u001b[0;31m_RemoteTraceback\u001b[0m                          Traceback (most recent call last)",
      "\u001b[0;31m_RemoteTraceback\u001b[0m: \n\"\"\"\nTraceback (most recent call last):\n  File \"/anaconda3/envs/U4-S2-NNF/lib/python3.7/site-packages/joblib/externals/loky/process_executor.py\", line 418, in _process_worker\n    r = call_item()\n  File \"/anaconda3/envs/U4-S2-NNF/lib/python3.7/site-packages/joblib/externals/loky/process_executor.py\", line 272, in __call__\n    return self.fn(*self.args, **self.kwargs)\n  File \"/anaconda3/envs/U4-S2-NNF/lib/python3.7/site-packages/joblib/_parallel_backends.py\", line 567, in __call__\n    return self.func(*args, **kwargs)\n  File \"/anaconda3/envs/U4-S2-NNF/lib/python3.7/site-packages/joblib/parallel.py\", line 225, in __call__\n    for func, args, kwargs in self.items]\n  File \"/anaconda3/envs/U4-S2-NNF/lib/python3.7/site-packages/joblib/parallel.py\", line 225, in <listcomp>\n    for func, args, kwargs in self.items]\n  File \"/anaconda3/envs/U4-S2-NNF/lib/python3.7/site-packages/sklearn/model_selection/_validation.py\", line 514, in _fit_and_score\n    estimator.fit(X_train, y_train, **fit_params)\n  File \"/anaconda3/envs/U4-S2-NNF/lib/python3.7/site-packages/keras/wrappers/scikit_learn.py\", line 210, in fit\n    return super(KerasClassifier, self).fit(x, y, **kwargs)\n  File \"/anaconda3/envs/U4-S2-NNF/lib/python3.7/site-packages/keras/wrappers/scikit_learn.py\", line 139, in fit\n    **self.filter_sk_params(self.build_fn.__call__))\nTypeError: __call__() missing 1 required positional argument: 'inputs'\n\"\"\"",
      "\nThe above exception was the direct cause of the following exception:\n",
      "\u001b[0;31mTypeError\u001b[0m                                 Traceback (most recent call last)",
      "\u001b[0;32m<ipython-input-298-d2cae0e845b7>\u001b[0m in \u001b[0;36m<module>\u001b[0;34m\u001b[0m\n\u001b[1;32m     19\u001b[0m                                    \u001b[0mcv\u001b[0m\u001b[0;34m=\u001b[0m\u001b[0;36m3\u001b[0m\u001b[0;34m,\u001b[0m\u001b[0;34m\u001b[0m\u001b[0;34m\u001b[0m\u001b[0m\n\u001b[1;32m     20\u001b[0m                                    verbose=0)\n\u001b[0;32m---> 21\u001b[0;31m \u001b[0mrandom_search\u001b[0m\u001b[0;34m.\u001b[0m\u001b[0mfit\u001b[0m\u001b[0;34m(\u001b[0m\u001b[0mX\u001b[0m\u001b[0;34m,\u001b[0m \u001b[0my\u001b[0m\u001b[0;34m,\u001b[0m \u001b[0mverbose\u001b[0m\u001b[0;34m=\u001b[0m\u001b[0;36m0\u001b[0m\u001b[0;34m)\u001b[0m\u001b[0;34m\u001b[0m\u001b[0;34m\u001b[0m\u001b[0m\n\u001b[0m",
      "\u001b[0;32m/anaconda3/envs/U4-S2-NNF/lib/python3.7/site-packages/sklearn/model_selection/_search.py\u001b[0m in \u001b[0;36mfit\u001b[0;34m(self, X, y, groups, **fit_params)\u001b[0m\n\u001b[1;32m    685\u001b[0m                 \u001b[0;32mreturn\u001b[0m \u001b[0mresults\u001b[0m\u001b[0;34m\u001b[0m\u001b[0;34m\u001b[0m\u001b[0m\n\u001b[1;32m    686\u001b[0m \u001b[0;34m\u001b[0m\u001b[0m\n\u001b[0;32m--> 687\u001b[0;31m             \u001b[0mself\u001b[0m\u001b[0;34m.\u001b[0m\u001b[0m_run_search\u001b[0m\u001b[0;34m(\u001b[0m\u001b[0mevaluate_candidates\u001b[0m\u001b[0;34m)\u001b[0m\u001b[0;34m\u001b[0m\u001b[0;34m\u001b[0m\u001b[0m\n\u001b[0m\u001b[1;32m    688\u001b[0m \u001b[0;34m\u001b[0m\u001b[0m\n\u001b[1;32m    689\u001b[0m         \u001b[0;31m# For multi-metric evaluation, store the best_index_, best_params_ and\u001b[0m\u001b[0;34m\u001b[0m\u001b[0;34m\u001b[0m\u001b[0;34m\u001b[0m\u001b[0m\n",
      "\u001b[0;32m/anaconda3/envs/U4-S2-NNF/lib/python3.7/site-packages/sklearn/model_selection/_search.py\u001b[0m in \u001b[0;36m_run_search\u001b[0;34m(self, evaluate_candidates)\u001b[0m\n\u001b[1;32m   1466\u001b[0m         evaluate_candidates(ParameterSampler(\n\u001b[1;32m   1467\u001b[0m             \u001b[0mself\u001b[0m\u001b[0;34m.\u001b[0m\u001b[0mparam_distributions\u001b[0m\u001b[0;34m,\u001b[0m \u001b[0mself\u001b[0m\u001b[0;34m.\u001b[0m\u001b[0mn_iter\u001b[0m\u001b[0;34m,\u001b[0m\u001b[0;34m\u001b[0m\u001b[0;34m\u001b[0m\u001b[0m\n\u001b[0;32m-> 1468\u001b[0;31m             random_state=self.random_state))\n\u001b[0m",
      "\u001b[0;32m/anaconda3/envs/U4-S2-NNF/lib/python3.7/site-packages/sklearn/model_selection/_search.py\u001b[0m in \u001b[0;36mevaluate_candidates\u001b[0;34m(candidate_params)\u001b[0m\n\u001b[1;32m    664\u001b[0m                                \u001b[0;32mfor\u001b[0m \u001b[0mparameters\u001b[0m\u001b[0;34m,\u001b[0m \u001b[0;34m(\u001b[0m\u001b[0mtrain\u001b[0m\u001b[0;34m,\u001b[0m \u001b[0mtest\u001b[0m\u001b[0;34m)\u001b[0m\u001b[0;34m\u001b[0m\u001b[0;34m\u001b[0m\u001b[0m\n\u001b[1;32m    665\u001b[0m                                in product(candidate_params,\n\u001b[0;32m--> 666\u001b[0;31m                                           cv.split(X, y, groups)))\n\u001b[0m\u001b[1;32m    667\u001b[0m \u001b[0;34m\u001b[0m\u001b[0m\n\u001b[1;32m    668\u001b[0m                 \u001b[0;32mif\u001b[0m \u001b[0mlen\u001b[0m\u001b[0;34m(\u001b[0m\u001b[0mout\u001b[0m\u001b[0;34m)\u001b[0m \u001b[0;34m<\u001b[0m \u001b[0;36m1\u001b[0m\u001b[0;34m:\u001b[0m\u001b[0;34m\u001b[0m\u001b[0;34m\u001b[0m\u001b[0m\n",
      "\u001b[0;32m/anaconda3/envs/U4-S2-NNF/lib/python3.7/site-packages/joblib/parallel.py\u001b[0m in \u001b[0;36m__call__\u001b[0;34m(self, iterable)\u001b[0m\n\u001b[1;32m    932\u001b[0m \u001b[0;34m\u001b[0m\u001b[0m\n\u001b[1;32m    933\u001b[0m             \u001b[0;32mwith\u001b[0m \u001b[0mself\u001b[0m\u001b[0;34m.\u001b[0m\u001b[0m_backend\u001b[0m\u001b[0;34m.\u001b[0m\u001b[0mretrieval_context\u001b[0m\u001b[0;34m(\u001b[0m\u001b[0;34m)\u001b[0m\u001b[0;34m:\u001b[0m\u001b[0;34m\u001b[0m\u001b[0;34m\u001b[0m\u001b[0m\n\u001b[0;32m--> 934\u001b[0;31m                 \u001b[0mself\u001b[0m\u001b[0;34m.\u001b[0m\u001b[0mretrieve\u001b[0m\u001b[0;34m(\u001b[0m\u001b[0;34m)\u001b[0m\u001b[0;34m\u001b[0m\u001b[0;34m\u001b[0m\u001b[0m\n\u001b[0m\u001b[1;32m    935\u001b[0m             \u001b[0;31m# Make sure that we get a last message telling us we are done\u001b[0m\u001b[0;34m\u001b[0m\u001b[0;34m\u001b[0m\u001b[0;34m\u001b[0m\u001b[0m\n\u001b[1;32m    936\u001b[0m             \u001b[0melapsed_time\u001b[0m \u001b[0;34m=\u001b[0m \u001b[0mtime\u001b[0m\u001b[0;34m.\u001b[0m\u001b[0mtime\u001b[0m\u001b[0;34m(\u001b[0m\u001b[0;34m)\u001b[0m \u001b[0;34m-\u001b[0m \u001b[0mself\u001b[0m\u001b[0;34m.\u001b[0m\u001b[0m_start_time\u001b[0m\u001b[0;34m\u001b[0m\u001b[0;34m\u001b[0m\u001b[0m\n",
      "\u001b[0;32m/anaconda3/envs/U4-S2-NNF/lib/python3.7/site-packages/joblib/parallel.py\u001b[0m in \u001b[0;36mretrieve\u001b[0;34m(self)\u001b[0m\n\u001b[1;32m    831\u001b[0m             \u001b[0;32mtry\u001b[0m\u001b[0;34m:\u001b[0m\u001b[0;34m\u001b[0m\u001b[0;34m\u001b[0m\u001b[0m\n\u001b[1;32m    832\u001b[0m                 \u001b[0;32mif\u001b[0m \u001b[0mgetattr\u001b[0m\u001b[0;34m(\u001b[0m\u001b[0mself\u001b[0m\u001b[0;34m.\u001b[0m\u001b[0m_backend\u001b[0m\u001b[0;34m,\u001b[0m \u001b[0;34m'supports_timeout'\u001b[0m\u001b[0;34m,\u001b[0m \u001b[0;32mFalse\u001b[0m\u001b[0;34m)\u001b[0m\u001b[0;34m:\u001b[0m\u001b[0;34m\u001b[0m\u001b[0;34m\u001b[0m\u001b[0m\n\u001b[0;32m--> 833\u001b[0;31m                     \u001b[0mself\u001b[0m\u001b[0;34m.\u001b[0m\u001b[0m_output\u001b[0m\u001b[0;34m.\u001b[0m\u001b[0mextend\u001b[0m\u001b[0;34m(\u001b[0m\u001b[0mjob\u001b[0m\u001b[0;34m.\u001b[0m\u001b[0mget\u001b[0m\u001b[0;34m(\u001b[0m\u001b[0mtimeout\u001b[0m\u001b[0;34m=\u001b[0m\u001b[0mself\u001b[0m\u001b[0;34m.\u001b[0m\u001b[0mtimeout\u001b[0m\u001b[0;34m)\u001b[0m\u001b[0;34m)\u001b[0m\u001b[0;34m\u001b[0m\u001b[0;34m\u001b[0m\u001b[0m\n\u001b[0m\u001b[1;32m    834\u001b[0m                 \u001b[0;32melse\u001b[0m\u001b[0;34m:\u001b[0m\u001b[0;34m\u001b[0m\u001b[0;34m\u001b[0m\u001b[0m\n\u001b[1;32m    835\u001b[0m                     \u001b[0mself\u001b[0m\u001b[0;34m.\u001b[0m\u001b[0m_output\u001b[0m\u001b[0;34m.\u001b[0m\u001b[0mextend\u001b[0m\u001b[0;34m(\u001b[0m\u001b[0mjob\u001b[0m\u001b[0;34m.\u001b[0m\u001b[0mget\u001b[0m\u001b[0;34m(\u001b[0m\u001b[0;34m)\u001b[0m\u001b[0;34m)\u001b[0m\u001b[0;34m\u001b[0m\u001b[0;34m\u001b[0m\u001b[0m\n",
      "\u001b[0;32m/anaconda3/envs/U4-S2-NNF/lib/python3.7/site-packages/joblib/_parallel_backends.py\u001b[0m in \u001b[0;36mwrap_future_result\u001b[0;34m(future, timeout)\u001b[0m\n\u001b[1;32m    519\u001b[0m         AsyncResults.get from multiprocessing.\"\"\"\n\u001b[1;32m    520\u001b[0m         \u001b[0;32mtry\u001b[0m\u001b[0;34m:\u001b[0m\u001b[0;34m\u001b[0m\u001b[0;34m\u001b[0m\u001b[0m\n\u001b[0;32m--> 521\u001b[0;31m             \u001b[0;32mreturn\u001b[0m \u001b[0mfuture\u001b[0m\u001b[0;34m.\u001b[0m\u001b[0mresult\u001b[0m\u001b[0;34m(\u001b[0m\u001b[0mtimeout\u001b[0m\u001b[0;34m=\u001b[0m\u001b[0mtimeout\u001b[0m\u001b[0;34m)\u001b[0m\u001b[0;34m\u001b[0m\u001b[0;34m\u001b[0m\u001b[0m\n\u001b[0m\u001b[1;32m    522\u001b[0m         \u001b[0;32mexcept\u001b[0m \u001b[0mLokyTimeoutError\u001b[0m\u001b[0;34m:\u001b[0m\u001b[0;34m\u001b[0m\u001b[0;34m\u001b[0m\u001b[0m\n\u001b[1;32m    523\u001b[0m             \u001b[0;32mraise\u001b[0m \u001b[0mTimeoutError\u001b[0m\u001b[0;34m(\u001b[0m\u001b[0;34m)\u001b[0m\u001b[0;34m\u001b[0m\u001b[0;34m\u001b[0m\u001b[0m\n",
      "\u001b[0;32m/anaconda3/envs/U4-S2-NNF/lib/python3.7/concurrent/futures/_base.py\u001b[0m in \u001b[0;36mresult\u001b[0;34m(self, timeout)\u001b[0m\n\u001b[1;32m    423\u001b[0m                 \u001b[0;32mraise\u001b[0m \u001b[0mCancelledError\u001b[0m\u001b[0;34m(\u001b[0m\u001b[0;34m)\u001b[0m\u001b[0;34m\u001b[0m\u001b[0;34m\u001b[0m\u001b[0m\n\u001b[1;32m    424\u001b[0m             \u001b[0;32melif\u001b[0m \u001b[0mself\u001b[0m\u001b[0;34m.\u001b[0m\u001b[0m_state\u001b[0m \u001b[0;34m==\u001b[0m \u001b[0mFINISHED\u001b[0m\u001b[0;34m:\u001b[0m\u001b[0;34m\u001b[0m\u001b[0;34m\u001b[0m\u001b[0m\n\u001b[0;32m--> 425\u001b[0;31m                 \u001b[0;32mreturn\u001b[0m \u001b[0mself\u001b[0m\u001b[0;34m.\u001b[0m\u001b[0m__get_result\u001b[0m\u001b[0;34m(\u001b[0m\u001b[0;34m)\u001b[0m\u001b[0;34m\u001b[0m\u001b[0;34m\u001b[0m\u001b[0m\n\u001b[0m\u001b[1;32m    426\u001b[0m \u001b[0;34m\u001b[0m\u001b[0m\n\u001b[1;32m    427\u001b[0m             \u001b[0mself\u001b[0m\u001b[0;34m.\u001b[0m\u001b[0m_condition\u001b[0m\u001b[0;34m.\u001b[0m\u001b[0mwait\u001b[0m\u001b[0;34m(\u001b[0m\u001b[0mtimeout\u001b[0m\u001b[0;34m)\u001b[0m\u001b[0;34m\u001b[0m\u001b[0;34m\u001b[0m\u001b[0m\n",
      "\u001b[0;32m/anaconda3/envs/U4-S2-NNF/lib/python3.7/concurrent/futures/_base.py\u001b[0m in \u001b[0;36m__get_result\u001b[0;34m(self)\u001b[0m\n\u001b[1;32m    382\u001b[0m     \u001b[0;32mdef\u001b[0m \u001b[0m__get_result\u001b[0m\u001b[0;34m(\u001b[0m\u001b[0mself\u001b[0m\u001b[0;34m)\u001b[0m\u001b[0;34m:\u001b[0m\u001b[0;34m\u001b[0m\u001b[0;34m\u001b[0m\u001b[0m\n\u001b[1;32m    383\u001b[0m         \u001b[0;32mif\u001b[0m \u001b[0mself\u001b[0m\u001b[0;34m.\u001b[0m\u001b[0m_exception\u001b[0m\u001b[0;34m:\u001b[0m\u001b[0;34m\u001b[0m\u001b[0;34m\u001b[0m\u001b[0m\n\u001b[0;32m--> 384\u001b[0;31m             \u001b[0;32mraise\u001b[0m \u001b[0mself\u001b[0m\u001b[0;34m.\u001b[0m\u001b[0m_exception\u001b[0m\u001b[0;34m\u001b[0m\u001b[0;34m\u001b[0m\u001b[0m\n\u001b[0m\u001b[1;32m    385\u001b[0m         \u001b[0;32melse\u001b[0m\u001b[0;34m:\u001b[0m\u001b[0;34m\u001b[0m\u001b[0;34m\u001b[0m\u001b[0m\n\u001b[1;32m    386\u001b[0m             \u001b[0;32mreturn\u001b[0m \u001b[0mself\u001b[0m\u001b[0;34m.\u001b[0m\u001b[0m_result\u001b[0m\u001b[0;34m\u001b[0m\u001b[0;34m\u001b[0m\u001b[0m\n",
      "\u001b[0;31mTypeError\u001b[0m: __call__() missing 1 required positional argument: 'inputs'"
     ]
    }
   ],
   "source": [
    "# Specify parameters and distributions to sample from\n",
    "\n",
    "ranges = random.randint(1, 100)\n",
    "\n",
    "r_model = KerasClassifier(build_fn=r_create_model()) \n",
    "\n",
    "\n",
    "\n",
    "# Prepare the Dict for the Search\n",
    "param_grid = {'batch_size': [ranges],\n",
    "              'epochs': [ranges]}\n",
    "\n",
    "# Search in action!\n",
    "n_iter_search = 50 # Number of parameter settings that are sampled.\n",
    "random_search = RandomizedSearchCV(estimator=r_model, \n",
    "                                   param_distributions=param_grid,\n",
    "                                   n_iter=n_iter_search,\n",
    "                                   n_jobs=-1, \n",
    "                                   cv=3, \n",
    "                                   verbose=0)\n",
    "random_search.fit(X, y, verbose=0)"
   ]
  },
  {
   "cell_type": "code",
   "execution_count": null,
   "metadata": {},
   "outputs": [],
   "source": [
    "print(\"Best: %f using %s\" % (random_search.best_score_, random_search.best_params_))\n",
    "means = random_search.cv_results_['mean_test_score']\n",
    "stds = random_search.cv_results_['std_test_score']\n",
    "params = random_search.cv_results_['params']\n",
    "for mean, stdev, param in zip(means, stds, params):\n",
    "    print(\"%f (%f) with: %r\" % (mean, stdev, param))"
   ]
  },
  {
   "cell_type": "code",
   "execution_count": null,
   "metadata": {},
   "outputs": [],
   "source": [
    "param_grid = {'batch_size': [10, 40, 80, 100],\n",
    "              'epochs': np.arange(5,41)}"
   ]
  },
  {
   "cell_type": "code",
   "execution_count": 299,
   "metadata": {},
   "outputs": [
    {
     "data": {
      "text/plain": [
       "27"
      ]
     },
     "execution_count": 299,
     "metadata": {},
     "output_type": "execute_result"
    }
   ],
   "source": [
    "ranges"
   ]
  },
  {
   "cell_type": "markdown",
   "metadata": {},
   "source": [
    "#### Bayes Search"
   ]
  },
  {
   "cell_type": "code",
   "execution_count": null,
   "metadata": {},
   "outputs": [],
   "source": [
    "def model(x_train, y_train, x_test, y_test):\n",
    "    \"\"\"\n",
    "    Model providing function:\n",
    "    Create Keras model with double curly brackets dropped-in as needed.\n",
    "    Return value has to be a valid python dictionary with two customary keys:\n",
    "        - loss: Specify a numeric evaluation metric to be minimized\n",
    "        - status: Just use STATUS_OK and see hyperopt documentation if not feasible\n",
    "    The last one is optional, though recommended, namely:\n",
    "        - model: specify the model just created so that we can later use it again.\n",
    "    \"\"\"\n",
    "    # Model definition / hyperparameters space definition / fit / eval\n",
    "    return {'loss': <metrics_to_minimize>, 'status': STATUS_OK, 'model': model}\n",
    "    \n",
    "# SMBO - TPE in action\n",
    "best_run, best_model = optim.minimize(model=model,\n",
    "                                      data=data,\n",
    "                                      algo=tpe.suggest,\n",
    "                                      max_evals=,\n",
    "                                      trials=Trials())\n",
    "\n",
    "# Show the results\n",
    "x_train, y_train, x_test, y_test = data()\n",
    "print(\"Evalutation of best performing model:\")\n",
    "print(best_model.evaluate(x_test, y_test))\n",
    "print(\"Best performing model chosen hyper-parameters:\")\n",
    "print(best_run)\n"
   ]
  },
  {
   "cell_type": "code",
   "execution_count": null,
   "metadata": {},
   "outputs": [],
   "source": []
  },
  {
   "cell_type": "code",
   "execution_count": null,
   "metadata": {},
   "outputs": [],
   "source": []
  },
  {
   "cell_type": "code",
   "execution_count": null,
   "metadata": {},
   "outputs": [],
   "source": []
  },
  {
   "cell_type": "code",
   "execution_count": null,
   "metadata": {},
   "outputs": [],
   "source": []
  },
  {
   "cell_type": "code",
   "execution_count": null,
   "metadata": {},
   "outputs": [],
   "source": []
  },
  {
   "cell_type": "markdown",
   "metadata": {},
   "source": [
    "## Optimal Results So Far\n",
    "\n",
    "Best: 0.8040607704470378 using {'batch_size': 80, 'epochs': 20}  \n",
    "Means: 0.7929859406295088, Stdev: 0.0050868434251242324 with: {'batch_size': 10, 'epochs': 20}  \n",
    "Means: 0.7841828748547826, Stdev: 0.004574725245476072 with: {'batch_size': 10, 'epochs': 40}  \n",
    "Means: 0.7709782742800638, Stdev: 0.004439631862406806 with: {'batch_size': 10, 'epochs': 60}  \n",
    "Means: 0.7481186994601765, Stdev: 0.014687760496656183 with: {'batch_size': 10, 'epochs': 80}  \n",
    "Means: 0.7535141274093922, Stdev: 0.01231773249945592 with: {'batch_size': 10, 'epochs': 100}  \n",
    "Means: 0.7972454958369612, Stdev: 0.002275440428439996 with: {'batch_size': 20, 'epochs': 20}  \n",
    "Means: 0.7951157203405127, Stdev: 0.001774766578799858 with: {'batch_size': 20, 'epochs': 40}  \n",
    "Means: 0.7770836329267189, Stdev: 0.007344774891189583 with: {'batch_size': 20, 'epochs': 60}  \n",
    "Means: 0.7611813153941981, Stdev: 0.03101368767227507 with: {'batch_size': 20, 'epochs': 80}  \n",
    "Means: 0.7760897362145887, Stdev: 0.007283950570171593 with: {'batch_size': 20, 'epochs': 100}  \n",
    "Means: 0.7921340332169365, Stdev: 0.007475974825565626 with: {'batch_size': 40, 'epochs': 20}  \n",
    "Means: 0.7847508166588861, Stdev: 0.002943371335911798 with: {'batch_size': 40, 'epochs': 40}  \n",
    "Means: 0.7875905151514782, Stdev: 0.0053183814912085535 with: {'batch_size': 40, 'epochs': 60}  \n",
    "Means: 0.7796393574917501, Stdev: 0.0041321261563522695 with: {'batch_size': 40, 'epochs': 80}  \n",
    "Means: 0.7704103369528675, Stdev: 0.009448314862501705 with: {'batch_size': 40, 'epochs': 100}  \n",
    "Means: 0.7973874806172974, Stdev: 0.004173928322933939 with: {'batch_size': 60, 'epochs': 20}  \n",
    "Means: 0.7936958713861888, Stdev: 0.0031359798707445976 with: {'batch_size': 60, 'epochs': 40}  \n",
    "Means: 0.7850347872943545, Stdev: 0.003966179840889809 with: {'batch_size': 60, 'epochs': 60}  \n",
    "Means: 0.777793553273955, Stdev: 0.01114478472726149 with: {'batch_size': 60, 'epochs': 80}  \n",
    "Means: 0.7775095888587642, Stdev: 0.00410444462927118 with: {'batch_size': 60, 'epochs': 100}  \n",
    "Means: 0.8040607704470378, Stdev: 0.0031301428363589303 with: {'batch_size': 80, 'epochs': 20}  \n",
    "Means: 0.7884424258815317, Stdev: 0.002135210315354395 with: {'batch_size': 80, 'epochs': 40}  \n",
    "Means: 0.7884424278872537, Stdev: 0.006407064062731743 with: {'batch_size': 80, 'epochs': 60}  \n",
    "Means: 0.78176913067781, Stdev: 0.010360357463175521 with: {'batch_size': 80, 'epochs': 80}  \n",
    "Means: 0.781343177394672, Stdev: 0.00234826967736232 with: {'batch_size': 80, 'epochs': 100}  \n",
    "Means: 0.7985233514887458, Stdev: 0.0031799430943520134 with: {'batch_size': 100, 'epochs': 20}  \n",
    "Means: 0.7955416695445027, Stdev: 0.01046966778426854 with: {'batch_size': 100, 'epochs': 40}  \n",
    "Means: 0.7871645558680997, Stdev: 0.0025503891559041304 with: {'batch_size': 100, 'epochs': 60}  \n",
    "Means: 0.7891523483445084, Stdev: 0.002855865078888857 with: {'batch_size': 100, 'epochs': 80}  \n",
    "Means: 0.7790714143420355, Stdev: 0.009488870729254707 with: {'batch_size': 100, 'epochs': 100}  \n",
    "CPU times: user 2.96 s, sys: 314 ms, total: 3.27 s  \n",
    "Wall time: 6min 29s\n"
   ]
  },
  {
   "cell_type": "code",
   "execution_count": 46,
   "metadata": {},
   "outputs": [
    {
     "data": {
      "text/plain": [
       "19"
      ]
     },
     "execution_count": 46,
     "metadata": {},
     "output_type": "execute_result"
    }
   ],
   "source": []
  },
  {
   "cell_type": "code",
   "execution_count": null,
   "metadata": {},
   "outputs": [],
   "source": []
  },
  {
   "cell_type": "markdown",
   "metadata": {
    "colab_type": "text",
    "id": "FfZRtJ7MCN3x"
   },
   "source": [
    "## Stretch Goals:\n",
    "\n",
    "- Try to implement Random Search Hyperparameter Tuning on this dataset\n",
    "- Try to implement Bayesian Optimiation tuning on this dataset\n",
    "- Practice hyperparameter tuning other datasets that we have looked at. How high can you get MNIST? Above 99%?\n",
    "- Study for the Sprint Challenge\n",
    " - Can you implement both perceptron and MLP models from scratch with forward and backpropagation?\n",
    " - Can you implement both perceptron and MLP models in keras and tune their hyperparameters with cross validation?"
   ]
  }
 ],
 "metadata": {
  "colab": {
   "name": "LS_DS_434_Hyperparameter_Tuning_Assignment.ipynb",
   "provenance": [],
   "version": "0.3.2"
  },
  "kernelspec": {
   "display_name": "Python 3",
   "language": "python",
   "name": "python3"
  },
  "language_info": {
   "codemirror_mode": {
    "name": "ipython",
    "version": 3
   },
   "file_extension": ".py",
   "mimetype": "text/x-python",
   "name": "python",
   "nbconvert_exporter": "python",
   "pygments_lexer": "ipython3",
   "version": "3.7.3"
  }
 },
 "nbformat": 4,
 "nbformat_minor": 2
}
