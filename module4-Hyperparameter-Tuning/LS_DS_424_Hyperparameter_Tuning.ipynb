{
 "cells": [
  {
   "cell_type": "markdown",
   "metadata": {
    "colab_type": "text",
    "id": "41TS0Sa0rDNx"
   },
   "source": [
    "# Model Validation with Keras - Boston Housing Data"
   ]
  },
  {
   "cell_type": "code",
   "execution_count": 6,
   "metadata": {
    "colab": {},
    "colab_type": "code",
    "id": "ZyirqVC_sC64"
   },
   "outputs": [],
   "source": [
    "import keras\n",
    "from keras.models import Sequential\n",
    "from keras.layers import Dense\n",
    "import pandas as pd\n",
    "import numpy\n",
    "# fix random seed for reproducibility\n",
    "numpy.random.seed(42)"
   ]
  },
  {
   "cell_type": "markdown",
   "metadata": {
    "colab_type": "text",
    "id": "0s0o2pqBs88q"
   },
   "source": [
    "### Load Boston Housing Data\n",
    "\n",
    "Even though we can import this dataset from Keras, Keras already has it divided up into test and train datasets for us I don't want that for this demonstration, so I'm going to import it from Scikit-Learn instead."
   ]
  },
  {
   "cell_type": "code",
   "execution_count": 7,
   "metadata": {
    "colab": {
     "base_uri": "https://localhost:8080/",
     "height": 212
    },
    "colab_type": "code",
    "id": "cMMt4MtAsVx0",
    "outputId": "a4e3e990-f948-46e6-ea93-dd7433a317e9"
   },
   "outputs": [
    {
     "name": "stdout",
     "output_type": "stream",
     "text": [
      "(506, 14)\n"
     ]
    },
    {
     "data": {
      "text/html": [
       "<div>\n",
       "<style scoped>\n",
       "    .dataframe tbody tr th:only-of-type {\n",
       "        vertical-align: middle;\n",
       "    }\n",
       "\n",
       "    .dataframe tbody tr th {\n",
       "        vertical-align: top;\n",
       "    }\n",
       "\n",
       "    .dataframe thead th {\n",
       "        text-align: right;\n",
       "    }\n",
       "</style>\n",
       "<table border=\"1\" class=\"dataframe\">\n",
       "  <thead>\n",
       "    <tr style=\"text-align: right;\">\n",
       "      <th></th>\n",
       "      <th>CRIM</th>\n",
       "      <th>ZN</th>\n",
       "      <th>INDUS</th>\n",
       "      <th>CHAS</th>\n",
       "      <th>NOX</th>\n",
       "      <th>RM</th>\n",
       "      <th>AGE</th>\n",
       "      <th>DIS</th>\n",
       "      <th>RAD</th>\n",
       "      <th>TAX</th>\n",
       "      <th>PTRATIO</th>\n",
       "      <th>B</th>\n",
       "      <th>LSTAT</th>\n",
       "      <th>MEDV</th>\n",
       "    </tr>\n",
       "  </thead>\n",
       "  <tbody>\n",
       "    <tr>\n",
       "      <th>0</th>\n",
       "      <td>0.00632</td>\n",
       "      <td>18.0</td>\n",
       "      <td>2.31</td>\n",
       "      <td>0.0</td>\n",
       "      <td>0.538</td>\n",
       "      <td>6.575</td>\n",
       "      <td>65.2</td>\n",
       "      <td>4.0900</td>\n",
       "      <td>1.0</td>\n",
       "      <td>296.0</td>\n",
       "      <td>15.3</td>\n",
       "      <td>396.90</td>\n",
       "      <td>4.98</td>\n",
       "      <td>24.0</td>\n",
       "    </tr>\n",
       "    <tr>\n",
       "      <th>1</th>\n",
       "      <td>0.02731</td>\n",
       "      <td>0.0</td>\n",
       "      <td>7.07</td>\n",
       "      <td>0.0</td>\n",
       "      <td>0.469</td>\n",
       "      <td>6.421</td>\n",
       "      <td>78.9</td>\n",
       "      <td>4.9671</td>\n",
       "      <td>2.0</td>\n",
       "      <td>242.0</td>\n",
       "      <td>17.8</td>\n",
       "      <td>396.90</td>\n",
       "      <td>9.14</td>\n",
       "      <td>21.6</td>\n",
       "    </tr>\n",
       "    <tr>\n",
       "      <th>2</th>\n",
       "      <td>0.02729</td>\n",
       "      <td>0.0</td>\n",
       "      <td>7.07</td>\n",
       "      <td>0.0</td>\n",
       "      <td>0.469</td>\n",
       "      <td>7.185</td>\n",
       "      <td>61.1</td>\n",
       "      <td>4.9671</td>\n",
       "      <td>2.0</td>\n",
       "      <td>242.0</td>\n",
       "      <td>17.8</td>\n",
       "      <td>392.83</td>\n",
       "      <td>4.03</td>\n",
       "      <td>34.7</td>\n",
       "    </tr>\n",
       "    <tr>\n",
       "      <th>3</th>\n",
       "      <td>0.03237</td>\n",
       "      <td>0.0</td>\n",
       "      <td>2.18</td>\n",
       "      <td>0.0</td>\n",
       "      <td>0.458</td>\n",
       "      <td>6.998</td>\n",
       "      <td>45.8</td>\n",
       "      <td>6.0622</td>\n",
       "      <td>3.0</td>\n",
       "      <td>222.0</td>\n",
       "      <td>18.7</td>\n",
       "      <td>394.63</td>\n",
       "      <td>2.94</td>\n",
       "      <td>33.4</td>\n",
       "    </tr>\n",
       "    <tr>\n",
       "      <th>4</th>\n",
       "      <td>0.06905</td>\n",
       "      <td>0.0</td>\n",
       "      <td>2.18</td>\n",
       "      <td>0.0</td>\n",
       "      <td>0.458</td>\n",
       "      <td>7.147</td>\n",
       "      <td>54.2</td>\n",
       "      <td>6.0622</td>\n",
       "      <td>3.0</td>\n",
       "      <td>222.0</td>\n",
       "      <td>18.7</td>\n",
       "      <td>396.90</td>\n",
       "      <td>5.33</td>\n",
       "      <td>36.2</td>\n",
       "    </tr>\n",
       "  </tbody>\n",
       "</table>\n",
       "</div>"
      ],
      "text/plain": [
       "      CRIM    ZN  INDUS  CHAS    NOX     RM   AGE     DIS  RAD    TAX  \\\n",
       "0  0.00632  18.0   2.31   0.0  0.538  6.575  65.2  4.0900  1.0  296.0   \n",
       "1  0.02731   0.0   7.07   0.0  0.469  6.421  78.9  4.9671  2.0  242.0   \n",
       "2  0.02729   0.0   7.07   0.0  0.469  7.185  61.1  4.9671  2.0  242.0   \n",
       "3  0.03237   0.0   2.18   0.0  0.458  6.998  45.8  6.0622  3.0  222.0   \n",
       "4  0.06905   0.0   2.18   0.0  0.458  7.147  54.2  6.0622  3.0  222.0   \n",
       "\n",
       "   PTRATIO       B  LSTAT  MEDV  \n",
       "0     15.3  396.90   4.98  24.0  \n",
       "1     17.8  396.90   9.14  21.6  \n",
       "2     17.8  392.83   4.03  34.7  \n",
       "3     18.7  394.63   2.94  33.4  \n",
       "4     18.7  396.90   5.33  36.2  "
      ]
     },
     "execution_count": 7,
     "metadata": {},
     "output_type": "execute_result"
    }
   ],
   "source": [
    "# load dataset\n",
    "from sklearn.datasets import load_boston\n",
    "boston_dataset = load_boston()\n",
    "df = pd.DataFrame(boston_dataset.data, columns=boston_dataset.feature_names)\n",
    "df['MEDV'] = boston_dataset.target\n",
    "print(df.shape)\n",
    "df.head()"
   ]
  },
  {
   "cell_type": "markdown",
   "metadata": {
    "colab_type": "text",
    "id": "Pm7zow5IvaTt"
   },
   "source": [
    "## Normalizing Input Data\n",
    "\n",
    "It's not 100% necessary to normalize/scale your input data before feeding it to a neural network, the network can learn the appropriate weights to deal with data of as long as it is numerically represented,  but it is recommended as it can help **make training faster** and **reduces the chances that gradient descent might get stuck in a local optimum**.\n",
    "\n",
    "<https://stackoverflow.com/questions/4674623/why-do-we-have-to-normalize-the-input-for-an-artificial-neural-network>"
   ]
  },
  {
   "cell_type": "code",
   "execution_count": 8,
   "metadata": {
    "colab": {
     "base_uri": "https://localhost:8080/",
     "height": 235
    },
    "colab_type": "code",
    "id": "q5qDpUj9vZVw",
    "outputId": "ce27017a-b173-455d-954e-d462e17e66f4"
   },
   "outputs": [
    {
     "name": "stdout",
     "output_type": "stream",
     "text": [
      "[[-0.41978194  0.28482986 -1.2879095  ... -1.45900038  0.44105193\n",
      "  -1.0755623 ]\n",
      " [-0.41733926 -0.48772236 -0.59338101 ... -0.30309415  0.44105193\n",
      "  -0.49243937]\n",
      " [-0.41734159 -0.48772236 -0.59338101 ... -0.30309415  0.39642699\n",
      "  -1.2087274 ]\n",
      " ...\n",
      " [-0.41344658 -0.48772236  0.11573841 ...  1.17646583  0.44105193\n",
      "  -0.98304761]\n",
      " [-0.40776407 -0.48772236  0.11573841 ...  1.17646583  0.4032249\n",
      "  -0.86530163]\n",
      " [-0.41500016 -0.48772236  0.11573841 ...  1.17646583  0.44105193\n",
      "  -0.66905833]]\n"
     ]
    }
   ],
   "source": [
    "from sklearn.preprocessing import StandardScaler\n",
    "\n",
    "# Split into X and y and turn into numpy arays\n",
    "y = df.MEDV.values\n",
    "X = df.drop(\"MEDV\", axis='columns').values\n",
    "\n",
    "# Scale input data\n",
    "scaler = StandardScaler()\n",
    "X = scaler.fit_transform(X)\n",
    "print(X)"
   ]
  },
  {
   "cell_type": "markdown",
   "metadata": {
    "colab_type": "text",
    "id": "l6hgCWbir90R"
   },
   "source": [
    "## Model Validation using an automatic verification Dataset\n",
    "\n",
    "Instead of doing a train test split, Keras has a really nice feature that you can set the validation.split argument when fitting your model and Keras will take that portion of your test data and use it as a validation dataset. "
   ]
  },
  {
   "cell_type": "code",
   "execution_count": 9,
   "metadata": {
    "colab": {
     "base_uri": "https://localhost:8080/",
     "height": 1750
    },
    "colab_type": "code",
    "id": "GMXVfmzXp1Oo",
    "outputId": "b05e251e-508f-46e6-865b-f869ae2a5dc4"
   },
   "outputs": [
    {
     "name": "stdout",
     "output_type": "stream",
     "text": [
      "Train on 339 samples, validate on 167 samples\n",
      "Epoch 1/50\n",
      "339/339 [==============================] - 1s 2ms/step - loss: 656.9892 - mean_squared_error: 656.9892 - val_loss: 283.9828 - val_mean_squared_error: 283.9828\n",
      "Epoch 2/50\n",
      "339/339 [==============================] - 0s 183us/step - loss: 441.3887 - mean_squared_error: 441.3887 - val_loss: 176.6111 - val_mean_squared_error: 176.6111\n",
      "Epoch 3/50\n",
      "339/339 [==============================] - 0s 192us/step - loss: 124.4599 - mean_squared_error: 124.4599 - val_loss: 120.1146 - val_mean_squared_error: 120.1146\n",
      "Epoch 4/50\n",
      "339/339 [==============================] - 0s 217us/step - loss: 34.3920 - mean_squared_error: 34.3920 - val_loss: 94.0394 - val_mean_squared_error: 94.0394\n",
      "Epoch 5/50\n",
      "339/339 [==============================] - 0s 276us/step - loss: 18.5315 - mean_squared_error: 18.5315 - val_loss: 89.3768 - val_mean_squared_error: 89.3768\n",
      "Epoch 6/50\n",
      "339/339 [==============================] - 0s 195us/step - loss: 14.8797 - mean_squared_error: 14.8797 - val_loss: 90.1402 - val_mean_squared_error: 90.1402\n",
      "Epoch 7/50\n",
      "339/339 [==============================] - 0s 261us/step - loss: 12.9370 - mean_squared_error: 12.9370 - val_loss: 84.6657 - val_mean_squared_error: 84.6657\n",
      "Epoch 8/50\n",
      "339/339 [==============================] - 0s 170us/step - loss: 11.9429 - mean_squared_error: 11.9429 - val_loss: 80.2306 - val_mean_squared_error: 80.2306\n",
      "Epoch 9/50\n",
      "339/339 [==============================] - 0s 161us/step - loss: 11.1650 - mean_squared_error: 11.1650 - val_loss: 76.3703 - val_mean_squared_error: 76.3703\n",
      "Epoch 10/50\n",
      "339/339 [==============================] - 0s 208us/step - loss: 10.6086 - mean_squared_error: 10.6086 - val_loss: 74.4160 - val_mean_squared_error: 74.4160\n",
      "Epoch 11/50\n",
      "339/339 [==============================] - 0s 206us/step - loss: 10.2923 - mean_squared_error: 10.2923 - val_loss: 70.4454 - val_mean_squared_error: 70.4454\n",
      "Epoch 12/50\n",
      "339/339 [==============================] - 0s 197us/step - loss: 9.4573 - mean_squared_error: 9.4573 - val_loss: 67.6855 - val_mean_squared_error: 67.6855\n",
      "Epoch 13/50\n",
      "339/339 [==============================] - 0s 190us/step - loss: 8.9723 - mean_squared_error: 8.9723 - val_loss: 64.4685 - val_mean_squared_error: 64.4685\n",
      "Epoch 14/50\n",
      "339/339 [==============================] - 0s 198us/step - loss: 8.5612 - mean_squared_error: 8.5612 - val_loss: 63.1301 - val_mean_squared_error: 63.1301\n",
      "Epoch 15/50\n",
      "339/339 [==============================] - 0s 189us/step - loss: 8.1559 - mean_squared_error: 8.1559 - val_loss: 60.5443 - val_mean_squared_error: 60.5443\n",
      "Epoch 16/50\n",
      "339/339 [==============================] - 0s 188us/step - loss: 7.9074 - mean_squared_error: 7.9074 - val_loss: 59.0899 - val_mean_squared_error: 59.0899\n",
      "Epoch 17/50\n",
      "339/339 [==============================] - 0s 183us/step - loss: 7.6778 - mean_squared_error: 7.6778 - val_loss: 57.3506 - val_mean_squared_error: 57.3506\n",
      "Epoch 18/50\n",
      "339/339 [==============================] - 0s 181us/step - loss: 7.4167 - mean_squared_error: 7.4167 - val_loss: 56.1937 - val_mean_squared_error: 56.1937\n",
      "Epoch 19/50\n",
      "339/339 [==============================] - 0s 192us/step - loss: 7.0910 - mean_squared_error: 7.0910 - val_loss: 53.9173 - val_mean_squared_error: 53.9173\n",
      "Epoch 20/50\n",
      "339/339 [==============================] - 0s 192us/step - loss: 6.8294 - mean_squared_error: 6.8294 - val_loss: 51.7237 - val_mean_squared_error: 51.7237\n",
      "Epoch 21/50\n",
      "339/339 [==============================] - 0s 185us/step - loss: 6.6736 - mean_squared_error: 6.6736 - val_loss: 50.7934 - val_mean_squared_error: 50.7934\n",
      "Epoch 22/50\n",
      "339/339 [==============================] - 0s 229us/step - loss: 6.5699 - mean_squared_error: 6.5699 - val_loss: 48.5764 - val_mean_squared_error: 48.5764\n",
      "Epoch 23/50\n",
      "339/339 [==============================] - 0s 237us/step - loss: 6.3317 - mean_squared_error: 6.3317 - val_loss: 48.1653 - val_mean_squared_error: 48.1653\n",
      "Epoch 24/50\n",
      "339/339 [==============================] - 0s 205us/step - loss: 6.3164 - mean_squared_error: 6.3164 - val_loss: 47.9137 - val_mean_squared_error: 47.9137\n",
      "Epoch 25/50\n",
      "339/339 [==============================] - 0s 214us/step - loss: 5.9131 - mean_squared_error: 5.9131 - val_loss: 45.1815 - val_mean_squared_error: 45.1815\n",
      "Epoch 26/50\n",
      "339/339 [==============================] - 0s 183us/step - loss: 5.8187 - mean_squared_error: 5.8187 - val_loss: 45.1524 - val_mean_squared_error: 45.1524\n",
      "Epoch 27/50\n",
      "339/339 [==============================] - 0s 187us/step - loss: 5.6972 - mean_squared_error: 5.6972 - val_loss: 43.6261 - val_mean_squared_error: 43.6261\n",
      "Epoch 28/50\n",
      "339/339 [==============================] - 0s 193us/step - loss: 5.5534 - mean_squared_error: 5.5534 - val_loss: 42.4190 - val_mean_squared_error: 42.4190\n",
      "Epoch 29/50\n",
      "339/339 [==============================] - 0s 207us/step - loss: 5.5980 - mean_squared_error: 5.5980 - val_loss: 42.3564 - val_mean_squared_error: 42.3564\n",
      "Epoch 30/50\n",
      "339/339 [==============================] - 0s 204us/step - loss: 5.4647 - mean_squared_error: 5.4647 - val_loss: 41.6313 - val_mean_squared_error: 41.6313\n",
      "Epoch 31/50\n",
      "339/339 [==============================] - 0s 186us/step - loss: 5.2465 - mean_squared_error: 5.2465 - val_loss: 40.5466 - val_mean_squared_error: 40.5466\n",
      "Epoch 32/50\n",
      "339/339 [==============================] - 0s 186us/step - loss: 5.3149 - mean_squared_error: 5.3149 - val_loss: 41.2344 - val_mean_squared_error: 41.2344\n",
      "Epoch 33/50\n",
      "339/339 [==============================] - 0s 197us/step - loss: 5.0679 - mean_squared_error: 5.0679 - val_loss: 39.7249 - val_mean_squared_error: 39.7249\n",
      "Epoch 34/50\n",
      "339/339 [==============================] - 0s 185us/step - loss: 5.0906 - mean_squared_error: 5.0906 - val_loss: 38.6848 - val_mean_squared_error: 38.6848\n",
      "Epoch 35/50\n",
      "339/339 [==============================] - 0s 169us/step - loss: 5.1260 - mean_squared_error: 5.1260 - val_loss: 39.4429 - val_mean_squared_error: 39.4429\n",
      "Epoch 36/50\n",
      "339/339 [==============================] - 0s 242us/step - loss: 4.7735 - mean_squared_error: 4.7735 - val_loss: 38.2819 - val_mean_squared_error: 38.2819\n",
      "Epoch 37/50\n",
      "339/339 [==============================] - 0s 181us/step - loss: 4.8271 - mean_squared_error: 4.8271 - val_loss: 38.6118 - val_mean_squared_error: 38.6118\n",
      "Epoch 38/50\n",
      "339/339 [==============================] - 0s 173us/step - loss: 4.6548 - mean_squared_error: 4.6548 - val_loss: 37.4181 - val_mean_squared_error: 37.4181\n",
      "Epoch 39/50\n",
      "339/339 [==============================] - 0s 173us/step - loss: 4.7073 - mean_squared_error: 4.7073 - val_loss: 37.4552 - val_mean_squared_error: 37.4552\n",
      "Epoch 40/50\n",
      "339/339 [==============================] - 0s 178us/step - loss: 4.6044 - mean_squared_error: 4.6044 - val_loss: 36.8408 - val_mean_squared_error: 36.8408\n",
      "Epoch 41/50\n",
      "339/339 [==============================] - 0s 179us/step - loss: 4.6101 - mean_squared_error: 4.6101 - val_loss: 37.6035 - val_mean_squared_error: 37.6035\n",
      "Epoch 42/50\n",
      "339/339 [==============================] - 0s 186us/step - loss: 4.4264 - mean_squared_error: 4.4264 - val_loss: 36.8325 - val_mean_squared_error: 36.8325\n",
      "Epoch 43/50\n",
      "339/339 [==============================] - 0s 175us/step - loss: 4.4257 - mean_squared_error: 4.4257 - val_loss: 36.8990 - val_mean_squared_error: 36.8990\n",
      "Epoch 44/50\n",
      "339/339 [==============================] - 0s 194us/step - loss: 4.9481 - mean_squared_error: 4.9481 - val_loss: 35.7550 - val_mean_squared_error: 35.7550\n",
      "Epoch 45/50\n",
      "339/339 [==============================] - 0s 179us/step - loss: 4.4424 - mean_squared_error: 4.4424 - val_loss: 36.3643 - val_mean_squared_error: 36.3643\n",
      "Epoch 46/50\n",
      "339/339 [==============================] - 0s 194us/step - loss: 4.3002 - mean_squared_error: 4.3002 - val_loss: 36.4521 - val_mean_squared_error: 36.4521\n",
      "Epoch 47/50\n",
      "339/339 [==============================] - 0s 184us/step - loss: 4.1954 - mean_squared_error: 4.1954 - val_loss: 36.5634 - val_mean_squared_error: 36.5634\n",
      "Epoch 48/50\n",
      "339/339 [==============================] - 0s 184us/step - loss: 4.2309 - mean_squared_error: 4.2309 - val_loss: 35.9641 - val_mean_squared_error: 35.9641\n",
      "Epoch 49/50\n",
      "339/339 [==============================] - 0s 175us/step - loss: 4.1742 - mean_squared_error: 4.1742 - val_loss: 35.1878 - val_mean_squared_error: 35.1878\n",
      "Epoch 50/50\n",
      "339/339 [==============================] - 0s 167us/step - loss: 4.1532 - mean_squared_error: 4.1532 - val_loss: 35.8967 - val_mean_squared_error: 35.8967\n"
     ]
    },
    {
     "data": {
      "text/plain": [
       "<keras.callbacks.History at 0x1a29edcac8>"
      ]
     },
     "execution_count": 9,
     "metadata": {},
     "output_type": "execute_result"
    }
   ],
   "source": [
    "# Important Hyperparameters\n",
    "inputs = X.shape[1]\n",
    "epochs = 50\n",
    "batch_size = 10\n",
    "\n",
    "# Create Model\n",
    "model = Sequential()\n",
    "model.add(Dense(64, activation='relu', input_shape=(inputs,)))\n",
    "model.add(Dense(64, activation='relu'))\n",
    "model.add(Dense(1))\n",
    "# Compile Model\n",
    "model.compile(optimizer='adam', loss='mse', metrics=['mse'])\n",
    "# Fit Model\n",
    "model.fit(X, y, validation_split=0.33, epochs=epochs, batch_size=batch_size)"
   ]
  },
  {
   "cell_type": "markdown",
   "metadata": {
    "colab_type": "text",
    "id": "FYgb6yiKzyK5"
   },
   "source": [
    "## Model Verification using a Manual Verification Dataset\n",
    "\n",
    "Even though Keras has this nice feature you can still do train test split and pass it both X_test and y_test datasets as a tuple using the `validation_data` parameter."
   ]
  },
  {
   "cell_type": "code",
   "execution_count": 10,
   "metadata": {
    "colab": {
     "base_uri": "https://localhost:8080/",
     "height": 1750
    },
    "colab_type": "code",
    "id": "D6SenwGVzQlK",
    "outputId": "ccab02a8-f28f-4db9-9065-89b52b177266"
   },
   "outputs": [
    {
     "name": "stdout",
     "output_type": "stream",
     "text": [
      "Train on 339 samples, validate on 167 samples\n",
      "Epoch 1/50\n",
      "339/339 [==============================] - 0s 1ms/step - loss: 519.4874 - mean_squared_error: 519.4874 - val_loss: 365.9913 - val_mean_squared_error: 365.9913\n",
      "Epoch 2/50\n",
      "339/339 [==============================] - 0s 168us/step - loss: 315.0657 - mean_squared_error: 315.0657 - val_loss: 177.0889 - val_mean_squared_error: 177.0889\n",
      "Epoch 3/50\n",
      "339/339 [==============================] - 0s 164us/step - loss: 123.4160 - mean_squared_error: 123.4160 - val_loss: 62.9973 - val_mean_squared_error: 62.9973\n",
      "Epoch 4/50\n",
      "339/339 [==============================] - 0s 161us/step - loss: 50.5815 - mean_squared_error: 50.5815 - val_loss: 36.2530 - val_mean_squared_error: 36.2530\n",
      "Epoch 5/50\n",
      "339/339 [==============================] - 0s 208us/step - loss: 32.1080 - mean_squared_error: 32.1080 - val_loss: 26.2883 - val_mean_squared_error: 26.2883\n",
      "Epoch 6/50\n",
      "339/339 [==============================] - 0s 415us/step - loss: 25.3804 - mean_squared_error: 25.3804 - val_loss: 20.8688 - val_mean_squared_error: 20.8688\n",
      "Epoch 7/50\n",
      "339/339 [==============================] - 0s 168us/step - loss: 21.9959 - mean_squared_error: 21.9959 - val_loss: 19.2980 - val_mean_squared_error: 19.2980\n",
      "Epoch 8/50\n",
      "339/339 [==============================] - 0s 171us/step - loss: 20.0214 - mean_squared_error: 20.0214 - val_loss: 17.6925 - val_mean_squared_error: 17.6925\n",
      "Epoch 9/50\n",
      "339/339 [==============================] - 0s 207us/step - loss: 18.3651 - mean_squared_error: 18.3651 - val_loss: 16.4922 - val_mean_squared_error: 16.4922\n",
      "Epoch 10/50\n",
      "339/339 [==============================] - 0s 206us/step - loss: 17.3036 - mean_squared_error: 17.3036 - val_loss: 15.6223 - val_mean_squared_error: 15.6223\n",
      "Epoch 11/50\n",
      "339/339 [==============================] - 0s 186us/step - loss: 16.3681 - mean_squared_error: 16.3681 - val_loss: 15.5417 - val_mean_squared_error: 15.5417\n",
      "Epoch 12/50\n",
      "339/339 [==============================] - 0s 220us/step - loss: 15.7563 - mean_squared_error: 15.7563 - val_loss: 14.4007 - val_mean_squared_error: 14.4007\n",
      "Epoch 13/50\n",
      "339/339 [==============================] - 0s 180us/step - loss: 15.1451 - mean_squared_error: 15.1451 - val_loss: 14.0435 - val_mean_squared_error: 14.0435\n",
      "Epoch 14/50\n",
      "339/339 [==============================] - 0s 179us/step - loss: 14.5497 - mean_squared_error: 14.5497 - val_loss: 13.7091 - val_mean_squared_error: 13.7091\n",
      "Epoch 15/50\n",
      "339/339 [==============================] - 0s 190us/step - loss: 14.1646 - mean_squared_error: 14.1646 - val_loss: 13.6410 - val_mean_squared_error: 13.6410\n",
      "Epoch 16/50\n",
      "339/339 [==============================] - 0s 195us/step - loss: 13.7725 - mean_squared_error: 13.7725 - val_loss: 12.9767 - val_mean_squared_error: 12.9767\n",
      "Epoch 17/50\n",
      "339/339 [==============================] - 0s 208us/step - loss: 13.0623 - mean_squared_error: 13.0623 - val_loss: 12.7506 - val_mean_squared_error: 12.7506\n",
      "Epoch 18/50\n",
      "339/339 [==============================] - 0s 214us/step - loss: 13.0105 - mean_squared_error: 13.0105 - val_loss: 12.5937 - val_mean_squared_error: 12.5937\n",
      "Epoch 19/50\n",
      "339/339 [==============================] - 0s 253us/step - loss: 12.8309 - mean_squared_error: 12.8309 - val_loss: 12.4570 - val_mean_squared_error: 12.4570\n",
      "Epoch 20/50\n",
      "339/339 [==============================] - 0s 211us/step - loss: 12.1255 - mean_squared_error: 12.1255 - val_loss: 12.7772 - val_mean_squared_error: 12.7772\n",
      "Epoch 21/50\n",
      "339/339 [==============================] - 0s 171us/step - loss: 12.1506 - mean_squared_error: 12.1506 - val_loss: 13.1074 - val_mean_squared_error: 13.1074\n",
      "Epoch 22/50\n",
      "339/339 [==============================] - 0s 164us/step - loss: 11.9558 - mean_squared_error: 11.9558 - val_loss: 11.7250 - val_mean_squared_error: 11.7250\n",
      "Epoch 23/50\n",
      "339/339 [==============================] - 0s 182us/step - loss: 11.4651 - mean_squared_error: 11.4651 - val_loss: 13.0800 - val_mean_squared_error: 13.0800\n",
      "Epoch 24/50\n",
      "339/339 [==============================] - 0s 175us/step - loss: 11.4156 - mean_squared_error: 11.4156 - val_loss: 12.1173 - val_mean_squared_error: 12.1173\n",
      "Epoch 25/50\n",
      "339/339 [==============================] - 0s 148us/step - loss: 10.9430 - mean_squared_error: 10.9430 - val_loss: 13.2152 - val_mean_squared_error: 13.2152\n",
      "Epoch 26/50\n",
      "339/339 [==============================] - 0s 174us/step - loss: 10.8868 - mean_squared_error: 10.8868 - val_loss: 11.4012 - val_mean_squared_error: 11.4012\n",
      "Epoch 27/50\n",
      "339/339 [==============================] - 0s 165us/step - loss: 10.7803 - mean_squared_error: 10.7803 - val_loss: 12.1530 - val_mean_squared_error: 12.1530\n",
      "Epoch 28/50\n",
      "339/339 [==============================] - 0s 207us/step - loss: 10.4668 - mean_squared_error: 10.4668 - val_loss: 11.1037 - val_mean_squared_error: 11.1037\n",
      "Epoch 29/50\n",
      "339/339 [==============================] - 0s 199us/step - loss: 10.3638 - mean_squared_error: 10.3638 - val_loss: 11.7739 - val_mean_squared_error: 11.7739\n",
      "Epoch 30/50\n",
      "339/339 [==============================] - 0s 174us/step - loss: 10.1306 - mean_squared_error: 10.1306 - val_loss: 12.5832 - val_mean_squared_error: 12.5832\n",
      "Epoch 31/50\n",
      "339/339 [==============================] - 0s 182us/step - loss: 9.9952 - mean_squared_error: 9.9952 - val_loss: 11.1214 - val_mean_squared_error: 11.1214\n",
      "Epoch 32/50\n",
      "339/339 [==============================] - 0s 171us/step - loss: 9.9756 - mean_squared_error: 9.9756 - val_loss: 10.9940 - val_mean_squared_error: 10.9940\n",
      "Epoch 33/50\n",
      "339/339 [==============================] - 0s 177us/step - loss: 9.6172 - mean_squared_error: 9.6172 - val_loss: 10.7393 - val_mean_squared_error: 10.7393\n",
      "Epoch 34/50\n",
      "339/339 [==============================] - 0s 224us/step - loss: 9.5542 - mean_squared_error: 9.5542 - val_loss: 11.0065 - val_mean_squared_error: 11.0065\n",
      "Epoch 35/50\n",
      "339/339 [==============================] - 0s 213us/step - loss: 9.4879 - mean_squared_error: 9.4879 - val_loss: 11.2016 - val_mean_squared_error: 11.2016\n",
      "Epoch 36/50\n",
      "339/339 [==============================] - 0s 202us/step - loss: 9.1424 - mean_squared_error: 9.1424 - val_loss: 11.1849 - val_mean_squared_error: 11.1849\n",
      "Epoch 37/50\n",
      "339/339 [==============================] - 0s 188us/step - loss: 8.9774 - mean_squared_error: 8.9774 - val_loss: 10.6379 - val_mean_squared_error: 10.6379\n",
      "Epoch 38/50\n",
      "339/339 [==============================] - 0s 178us/step - loss: 9.2780 - mean_squared_error: 9.2780 - val_loss: 10.6900 - val_mean_squared_error: 10.6900\n",
      "Epoch 39/50\n",
      "339/339 [==============================] - 0s 218us/step - loss: 8.8247 - mean_squared_error: 8.8247 - val_loss: 10.6770 - val_mean_squared_error: 10.6770\n",
      "Epoch 40/50\n",
      "339/339 [==============================] - 0s 224us/step - loss: 8.7096 - mean_squared_error: 8.7096 - val_loss: 10.5028 - val_mean_squared_error: 10.5028\n",
      "Epoch 41/50\n",
      "339/339 [==============================] - 0s 193us/step - loss: 8.6961 - mean_squared_error: 8.6961 - val_loss: 10.5400 - val_mean_squared_error: 10.5400\n",
      "Epoch 42/50\n",
      "339/339 [==============================] - 0s 183us/step - loss: 8.7006 - mean_squared_error: 8.7006 - val_loss: 10.9096 - val_mean_squared_error: 10.9096\n",
      "Epoch 43/50\n",
      "339/339 [==============================] - 0s 176us/step - loss: 8.4920 - mean_squared_error: 8.4920 - val_loss: 11.0007 - val_mean_squared_error: 11.0007\n",
      "Epoch 44/50\n",
      "339/339 [==============================] - 0s 200us/step - loss: 8.3366 - mean_squared_error: 8.3366 - val_loss: 10.8925 - val_mean_squared_error: 10.8925\n",
      "Epoch 45/50\n",
      "339/339 [==============================] - 0s 186us/step - loss: 8.4031 - mean_squared_error: 8.4031 - val_loss: 11.1272 - val_mean_squared_error: 11.1272\n",
      "Epoch 46/50\n",
      "339/339 [==============================] - 0s 198us/step - loss: 8.2217 - mean_squared_error: 8.2217 - val_loss: 10.9613 - val_mean_squared_error: 10.9613\n",
      "Epoch 47/50\n",
      "339/339 [==============================] - 0s 184us/step - loss: 7.9973 - mean_squared_error: 7.9973 - val_loss: 10.7771 - val_mean_squared_error: 10.7771\n",
      "Epoch 48/50\n",
      "339/339 [==============================] - 0s 203us/step - loss: 8.0788 - mean_squared_error: 8.0788 - val_loss: 10.5990 - val_mean_squared_error: 10.5990\n",
      "Epoch 49/50\n",
      "339/339 [==============================] - 0s 218us/step - loss: 7.7893 - mean_squared_error: 7.7893 - val_loss: 10.5356 - val_mean_squared_error: 10.5356\n",
      "Epoch 50/50\n",
      "339/339 [==============================] - 0s 206us/step - loss: 7.6662 - mean_squared_error: 7.6662 - val_loss: 10.7311 - val_mean_squared_error: 10.7311\n"
     ]
    },
    {
     "data": {
      "text/plain": [
       "<keras.callbacks.History at 0x1a2a632710>"
      ]
     },
     "execution_count": 10,
     "metadata": {},
     "output_type": "execute_result"
    }
   ],
   "source": [
    "from sklearn.datasets import load_boston\n",
    "from sklearn.model_selection import train_test_split\n",
    "\n",
    "# Random Seed\n",
    "seed = 42\n",
    "numpy.random.seed(seed)\n",
    "\n",
    "# Load Dataset\n",
    "boston_dataset = load_boston()\n",
    "df = pd.DataFrame(boston_dataset.data, columns=boston_dataset.feature_names)\n",
    "df['MEDV'] = boston_dataset.target\n",
    "\n",
    "# Split into X and y and turn into numpy arays\n",
    "y = df.MEDV.values\n",
    "X = df.drop(\"MEDV\", axis='columns').values\n",
    "\n",
    "# Scale inputs\n",
    "scaler = StandardScaler()\n",
    "X = scaler.fit_transform(X)\n",
    "\n",
    "# Manual Validation Dataset\n",
    "X_train, X_test, y_train, y_test = train_test_split(X, y, test_size=0.33, random_state=seed)\n",
    "\n",
    "# Important Hyperparameters\n",
    "inputs = X.shape[1]\n",
    "epochs = 50\n",
    "batch_size = 10\n",
    "\n",
    "# Create Model\n",
    "model = Sequential()\n",
    "model.add(Dense(64, activation='relu', input_shape=(inputs,)))\n",
    "model.add(Dense(64, activation='relu'))\n",
    "model.add(Dense(1))\n",
    "# Compile Model\n",
    "model.compile(optimizer='rmsprop', loss='mse', metrics=['mse'])\n",
    "# Fit Model\n",
    "model.fit(X_train, y_train, validation_data=(X_test, y_test), epochs=epochs, batch_size=batch_size)\n"
   ]
  },
  {
   "cell_type": "markdown",
   "metadata": {
    "colab_type": "text",
    "id": "k3FOE1vxx7yn"
   },
   "source": [
    "## Manual K-fold Cross Validation (regression)\n",
    "\n",
    "K-fold Cross Validation is the best way to validate your model as it will reduce the variance of your overall accuracy measure by splitting the data into smaller cross validation batches using one of the split out datasets as the validation dataset. The model is then fit K times rotating the validation set until each portion of the data has served as the validation dataset, the accuracy results from each subset are then averaged and reported as the overall test accuracy. The upside is that you can be more confident in your model's final reported accuracy. The downside is that you have to train your model K times which is computationally expensive and just not pheasible for some large networks that can take days to train a single time.\n",
    "\n",
    "K-fold Cross Validation gets tricky if you want to standardize your data because you will have to standardize your X values for each fold of your model separately. Due to this, we're going to use a Scikit-Learn Pipeline to help us do this for each fold of our dataset. \n",
    "\n",
    "Also, it's weird, but cross_val_score returns MSE values as negative values:\n",
    "<https://github.com/scikit-learn/scikit-learn/issues/2439>"
   ]
  },
  {
   "cell_type": "code",
   "execution_count": 11,
   "metadata": {
    "colab": {
     "base_uri": "https://localhost:8080/",
     "height": 34
    },
    "colab_type": "code",
    "id": "OnIHhAYV3Xt-",
    "outputId": "ad8afa5d-740f-4988-8b34-7bf3966e2c5a"
   },
   "outputs": [
    {
     "name": "stdout",
     "output_type": "stream",
     "text": [
      "K-fold Cross-Val Results - Mean: 25.06 StDev: 13.81 MSE\n"
     ]
    }
   ],
   "source": [
    "# Keras imports\n",
    "from keras.models import Sequential\n",
    "from keras.layers import Dense\n",
    "from keras.wrappers.scikit_learn import KerasRegressor\n",
    "# sklearn imports\n",
    "from sklearn.datasets import load_boston\n",
    "from sklearn.model_selection import cross_val_score\n",
    "from sklearn.model_selection import KFold\n",
    "from sklearn.preprocessing import StandardScaler\n",
    "from sklearn.pipeline import Pipeline\n",
    "\n",
    "# Random Seed\n",
    "seed = 42\n",
    "numpy.random.seed(seed)\n",
    "\n",
    "# Load Dataset\n",
    "boston_dataset = load_boston()\n",
    "df = pd.DataFrame(boston_dataset.data, columns=boston_dataset.feature_names)\n",
    "df['MEDV'] = boston_dataset.target\n",
    "\n",
    "# Split into X and y and turn into numpy arays\n",
    "y = df.MEDV.values\n",
    "X = df.drop(\"MEDV\", axis='columns').values\n",
    "\n",
    "# Important Hyperparameters\n",
    "inputs = X.shape[1]\n",
    "epochs = 50\n",
    "batch_size = 10\n",
    "\n",
    "# define base model\n",
    "def baseline_model():\n",
    "  # create model\n",
    "  model = Sequential()\n",
    "  model.add(Dense(64, input_dim=inputs, activation='relu')) \n",
    "  model.add(Dense(64, activation='relu')) \n",
    "  model.add(Dense(1))\n",
    "  # Compile model\n",
    "  model.compile(loss='mean_squared_error', optimizer='adam')\n",
    "  return model\n",
    "\n",
    "# evaluate model with standardized dataset\n",
    "estimators = []\n",
    "estimators.append(('standardize', StandardScaler()))\n",
    "estimators.append(('mlp', KerasRegressor(build_fn=baseline_model, epochs=epochs, batch_size=batch_size,\n",
    "    verbose=0)))\n",
    "pipeline = Pipeline(estimators)\n",
    "kfold = KFold(n_splits=5, random_state=seed)\n",
    "results = cross_val_score(pipeline, X, y, cv=kfold)\n",
    "print(f\"K-fold Cross-Val Results - Mean: {-results.mean():.2f} StDev: {results.std():.2f} MSE\")"
   ]
  },
  {
   "cell_type": "code",
   "execution_count": 18,
   "metadata": {},
   "outputs": [
    {
     "name": "stdout",
     "output_type": "stream",
     "text": [
      "/Users/azel/Documents/GitHub/DS-Unit-4-Sprint-2-Neural-Networks/module4-Hyperparameter-Tuning\n"
     ]
    }
   ],
   "source": [
    "!pwd"
   ]
  },
  {
   "cell_type": "markdown",
   "metadata": {
    "colab_type": "text",
    "id": "N95xwMJw-5Di"
   },
   "source": [
    "## Manual K-fold Cross Validation (classification)"
   ]
  },
  {
   "cell_type": "code",
   "execution_count": 19,
   "metadata": {
    "colab": {
     "base_uri": "https://localhost:8080/",
     "height": 118
    },
    "colab_type": "code",
    "id": "4YNTT4Tm6E0W",
    "outputId": "0c4bcbb5-a831-42f4-ddf1-1d0ee47769b8"
   },
   "outputs": [
    {
     "name": "stderr",
     "output_type": "stream",
     "text": [
      "W0718 12:25:25.009125 4504171968 deprecation.py:323] From /anaconda3/envs/U4-S2-NNF/lib/python3.7/site-packages/tensorflow/python/ops/nn_impl.py:180: add_dispatch_support.<locals>.wrapper (from tensorflow.python.ops.array_ops) is deprecated and will be removed in a future version.\n",
      "Instructions for updating:\n",
      "Use tf.where in 2.0, which has the same broadcast rule as np.where\n"
     ]
    },
    {
     "name": "stdout",
     "output_type": "stream",
     "text": [
      "acc: 64.94%\n",
      "acc: 70.13%\n",
      "acc: 72.08%\n",
      "acc: 69.28%\n",
      "acc: 72.55%\n",
      "69.79% +/- 2.71%\n"
     ]
    }
   ],
   "source": [
    "# MLP for Pima Indians Dataset with 10-fold cross validation\n",
    "from keras.models import Sequential\n",
    "from keras.layers import Dense\n",
    "from sklearn.model_selection import StratifiedKFold\n",
    "import numpy\n",
    "\n",
    "# fix random seed for reproducibility\n",
    "seed = 42\n",
    "numpy.random.seed(seed)\n",
    "\n",
    "# load pima indians dataset\n",
    "dataset = numpy.loadtxt(\"pima-indians-diabetes.csv\", delimiter=\",\")\n",
    "\n",
    "# split into input (X) and output (Y) variables\n",
    "X = dataset[:,0:8]\n",
    "Y = dataset[:,8]\n",
    "\n",
    "# define 5-fold cross validation test harness\n",
    "kfold = StratifiedKFold(n_splits=5, shuffle=True, random_state=seed)\n",
    "cvscores = []\n",
    "for train, test in kfold.split(X, Y):\n",
    "  # create model\n",
    "  model = Sequential()\n",
    "  model.add(Dense(12, input_dim=8, activation='relu'))\n",
    "  model.add(Dense(8, activation='relu'))\n",
    "  model.add(Dense(1, activation='sigmoid'))\n",
    "  # Compile model\n",
    "  model.compile(loss='binary_crossentropy', optimizer='adam', metrics=['accuracy']) # Fit the model\n",
    "  model.fit(X[train], Y[train], epochs=150, batch_size=10, verbose=0)\n",
    "  # evaluate the model\n",
    "  scores = model.evaluate(X[test], Y[test], verbose=0)\n",
    "  print(f'{model.metrics_names[1]}: {(scores[1]*100):.2f}%') \n",
    "  cvscores.append(scores[1]*100)\n",
    "print(f'{numpy.mean(cvscores):.2f}% +/- {numpy.std(cvscores):.2f}%')"
   ]
  },
  {
   "cell_type": "markdown",
   "metadata": {
    "colab_type": "text",
    "id": "JILi3KJjAkfF"
   },
   "source": [
    "# Hyperparameter Tuning\n",
    "\n",
    "Hyperparameter tuning is much more important with neural networks than it has been with any other models that we have considered up to this point. Other supervised learning models might have a couple of parameters, but neural networks can have dozens. These can substantially affect the accuracy of our models and although it can be a time consuming process is a necessary step when working with neural networks.\n",
    "\n",
    "Hyperparameter tuning comes with a challenge. How can we compare models specified with different hyperparameters if our model's final error metric can vary somewhat erratically? How do we avoid just getting unlucky and selecting the wrong hyperparameter? This is a problem that to a certain degree we just have to live with as we test and test again. However, we can minimize it somewhat by pairing our experiments with Cross Validation to reduce the variance of our final accuracy values."
   ]
  },
  {
   "cell_type": "markdown",
   "metadata": {
    "colab_type": "text",
    "id": "sYJ8t_ezHP4W"
   },
   "source": [
    "## Hyperparameter Tuning Approaches:\n",
    "\n",
    "### 1) Babysitting AKA \"Grad Student Descent\".\n",
    "\n",
    "If you fiddled with any hyperparameters yesterday, this is basically what you did. This approach is 100% manual and is pretty common among researchers where finding that 1 exact specification that jumps your model to a level of accuracy never seen before is the difference between publishing and not publishing a paper. Of course the professors don't do this themselves, that's grunt work. This is also known as the fiddle with hyperparameters until you run out of time method.\n",
    "\n",
    "### 2) Grid Search\n",
    "\n",
    "Grid Search is the Grad Student galaxy brain realization of: why don't I just specify all the experiments I want to run and let the computer try every possible combination of them while I go and grab lunch. This has a specific downside in that if I specify 5 hyperparameters with 5 options each then I've just created 5^5 combinations of hyperparameters to check. Which means that I have to train 3125 different versions of my model Then if I use 5-fold Cross Validation on that then my model has to run 15,525 times. This is the brute-force method of hyperparameter tuning, but it can be very profitable if done wisely. \n",
    "\n",
    "When using Grid Search here's what I suggest: don't use it to test combinations of different hyperparameters, only use it to test different specifications of **a single** hyperparameter. It's rare that combinations between different hyperparameters lead to big performance gains. You'll get 90-95% of the way there if you just Grid Search one parameter and take the best result, then retain that best result while you test another, and then retain the best specification from that while you train another. This at least makes the situation much more manageable and leads to pretty good results. \n",
    "\n",
    "### 3) Random Search\n",
    "\n",
    "Do Grid Search for a couple of hours and you'll say to yourself - \"There's got to be a better way.\" Enter Random Search. For Random search you specify a hyperparameter space and it picks specifications from that randomly, tries them out, gives you the best results and says - That's going to have to be good enough, go home and spend time with your family. \n",
    "\n",
    "Grid Search treats every parameter as if it was equally important, but this just isn't the case, some are known to move the needle a lot more than others (we'll talk about that in a minute). Random Search allows searching to be specified along the most important parameter and experiments less along the dimensions of less important hyperparameters. The downside of Random search is that it won't find the absolute best hyperparameters, but it is much less costly to perform than Grid Search. \n",
    "\n",
    "### 4) Bayesian Methods\n",
    "\n",
    "One thing that can make more manual methods like babysitting and gridsearch effective is that as the experimenter sees results he can then make updates to his future searches taking into account the results of past specifications. If only we could hyperparameter tune our hyperparameter tuning. Well, we kind of can. Enter Bayesian Optimization. Neural Networks are like an optimization problem within an optimization problem, and Bayesian Optimization is a search strategy that tries to take into account the results of past searches in order to improve future ones. This is the most advanced method but can be a little bit tricky to implement. "
   ]
  },
  {
   "cell_type": "markdown",
   "metadata": {
    "colab_type": "text",
    "id": "HfQ7D043OMMn"
   },
   "source": [
    "## What Hyperparameters are there to test?\n",
    "\n",
    "- batch_size\n",
    "- training epochs\n",
    "- optimization algorithms\n",
    "- learning rate\n",
    "- momentum\n",
    "- activation functions\n",
    "- dropout regularization\n",
    "- number of neurons in the hidden layer\n",
    "\n",
    "There are more, but these are the most important."
   ]
  },
  {
   "cell_type": "markdown",
   "metadata": {
    "colab_type": "text",
    "id": "4Xl9c2VPPITI"
   },
   "source": [
    "## Creating a \"Test Harness\"\n",
    "\n",
    "You want it to be easy to specify different version of your model and for that model to undergo the same conditions every time with nothing different except for the hyperparameter(s) that you are testing. \n",
    "\n",
    "In order to do this we're going to use GridSearchCV from scikit learn to run our model with different hyperparameters and then report back to us the best one. In order to do this we have to wrap our model in either a KerasRegressor or KerasClassifier object to prepare it to work with Scikit-Learn. We also have to put our model specification within a function that we can call in order to generate it. This is required in order to use KerasRegressor or KerasClassifier"
   ]
  },
  {
   "cell_type": "markdown",
   "metadata": {
    "colab_type": "text",
    "id": "Mri5-kXzVKAa"
   },
   "source": [
    "## Batch Size\n",
    "\n",
    "Batch size determines how many observations the model is shown before it calculates loss/error and updates the model weights via gradient descent. You're looking for a sweet spot here where you're showing it enough observations that you have enough information to updates the weights, but not such a large batch size that you don't get a lot of weight update iterations performed in a given epoch. Feed-forward Neural Networks aren't as sensitive to bach_size as other networks, but it is still an important hyperparameter to tune. Smaller batch sizes will also take longer to train. "
   ]
  },
  {
   "cell_type": "code",
   "execution_count": 27,
   "metadata": {
    "colab": {
     "base_uri": "https://localhost:8080/",
     "height": 13561
    },
    "colab_type": "code",
    "id": "2smXfriNAGn7",
    "outputId": "ae996575-78e2-43fb-9dbe-5d44aaf0b430"
   },
   "outputs": [
    {
     "name": "stdout",
     "output_type": "stream",
     "text": [
      "Best: 0.7643229154249033 using {'batch_size': 80, 'epochs': 4000}\n",
      "Means: 0.7057291651144624, Stdev: 0.03987862578329374 with: {'batch_size': 10, 'epochs': 500}\n",
      "Means: 0.7513020819363495, Stdev: 0.03319673957016999 with: {'batch_size': 10, 'epochs': 1000}\n",
      "Means: 0.7460937491462877, Stdev: 0.02299937749332812 with: {'batch_size': 10, 'epochs': 2000}\n",
      "Means: 0.7239583340318253, Stdev: 0.034987052570442725 with: {'batch_size': 10, 'epochs': 4000}\n",
      "Means: 0.746093747826914, Stdev: 0.03996356706839868 with: {'batch_size': 20, 'epochs': 500}\n",
      "Means: 0.7031249996895591, Stdev: 0.050125982885841525 with: {'batch_size': 20, 'epochs': 1000}\n",
      "Means: 0.7161458334885538, Stdev: 0.0769001225548774 with: {'batch_size': 20, 'epochs': 2000}\n",
      "Means: 0.6367187480597446, Stdev: 0.17971580481586705 with: {'batch_size': 20, 'epochs': 4000}\n",
      "Means: 0.7148437450329462, Stdev: 0.022326072301368943 with: {'batch_size': 40, 'epochs': 500}\n",
      "Means: 0.7252604222546021, Stdev: 0.0461459601529177 with: {'batch_size': 40, 'epochs': 1000}\n",
      "Means: 0.7369791585952044, Stdev: 0.06538999227027323 with: {'batch_size': 40, 'epochs': 2000}\n",
      "Means: 0.7552083364377419, Stdev: 0.0241500464915688 with: {'batch_size': 40, 'epochs': 4000}\n",
      "Means: 0.6848958358168602, Stdev: 0.006639346376753183 with: {'batch_size': 60, 'epochs': 500}\n",
      "Means: 0.6054687564416478, Stdev: 0.18782524215515678 with: {'batch_size': 60, 'epochs': 1000}\n",
      "Means: 0.6432291736515859, Stdev: 0.1848316430185769 with: {'batch_size': 60, 'epochs': 2000}\n",
      "Means: 0.5989583322467903, Stdev: 0.1549533892353902 with: {'batch_size': 60, 'epochs': 4000}\n",
      "Means: 0.6067708265036345, Stdev: 0.15916337399620936 with: {'batch_size': 80, 'epochs': 500}\n",
      "Means: 0.6940104278425375, Stdev: 0.016053165696318556 with: {'batch_size': 80, 'epochs': 1000}\n",
      "Means: 0.7565104166666666, Stdev: 0.03513212713795942 with: {'batch_size': 80, 'epochs': 2000}\n",
      "Means: 0.7643229154249033, Stdev: 0.023938509335473014 with: {'batch_size': 80, 'epochs': 4000}\n"
     ]
    }
   ],
   "source": [
    "import numpy\n",
    "from sklearn.model_selection import GridSearchCV\n",
    "from keras.models import Sequential\n",
    "from keras.layers import Dense\n",
    "from keras.wrappers.scikit_learn import KerasClassifier\n",
    "\n",
    "# fix random seed for reproducibility\n",
    "seed = 7\n",
    "numpy.random.seed(seed)\n",
    "\n",
    "# load dataset\n",
    "dataset = numpy.loadtxt(\"pima-indians-diabetes.csv\", delimiter=\",\")\n",
    "\n",
    "# split into input (X) and output (Y) variables\n",
    "X = dataset[:,0:8]\n",
    "Y = dataset[:,8]\n",
    "\n",
    "# Function to create model, required for KerasClassifier\n",
    "def create_model():\n",
    "\t# create model\n",
    "\tmodel = Sequential()\n",
    "\tmodel.add(Dense(12, input_dim=8, activation='relu'))\n",
    "\tmodel.add(Dense(1, activation='sigmoid'))\n",
    "\t# Compile model\n",
    "\tmodel.compile(loss='binary_crossentropy', optimizer='adam', metrics=['accuracy'])\n",
    "\treturn model\n",
    "\n",
    "# create model\n",
    "model = KerasClassifier(build_fn=create_model, verbose=1)\n",
    "\n",
    "# define the grid search parameters\n",
    "# batch_size = [10, 20, 40, 60, 80, 100]\n",
    "# param_grid = dict(batch_size=batch_size, epochs=epochs)\n",
    "\n",
    "# define the grid search parameters\n",
    "param_grid = {'batch_size': [10, 20, 40, 60, 80],\n",
    "              'epochs': [500, 1000, 2000, 4000]}\n",
    "\n",
    "# Create Grid Search\n",
    "grid = GridSearchCV(estimator=model, param_grid=param_grid, n_jobs=-1)\n",
    "grid_result = grid.fit(X, Y, verbose=0)\n",
    "\n",
    "# Report Results\n",
    "print(f\"Best: {grid_result.best_score_} using {grid_result.best_params_}\")\n",
    "means = grid_result.cv_results_['mean_test_score']\n",
    "stds = grid_result.cv_results_['std_test_score']\n",
    "params = grid_result.cv_results_['params']\n",
    "for mean, stdev, param in zip(means, stds, params):\n",
    "    print(f\"Means: {mean}, Stdev: {stdev} with: {param}\") "
   ]
  },
  {
   "cell_type": "markdown",
   "metadata": {
    "colab_type": "text",
    "id": "pmABfjlvXbqi"
   },
   "source": [
    "## Epochs\n",
    "\n",
    "The number of training epochs has a large and direct affect on the accuracy, However, more epochs is almost always goign to better than less epochs. This means that if you tune this parameter at the beginning and try and maintain the same value all throughout your training, you're going to be waiting a long time for each iteration of GridSearch. I suggest picking a fixed moderat # of epochs all throughout your training and then Grid Searching this parameter at the very end. "
   ]
  },
  {
   "cell_type": "code",
   "execution_count": 24,
   "metadata": {
    "colab": {
     "base_uri": "https://localhost:8080/",
     "height": 26329
    },
    "colab_type": "code",
    "id": "bAmxP3N7TmFh",
    "outputId": "3ddb08c4-51ac-4eaa-ff39-143397024544"
   },
   "outputs": [
    {
     "name": "stdout",
     "output_type": "stream",
     "text": [
      "256/256 [==============================] - 1s 2ms/step\n",
      "256/256 [==============================] - 1s 2ms/step\n",
      "256/256 [==============================] - 1s 2ms/step\n",
      "256/256 [==============================] - 1s 2ms/step\n",
      "256/256 [==============================] - 1s 2ms/step\n",
      "256/256 [==============================] - 1s 2ms/step\n",
      "256/256 [==============================] - 1s 2ms/step\n",
      "256/256 [==============================] - 1s 2ms/step\n",
      "256/256 [==============================] - 1s 2ms/step\n",
      "256/256 [==============================] - 1s 3ms/step\n",
      "256/256 [==============================] - 1s 3ms/step\n",
      "256/256 [==============================] - 1s 3ms/step\n",
      "256/256 [==============================] - 1s 3ms/step\n",
      "256/256 [==============================] - 1s 3ms/step\n",
      "256/256 [==============================] - 1s 3ms/step\n",
      "256/256 [==============================] - 1s 3ms/step\n",
      "256/256 [==============================] - 1s 3ms/step\n",
      "256/256 [==============================] - 1s 3ms/step\n",
      "Best: 0.6653645870586237 using {'batch_size': 80, 'epochs': 60}\n",
      "Means: 0.630208333954215, Stdev: 0.02894024845546967 with: {'batch_size': 60, 'epochs': 20}\n",
      "Means: 0.5351562479821345, Stdev: 0.1198906993390319 with: {'batch_size': 60, 'epochs': 40}\n",
      "Means: 0.6289062486030161, Stdev: 0.01991804972380422 with: {'batch_size': 60, 'epochs': 60}\n",
      "Means: 0.5807291542490324, Stdev: 0.029634915948678776 with: {'batch_size': 80, 'epochs': 20}\n",
      "Means: 0.6250000074505806, Stdev: 0.04719940172573377 with: {'batch_size': 80, 'epochs': 40}\n",
      "Means: 0.6653645870586237, Stdev: 0.013278695919392004 with: {'batch_size': 80, 'epochs': 60}\n"
     ]
    }
   ],
   "source": [
    "# define the grid search parameters\n",
    "param_grid = {'batch_size': [60, 80],\n",
    "              'epochs': [20, 40, 60]}\n",
    "\n",
    "# Create Grid Search\n",
    "grid = GridSearchCV(estimator=model, param_grid=param_grid, n_jobs=1)\n",
    "grid_result = grid.fit(X, Y, verbose=0)\n",
    "\n",
    "# Report Results\n",
    "print(f\"Best: {grid_result.best_score_} using {grid_result.best_params_}\")\n",
    "means = grid_result.cv_results_['mean_test_score']\n",
    "stds = grid_result.cv_results_['std_test_score']\n",
    "params = grid_result.cv_results_['params']\n",
    "for mean, stdev, param in zip(means, stds, params):\n",
    "    print(f\"Means: {mean}, Stdev: {stdev} with: {param}\")"
   ]
  },
  {
   "cell_type": "code",
   "execution_count": null,
   "metadata": {
    "colab": {},
    "colab_type": "code",
    "id": "b5feRhSiZ9o9"
   },
   "outputs": [],
   "source": []
  },
  {
   "cell_type": "markdown",
   "metadata": {
    "colab_type": "text",
    "id": "EKcuY6OiaLfz"
   },
   "source": [
    "## Optimizer\n",
    "\n",
    "Remember that there's a different optimizers [optimizers](https://keras.io/optimizers/). At some point, take some time to read up on them a little bit. \"adam\" usually gives the best results. The thing to know about choosing an optimizer is that different optimizers have different hyperparameters like learning rate, momentum, etc. So based on the optimizer you choose you might also have to tune the learning rate and momentum of those optimizers after that. "
   ]
  },
  {
   "cell_type": "markdown",
   "metadata": {
    "colab_type": "text",
    "id": "DG3wq5iOaLig"
   },
   "source": [
    "## Learning Rate\n",
    "\n",
    "Remember that the Learning Rate is a hyperparameter that is specific to your gradient-descent based optimizer selection. A learning rate that is too high will cause divergent behavior, but a Learning Rate that is too low will fail to converge, again, you're looking for the sweet spot. I would start out tuning learning rates by orders of magnitude: [.001, .01, .1, .2, .3, .5] etc. I wouldn't go above .5, but you can try it and see what the behavior is like. \n",
    "\n",
    "Once you have narrowed it down, make the window even smaller and try it again. If after running the above specification your model reports that .1 is the best optimizer, then you should probably try things like [.05, .08, .1, .12, .15] to try and narrow it down. \n",
    "\n",
    "It can also be good to tune the number of epochs in combination with the learning rate since the number of iterations that you allow the learning rate to reach the minimum can determine if you have let it run long enough to converge to the minimum. "
   ]
  },
  {
   "cell_type": "markdown",
   "metadata": {
    "colab_type": "text",
    "id": "gNTBUWd1aLlA"
   },
   "source": [
    "## Momentum\n",
    "\n",
    "Momentum is a hyperparameter that is more commonly associated with Stochastic Gradient Descent. SGD is a common optimizer because it's what people understand and know, but I doubt it will get you the best results, you can try hyperparameter tuning its attributes and see if you can beat the performance from adam. Momentum is a property that decides the willingness of an optimizer to overshoot the minimum. Imagine a ball rolling down one side of a bowl and then up the opposite side a little bit before settling back to the bottom. The purpose of momentum is to try and escale local minima."
   ]
  },
  {
   "cell_type": "markdown",
   "metadata": {
    "colab_type": "text",
    "id": "xnEG-bCJaLnZ"
   },
   "source": [
    "## Activation Functions\n",
    "\n",
    "We've talked about this a little bit, typically you'l want to use ReLU for hidden layers and either Sigmoid, or Softmax for output layers of binary and multi-class classification implementations respectively, but try other activation functions and see if you can get any better results with sigmoid or tanh or something. There are a lot of activation functions that we haven't really talked about. Maybe you'll get good results with them. Maybe you won't. :) <https://keras.io/activations/>"
   ]
  },
  {
   "cell_type": "code",
   "execution_count": null,
   "metadata": {},
   "outputs": [],
   "source": []
  },
  {
   "cell_type": "markdown",
   "metadata": {
    "colab_type": "text",
    "id": "oul9sPq-dU-h"
   },
   "source": [
    "## Network Weight Initialization\n",
    "\n",
    "You saw how big of an effect the way that we initialize our network's weights can have on our results. There are **a lot** of what are called initialization modes. I don't understand all of them, but they can have a big affect on your model's initial accuracy. Your model will get further with less epochs if you initialize it with weights that are well suited to the problem you're trying to solve.\n",
    "\n",
    "`init_mode = ['uniform', 'lecun_uniform', 'normal', 'zero', 'glorot_normal', 'glorot_uniform', 'he_normal', 'he_uniform']`"
   ]
  },
  {
   "cell_type": "markdown",
   "metadata": {
    "colab_type": "text",
    "id": "bqtEuxeQaLqE"
   },
   "source": [
    "## Dropout Regularization and the Weight Constraint\n",
    "\n",
    "the Dropout Regularization value is a percentage of neurons that you want to be randomly deactivated during training. The weight constraint is a second regularization parameter that works in tandem with dropout regularization. You should tune these two values at the same time. \n",
    "\n",
    "Using dropout on visible vs hidden layers might have a different effect. Using dropout on hidden layers might not have any effect while using dropout on hidden layers might have a substantial effect. You don't necessarily need to turn use dropout unless you see that your model has overfitting and generalizability problems."
   ]
  },
  {
   "cell_type": "markdown",
   "metadata": {
    "colab_type": "text",
    "id": "P2c5Cv6oaLtO"
   },
   "source": [
    "## Neurons in Hidden Layer \n",
    "\n",
    "Remember that when we only had a single perceptron our model was only able to fit to linearly separable data, but as we have added layers and nodes to those layers our network has become a powerhouse of fitting nonlinearity in data. The larger the network and the more nodes generally the stronger the network's capacity to fit nonlinear patterns in data. The more nodes and layers the longer it will take to train a network, and higher the probability of overfitting. The larger your network gets the more you'll need dropout regularization or other regularization techniques to keep it in check. \n",
    "\n",
    "Typically depth (more layers) is more important than width (more nodes) for neural networks. This is part of why Deep Learning is so highly touted. Certain deep learning architectures have truly been huge breakthroughs for certain machine learning tasks. \n",
    "\n",
    "You might borrow ideas from other network architectures. For example if I was doing image recognition and I wasn't taking cues from state of the art architectures like resnet, alexnet, googlenet, etc. Then I'm probably going to have to do a lot more experimentation on my own before I find something that works.\n",
    "\n",
    "There are some heuristics, but I am highly skeptical of them. I think you're better off experimenting on your own and forming your own intuition for these kinds of problems. \n",
    "\n",
    "- https://machinelearningmastery.com/how-to-configure-the-number-of-layers-and-nodes-in-a-neural-network/"
   ]
  },
  {
   "cell_type": "markdown",
   "metadata": {
    "colab_type": "text",
    "id": "3LvRYQOwd-aZ"
   },
   "source": [
    "# Hyperparameter Tuning Tips:\n",
    "\n",
    "1) Use **at least** 3-fold cross validation. 5-fold or 10-fold would be better if you're patient enough.\n",
    "\n",
    "2) Sampling your dataset can speed up iterations if you have enough data to justify it.\n",
    "\n",
    "3) Start with \"Coarse Grids\" we gave an example of this when we were talking about Learning Rate, start with wide gaps between values that you're testing and then run additional tests with more narrow gaps between values until you find an optimum.\n",
    "\n",
    "4) Even though we're using Cross Validation, reproducibility can still be a challenge. Don't be afraid to run some tests multiple times to see if you get the same results. Sometimes the accuracy differences are so slight that grid search picking one hyperparameter over another is just luck of the draw.\n",
    "\n",
    "5) Run your tests in verbose mode. Not only will you be less stressed out wondering if it's actually running, but you will be able to more quickly identify if something has gone haywire by glancing at the output every now and again.\n",
    "\n",
    "6) Pick a moderate amount of epochs and stick with that all throughout your training, until the very end, then tune your epochs. \n",
    "\n",
    "7) As you begin to have a lot of hyperparameters narrowed down, test them along with narrow versions of other hyperparameters in order to catch the small effects of interactions between specific hyperparameters.\n",
    "\n",
    "8) Being a perfectionist here is going to be a long and painful journey, so please do a cost-benefit analysis of how you're using your time here. Learn the concept, have the experience, but don't spend 3 days hyperparameter tuning your assignment."
   ]
  },
  {
   "cell_type": "markdown",
   "metadata": {
    "colab_type": "text",
    "id": "z2cC0lpAhDQ_"
   },
   "source": [
    "## Additional Reading:\n",
    "\n",
    "I know I sound like a shill for Jason Brownlee, but honestly he has some of the very best articles on the internet in regards to hyperparameter tuning with Keras. I have leaned on his articles heavily when doing hyperparameter tuning before and saw great results from following his advice. He has articles on lots and lots of Keras related topics, so keep an ey out for his website: <http://machinelearningmastery.com> as you look through search results today.\n",
    "\n",
    "- https://machinelearningmastery.com/grid-search-hyperparameters-deep-learning-models-python-keras/\n",
    "- https://blog.floydhub.com/guide-to-hyperparameters-search-for-deep-learning-models/\n",
    "- https://machinelearningmastery.com/dropout-regularization-deep-learning-models-keras/\n",
    "- https://machinelearningmastery.com/introduction-to-weight-constraints-to-reduce-generalization-error-in-deep-learning/\n",
    "- https://machinelearningmastery.com/how-to-configure-the-number-of-layers-and-nodes-in-a-neural-network/"
   ]
  }
 ],
 "metadata": {
  "colab": {
   "collapsed_sections": [],
   "name": "LS_DS_434_Hyperparameter_Tuning.ipynb",
   "provenance": [],
   "version": "0.3.2"
  },
  "kernelspec": {
   "display_name": "Python 3",
   "language": "python",
   "name": "python3"
  },
  "language_info": {
   "codemirror_mode": {
    "name": "ipython",
    "version": 3
   },
   "file_extension": ".py",
   "mimetype": "text/x-python",
   "name": "python",
   "nbconvert_exporter": "python",
   "pygments_lexer": "ipython3",
   "version": "3.7.3"
  }
 },
 "nbformat": 4,
 "nbformat_minor": 2
}
