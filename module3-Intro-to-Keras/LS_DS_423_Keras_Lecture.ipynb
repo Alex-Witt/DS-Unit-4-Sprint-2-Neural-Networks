{
 "cells": [
  {
   "cell_type": "markdown",
   "metadata": {
    "colab_type": "text",
    "id": "HJzTIkYAsLxw"
   },
   "source": [
    "# Lets Use Libraries!\n",
    "\n",
    "The objective of the last two days has been to familiarize you with the fundamentals of neural networks: terminology, structure of networks, forward propagation, error/cost functions, backpropagation, epochs, and gradient descent. We have tried to reinforce these topics by requiring to you code some of the simplest neural networks by hand including Perceptrons (single node neural networks) and Multi-Layer Perceptrons also known as Feed-Forward Neural Networks. Continuing to do things by hand would not be the best use of our limited time. You're ready to graduate from doing things by hand and start using some powerful libraries to build cutting-edge predictive models. "
   ]
  },
  {
   "cell_type": "markdown",
   "metadata": {
    "colab_type": "text",
    "id": "MFYCXc5KdkPE"
   },
   "source": [
    "# Keras\n",
    "\n",
    "> \"Keras is a high-level neural networks API, written in Python and capable of running on top of TensorFlow, CNTK, or Theano. It was developed with a focus on enabling fast experimentation. Being able to go from idea to result with the least possible delay is key to doing good research. Use Keras if you need a deep learning library that:\n",
    "\n",
    "> Allows for easy and fast prototyping (through user friendliness, modularity, and extensibility).\n",
    "Supports both convolutional networks and recurrent networks, as well as combinations of the two.\n",
    "Runs seamlessly on CPU and GPU.\" \n",
    "\n",
    "## Installation\n",
    "\n",
    "The Keras API is particularly straightforward and it already comes pre-installed on Google Colab! \n",
    "\n",
    "<img src=\"http://www.ryanleeallred.com/wp-content/uploads/2019/04/pip-freeze-keras.png\" width=\"300\">\n",
    "\n",
    "If you're not on Google Colab you'll need to install one of the \"backend\" engines that Keras runs on top of. I recommend Tensorflow:\n",
    "\n",
    "> `pip install tensorflow`\n",
    "\n",
    "Google Colab does not have the latest Tensorflow 2.0 installation, so you'll need to upgrade to that if you want to experiment with it. However Tensorflow 2.0 was just released last month and is still in \"alpha\" so if you **really** want to use the latest and greatest be prepared for odd bugs that you don't have control over every once in a while. <https://www.tensorflow.org/install/>"
   ]
  },
  {
   "cell_type": "code",
   "execution_count": null,
   "metadata": {
    "colab": {},
    "colab_type": "code",
    "id": "QEncs0SOsFMT"
   },
   "outputs": [],
   "source": [
    "# Use pip freeze to see what packages/libraries your notebook has access to\n",
    "# !pip freeze"
   ]
  },
  {
   "cell_type": "markdown",
   "metadata": {
    "colab_type": "text",
    "id": "VxgUUpIKn54a"
   },
   "source": [
    "## Our First Keras Model - Perceptron, Batch epochs\n",
    "\n",
    "1) Load Data\n",
    "\n",
    "2) Define Model\n",
    "\n",
    "3) Compile Model\n",
    "\n",
    "4) Fit Model\n",
    "\n",
    "5) Evaluate Model"
   ]
  },
  {
   "cell_type": "markdown",
   "metadata": {
    "colab_type": "text",
    "id": "Md5D67XwqVAf"
   },
   "source": [
    "### Load Data\n",
    "\n",
    "Our life is going to be easier if our data is already cleaned up and numeric, so lets use this dataset from Jason Brownlee that is already numeric and has no column headers so we'll need to slice off the last column of data to act as our y values."
   ]
  },
  {
   "cell_type": "code",
   "execution_count": 9,
   "metadata": {
    "colab": {
     "base_uri": "https://localhost:8080/",
     "height": 725
    },
    "colab_type": "code",
    "id": "FKuofD3Pogil",
    "outputId": "16c2f4fa-93c8-491d-b339-9f35f7918621"
   },
   "outputs": [
    {
     "name": "stdout",
     "output_type": "stream",
     "text": [
      "(768, 8)\n",
      "[[  6.    148.     72.    ...  33.6     0.627  50.   ]\n",
      " [  1.     85.     66.    ...  26.6     0.351  31.   ]\n",
      " [  8.    183.     64.    ...  23.3     0.672  32.   ]\n",
      " ...\n",
      " [  5.    121.     72.    ...  26.2     0.245  30.   ]\n",
      " [  1.    126.     60.    ...  30.1     0.349  47.   ]\n",
      " [  1.     93.     70.    ...  30.4     0.315  23.   ]]\n",
      "(768,)\n",
      "[1. 0. 1. 0. 1. 0. 1. 0. 1. 1. 0. 1. 0. 1. 1. 1. 1. 1. 0. 1. 0. 0. 1. 1.\n",
      " 1. 1. 1. 0. 0. 0. 0. 1. 0. 0. 0. 0. 0. 1. 1. 1. 0. 0. 0. 1. 0. 1. 0. 0.\n",
      " 1. 0. 0. 0. 0. 1. 0. 0. 1. 0. 0. 0. 0. 1. 0. 0. 1. 0. 1. 0. 0. 0. 1. 0.\n",
      " 1. 0. 0. 0. 0. 0. 1. 0. 0. 0. 0. 0. 1. 0. 0. 0. 1. 0. 0. 0. 0. 1. 0. 0.\n",
      " 0. 0. 0. 1. 1. 0. 0. 0. 0. 0. 0. 0. 0. 1. 1. 1. 0. 0. 1. 1. 1. 0. 0. 0.\n",
      " 1. 0. 0. 0. 1. 1. 0. 0. 1. 1. 1. 1. 1. 0. 0. 0. 0. 0. 0. 0. 0. 0. 0. 1.\n",
      " 0. 0. 0. 0. 0. 0. 0. 0. 1. 0. 1. 1. 0. 0. 0. 1. 0. 0. 0. 0. 1. 1. 0. 0.\n",
      " 0. 0. 1. 1. 0. 0. 0. 1. 0. 1. 0. 1. 0. 0. 0. 0. 0. 1. 1. 1. 1. 1. 0. 0.\n",
      " 1. 1. 0. 1. 0. 1. 1. 1. 0. 0. 0. 0. 0. 0. 1. 1. 0. 1. 0. 0. 0. 1. 1. 1.\n",
      " 1. 0. 1. 1. 1. 1. 0. 0. 0. 0. 0. 1. 0. 0. 1. 1. 0. 0. 0. 1. 1. 1. 1. 0.\n",
      " 0. 0. 1. 1. 0. 1. 0. 0. 0. 0. 0. 0. 0. 0. 1. 1. 0. 0. 0. 1. 0. 1. 0. 0.\n",
      " 1. 0. 1. 0. 0. 1. 1. 0. 0. 0. 0. 0. 1. 0. 0. 0. 1. 0. 0. 1. 1. 0. 0. 1.\n",
      " 0. 0. 0. 1. 1. 1. 0. 0. 1. 0. 1. 0. 1. 1. 0. 1. 0. 0. 1. 0. 1. 1. 0. 0.\n",
      " 1. 0. 1. 0. 0. 1. 0. 1. 0. 1. 1. 1. 0. 0. 1. 0. 1. 0. 0. 0. 1. 0. 0. 0.\n",
      " 0. 1. 1. 1. 0. 0. 0. 0. 0. 0. 0. 0. 0. 1. 0. 0. 0. 0. 0. 1. 1. 1. 0. 1.\n",
      " 1. 0. 0. 1. 0. 0. 1. 0. 0. 1. 1. 0. 0. 0. 0. 1. 0. 0. 1. 0. 0. 0. 0. 0.\n",
      " 0. 0. 1. 1. 1. 0. 0. 1. 0. 0. 1. 0. 0. 1. 0. 1. 1. 0. 1. 0. 1. 0. 1. 0.\n",
      " 1. 1. 0. 0. 0. 0. 1. 1. 0. 1. 0. 1. 0. 0. 0. 0. 1. 1. 0. 1. 0. 1. 0. 0.\n",
      " 0. 0. 0. 1. 0. 0. 0. 0. 1. 0. 0. 1. 1. 1. 0. 0. 1. 0. 0. 1. 0. 0. 0. 1.\n",
      " 0. 0. 1. 0. 0. 0. 0. 0. 0. 0. 0. 0. 1. 0. 0. 0. 0. 0. 0. 0. 1. 0. 0. 0.\n",
      " 1. 0. 0. 0. 1. 1. 0. 0. 0. 0. 0. 0. 0. 1. 0. 0. 0. 0. 1. 0. 0. 0. 1. 0.\n",
      " 0. 0. 1. 0. 0. 0. 1. 0. 0. 0. 0. 1. 1. 0. 0. 0. 0. 0. 0. 1. 0. 0. 0. 0.\n",
      " 0. 0. 0. 0. 0. 0. 0. 1. 0. 0. 0. 1. 1. 1. 1. 0. 0. 1. 1. 0. 0. 0. 0. 0.\n",
      " 0. 0. 0. 0. 0. 0. 0. 0. 1. 1. 0. 0. 0. 0. 0. 0. 0. 1. 0. 0. 0. 0. 0. 0.\n",
      " 0. 1. 0. 1. 1. 0. 0. 0. 1. 0. 1. 0. 1. 0. 1. 0. 1. 0. 0. 1. 0. 0. 1. 0.\n",
      " 0. 0. 0. 1. 1. 0. 1. 0. 0. 0. 0. 1. 1. 0. 1. 0. 0. 0. 1. 1. 0. 0. 0. 0.\n",
      " 0. 0. 0. 0. 0. 0. 1. 0. 0. 0. 0. 1. 0. 0. 1. 0. 0. 0. 1. 0. 0. 0. 1. 1.\n",
      " 1. 0. 0. 0. 0. 0. 0. 1. 0. 0. 0. 1. 0. 1. 1. 1. 1. 0. 1. 1. 0. 0. 0. 0.\n",
      " 0. 0. 0. 1. 1. 0. 1. 0. 0. 1. 0. 1. 0. 0. 0. 0. 0. 1. 0. 1. 0. 1. 0. 1.\n",
      " 1. 0. 0. 0. 0. 1. 1. 0. 0. 0. 1. 0. 1. 1. 0. 0. 1. 0. 0. 1. 1. 0. 0. 1.\n",
      " 0. 0. 1. 0. 0. 0. 0. 0. 0. 0. 1. 1. 1. 0. 0. 0. 0. 0. 0. 1. 1. 0. 0. 1.\n",
      " 0. 0. 1. 0. 1. 1. 1. 0. 0. 1. 1. 1. 0. 1. 0. 1. 0. 1. 0. 0. 0. 0. 1. 0.]\n"
     ]
    }
   ],
   "source": [
    "# Load Pima Indians Dataset\n",
    "dataset = np.loadtxt('https://raw.githubusercontent.com/jbrownlee/Datasets/master/pima-indians-diabetes.data.csv', delimiter=',')\n",
    "# Split into X and Y variables\n",
    "X = dataset[:,0:8]\n",
    "print(X.shape)\n",
    "print(X)\n",
    "Y = dataset[:,-1]\n",
    "print(Y.shape)\n",
    "print(Y)"
   ]
  },
  {
   "cell_type": "markdown",
   "metadata": {
    "colab_type": "text",
    "id": "o0xMqOyTs5xt"
   },
   "source": [
    "### Define Model"
   ]
  },
  {
   "cell_type": "code",
   "execution_count": 10,
   "metadata": {
    "colab": {},
    "colab_type": "code",
    "id": "Bp9USczrfu6M"
   },
   "outputs": [
    {
     "name": "stderr",
     "output_type": "stream",
     "text": [
      "Using TensorFlow backend.\n"
     ]
    }
   ],
   "source": [
    "from keras.models import Sequential\n",
    "from keras.layers import Dense\n",
    "import numpy\n",
    "# fix random seed for reproducibility\n",
    "numpy.random.seed(42)"
   ]
  },
  {
   "cell_type": "markdown",
   "metadata": {
    "colab_type": "text",
    "id": "wAzHLg27thoN"
   },
   "source": [
    "I'll instantiate my model as a \"sequential\" model. This just means that I'm going to tell Keras what my model's architecture should be one layer at a time."
   ]
  },
  {
   "cell_type": "code",
   "execution_count": 11,
   "metadata": {
    "colab": {},
    "colab_type": "code",
    "id": "DSNsL49Xp6KI"
   },
   "outputs": [
    {
     "name": "stderr",
     "output_type": "stream",
     "text": [
      "WARNING: Logging before flag parsing goes to stderr.\n",
      "W0717 12:42:42.885740 4393203136 deprecation_wrapper.py:119] From /anaconda3/envs/U4-S2-NNF/lib/python3.7/site-packages/keras/backend/tensorflow_backend.py:74: The name tf.get_default_graph is deprecated. Please use tf.compat.v1.get_default_graph instead.\n",
      "\n"
     ]
    }
   ],
   "source": [
    "# https://keras.io/getting-started/sequential-model-guide/\n",
    "model = Sequential()"
   ]
  },
  {
   "cell_type": "markdown",
   "metadata": {
    "colab_type": "text",
    "id": "ZCYX6QzJtvpG"
   },
   "source": [
    "Adding a \"Dense\" layer to our model is how we add \"vanilla\" perceptron-based layers to our neural network. These are also called \"fully-connected\" or \"densely-connected\" layers. They're used as a layer type in lots of other Neural Net Architectures but they're not referred to as perceptrons or multi-layer perceptrons very often in those situations even though that's what they are.\n",
    "\n",
    " > [\"Just your regular densely-connected NN layer.\"](https://keras.io/layers/core/)\n",
    " \n",
    " The first argument is how many neurons we want to have in that layer. To create a perceptron model we will just set it to 1. We will tell it that there will be 8 inputs coming into this layer from our dataset and set it to use the sigmoid activation function."
   ]
  },
  {
   "cell_type": "code",
   "execution_count": 12,
   "metadata": {
    "colab": {
     "base_uri": "https://localhost:8080/",
     "height": 89
    },
    "colab_type": "code",
    "id": "GNzOLidxtvFa",
    "outputId": "35b1457d-0189-49f1-aa6d-3ef15b29bd6e"
   },
   "outputs": [
    {
     "name": "stderr",
     "output_type": "stream",
     "text": [
      "W0717 12:42:45.471043 4393203136 deprecation_wrapper.py:119] From /anaconda3/envs/U4-S2-NNF/lib/python3.7/site-packages/keras/backend/tensorflow_backend.py:517: The name tf.placeholder is deprecated. Please use tf.compat.v1.placeholder instead.\n",
      "\n",
      "W0717 12:42:45.480654 4393203136 deprecation_wrapper.py:119] From /anaconda3/envs/U4-S2-NNF/lib/python3.7/site-packages/keras/backend/tensorflow_backend.py:4138: The name tf.random_uniform is deprecated. Please use tf.random.uniform instead.\n",
      "\n"
     ]
    }
   ],
   "source": [
    "model.add(Dense(1, input_dim=8, activation=\"sigmoid\"))"
   ]
  },
  {
   "cell_type": "markdown",
   "metadata": {
    "colab_type": "text",
    "id": "EnI3jwKMtBL2"
   },
   "source": [
    "### Compile Model\n",
    "Using binary_crossentropy as the loss function here is just telling keras that I'm doing binary classification so that it can use the appropriate loss function accordingly. If we were predicting non-binary categories we might assign something like `categorical_crossentropy`. We're also telling keras that we want it to report model accuracy as our main error metric for each epoch. We will also be able to see the overall accuracy once the model has finished training."
   ]
  },
  {
   "cell_type": "code",
   "execution_count": 13,
   "metadata": {
    "colab": {},
    "colab_type": "code",
    "id": "qp6xwYaqurRO"
   },
   "outputs": [
    {
     "name": "stderr",
     "output_type": "stream",
     "text": [
      "W0717 12:47:09.861613 4393203136 deprecation_wrapper.py:119] From /anaconda3/envs/U4-S2-NNF/lib/python3.7/site-packages/keras/optimizers.py:790: The name tf.train.Optimizer is deprecated. Please use tf.compat.v1.train.Optimizer instead.\n",
      "\n",
      "W0717 12:47:09.904990 4393203136 deprecation_wrapper.py:119] From /anaconda3/envs/U4-S2-NNF/lib/python3.7/site-packages/keras/backend/tensorflow_backend.py:3376: The name tf.log is deprecated. Please use tf.math.log instead.\n",
      "\n",
      "W0717 12:47:09.913242 4393203136 deprecation.py:323] From /anaconda3/envs/U4-S2-NNF/lib/python3.7/site-packages/tensorflow/python/ops/nn_impl.py:180: add_dispatch_support.<locals>.wrapper (from tensorflow.python.ops.array_ops) is deprecated and will be removed in a future version.\n",
      "Instructions for updating:\n",
      "Use tf.where in 2.0, which has the same broadcast rule as np.where\n"
     ]
    }
   ],
   "source": [
    "model.compile(loss='binary_crossentropy', optimizer='adam', metrics=['accuracy'])"
   ]
  },
  {
   "cell_type": "markdown",
   "metadata": {
    "colab_type": "text",
    "id": "5dW8SZ2Ls9SX"
   },
   "source": [
    "### Fit Model\n",
    "\n",
    "Lets train it up! `model.fit()` has a `batch_size` parameter that we can use if we want to do mini-batch epochs, but since this tabular dataset is pretty small we're just going to delete that parameter. Keras' default `batch_size` is `None` so omiting it will tell Keras to do batch epochs. "
   ]
  },
  {
   "cell_type": "code",
   "execution_count": 14,
   "metadata": {
    "colab": {
     "base_uri": "https://localhost:8080/",
     "height": 5288
    },
    "colab_type": "code",
    "id": "nJxdmX_-u5MJ",
    "outputId": "ae78a80d-5b9a-46e0-a8c2-45b41e40bdfd"
   },
   "outputs": [
    {
     "name": "stderr",
     "output_type": "stream",
     "text": [
      "W0717 12:47:12.555634 4393203136 deprecation_wrapper.py:119] From /anaconda3/envs/U4-S2-NNF/lib/python3.7/site-packages/keras/backend/tensorflow_backend.py:986: The name tf.assign_add is deprecated. Please use tf.compat.v1.assign_add instead.\n",
      "\n"
     ]
    },
    {
     "name": "stdout",
     "output_type": "stream",
     "text": [
      "Epoch 1/150\n",
      "768/768 [==============================] - 0s 310us/step - loss: 9.9197 - acc: 0.3555\n",
      "Epoch 2/150\n",
      "768/768 [==============================] - 0s 32us/step - loss: 9.8918 - acc: 0.3581\n",
      "Epoch 3/150\n",
      "768/768 [==============================] - 0s 33us/step - loss: 9.8750 - acc: 0.3594\n",
      "Epoch 4/150\n",
      "768/768 [==============================] - 0s 31us/step - loss: 9.8403 - acc: 0.3620\n",
      "Epoch 5/150\n",
      "768/768 [==============================] - 0s 37us/step - loss: 9.6971 - acc: 0.3659\n",
      "Epoch 6/150\n",
      "768/768 [==============================] - 0s 32us/step - loss: 9.4594 - acc: 0.3724\n",
      "Epoch 7/150\n",
      "768/768 [==============================] - 0s 33us/step - loss: 9.3142 - acc: 0.3815\n",
      "Epoch 8/150\n",
      "768/768 [==============================] - 0s 30us/step - loss: 9.2859 - acc: 0.3854\n",
      "Epoch 9/150\n",
      "768/768 [==============================] - 0s 32us/step - loss: 9.2884 - acc: 0.3880\n",
      "Epoch 10/150\n",
      "768/768 [==============================] - 0s 32us/step - loss: 9.2809 - acc: 0.3880\n",
      "Epoch 11/150\n",
      "768/768 [==============================] - 0s 31us/step - loss: 9.2797 - acc: 0.3867\n",
      "Epoch 12/150\n",
      "768/768 [==============================] - 0s 31us/step - loss: 9.2739 - acc: 0.3919\n",
      "Epoch 13/150\n",
      "768/768 [==============================] - 0s 33us/step - loss: 9.2628 - acc: 0.3919\n",
      "Epoch 14/150\n",
      "768/768 [==============================] - 0s 33us/step - loss: 9.2600 - acc: 0.3945\n",
      "Epoch 15/150\n",
      "768/768 [==============================] - 0s 33us/step - loss: 9.2406 - acc: 0.3945\n",
      "Epoch 16/150\n",
      "768/768 [==============================] - 0s 34us/step - loss: 9.2274 - acc: 0.3958\n",
      "Epoch 17/150\n",
      "768/768 [==============================] - 0s 36us/step - loss: 9.2122 - acc: 0.3958\n",
      "Epoch 18/150\n",
      "768/768 [==============================] - 0s 36us/step - loss: 9.1919 - acc: 0.3971\n",
      "Epoch 19/150\n",
      "768/768 [==============================] - 0s 36us/step - loss: 9.1481 - acc: 0.4023\n",
      "Epoch 20/150\n",
      "768/768 [==============================] - 0s 33us/step - loss: 9.0995 - acc: 0.4010\n",
      "Epoch 21/150\n",
      "768/768 [==============================] - 0s 33us/step - loss: 9.0134 - acc: 0.4089\n",
      "Epoch 22/150\n",
      "768/768 [==============================] - 0s 36us/step - loss: 8.8433 - acc: 0.4180\n",
      "Epoch 23/150\n",
      "768/768 [==============================] - 0s 43us/step - loss: 8.6551 - acc: 0.4219\n",
      "Epoch 24/150\n",
      "768/768 [==============================] - 0s 41us/step - loss: 8.3760 - acc: 0.4427\n",
      "Epoch 25/150\n",
      "768/768 [==============================] - 0s 41us/step - loss: 8.1375 - acc: 0.4609\n",
      "Epoch 26/150\n",
      "768/768 [==============================] - 0s 51us/step - loss: 7.9146 - acc: 0.4753\n",
      "Epoch 27/150\n",
      "768/768 [==============================] - 0s 49us/step - loss: 7.7601 - acc: 0.4922\n",
      "Epoch 28/150\n",
      "768/768 [==============================] - 0s 40us/step - loss: 7.6847 - acc: 0.4987\n",
      "Epoch 29/150\n",
      "768/768 [==============================] - 0s 42us/step - loss: 7.6089 - acc: 0.5052\n",
      "Epoch 30/150\n",
      "768/768 [==============================] - 0s 35us/step - loss: 7.5550 - acc: 0.5143\n",
      "Epoch 31/150\n",
      "768/768 [==============================] - 0s 36us/step - loss: 7.5026 - acc: 0.5182\n",
      "Epoch 32/150\n",
      "768/768 [==============================] - 0s 37us/step - loss: 7.4467 - acc: 0.5156\n",
      "Epoch 33/150\n",
      "768/768 [==============================] - 0s 35us/step - loss: 7.3985 - acc: 0.5169\n",
      "Epoch 34/150\n",
      "768/768 [==============================] - 0s 36us/step - loss: 7.3700 - acc: 0.5143\n",
      "Epoch 35/150\n",
      "768/768 [==============================] - 0s 36us/step - loss: 7.3375 - acc: 0.5117\n",
      "Epoch 36/150\n",
      "768/768 [==============================] - 0s 34us/step - loss: 7.2796 - acc: 0.5104\n",
      "Epoch 37/150\n",
      "768/768 [==============================] - 0s 31us/step - loss: 7.0136 - acc: 0.5143\n",
      "Epoch 38/150\n",
      "768/768 [==============================] - 0s 32us/step - loss: 5.8050 - acc: 0.5326\n",
      "Epoch 39/150\n",
      "768/768 [==============================] - 0s 30us/step - loss: 4.8920 - acc: 0.5859\n",
      "Epoch 40/150\n",
      "768/768 [==============================] - 0s 28us/step - loss: 4.8251 - acc: 0.5938\n",
      "Epoch 41/150\n",
      "768/768 [==============================] - 0s 32us/step - loss: 4.7729 - acc: 0.5885\n",
      "Epoch 42/150\n",
      "768/768 [==============================] - 0s 32us/step - loss: 4.7247 - acc: 0.5898\n",
      "Epoch 43/150\n",
      "768/768 [==============================] - 0s 28us/step - loss: 4.6692 - acc: 0.5885\n",
      "Epoch 44/150\n",
      "768/768 [==============================] - 0s 33us/step - loss: 4.6091 - acc: 0.5924\n",
      "Epoch 45/150\n",
      "768/768 [==============================] - 0s 33us/step - loss: 4.5575 - acc: 0.5898\n",
      "Epoch 46/150\n",
      "768/768 [==============================] - 0s 47us/step - loss: 4.4928 - acc: 0.5794\n",
      "Epoch 47/150\n",
      "768/768 [==============================] - 0s 45us/step - loss: 4.4000 - acc: 0.5911\n",
      "Epoch 48/150\n",
      "768/768 [==============================] - 0s 43us/step - loss: 4.3139 - acc: 0.5911\n",
      "Epoch 49/150\n",
      "768/768 [==============================] - 0s 40us/step - loss: 4.2291 - acc: 0.5924\n",
      "Epoch 50/150\n",
      "768/768 [==============================] - 0s 33us/step - loss: 4.1292 - acc: 0.5833\n",
      "Epoch 51/150\n",
      "768/768 [==============================] - 0s 33us/step - loss: 4.0252 - acc: 0.5807\n",
      "Epoch 52/150\n",
      "768/768 [==============================] - 0s 32us/step - loss: 3.9115 - acc: 0.5820\n",
      "Epoch 53/150\n",
      "768/768 [==============================] - 0s 37us/step - loss: 3.8089 - acc: 0.5846\n",
      "Epoch 54/150\n",
      "768/768 [==============================] - 0s 35us/step - loss: 3.7029 - acc: 0.5794\n",
      "Epoch 55/150\n",
      "768/768 [==============================] - 0s 37us/step - loss: 3.6033 - acc: 0.5977\n",
      "Epoch 56/150\n",
      "768/768 [==============================] - 0s 34us/step - loss: 3.5071 - acc: 0.5846\n",
      "Epoch 57/150\n",
      "768/768 [==============================] - 0s 29us/step - loss: 3.4306 - acc: 0.5911\n",
      "Epoch 58/150\n",
      "768/768 [==============================] - 0s 30us/step - loss: 3.3480 - acc: 0.5990\n",
      "Epoch 59/150\n",
      "768/768 [==============================] - 0s 34us/step - loss: 3.2793 - acc: 0.5964\n",
      "Epoch 60/150\n",
      "768/768 [==============================] - 0s 41us/step - loss: 3.2244 - acc: 0.6120\n",
      "Epoch 61/150\n",
      "768/768 [==============================] - 0s 39us/step - loss: 3.1797 - acc: 0.6172\n",
      "Epoch 62/150\n",
      "768/768 [==============================] - 0s 32us/step - loss: 3.1465 - acc: 0.6276\n",
      "Epoch 63/150\n",
      "768/768 [==============================] - 0s 31us/step - loss: 3.1187 - acc: 0.6185\n",
      "Epoch 64/150\n",
      "768/768 [==============================] - 0s 31us/step - loss: 3.0923 - acc: 0.6289\n",
      "Epoch 65/150\n",
      "768/768 [==============================] - 0s 34us/step - loss: 3.0854 - acc: 0.6341\n",
      "Epoch 66/150\n",
      "768/768 [==============================] - 0s 38us/step - loss: 3.0671 - acc: 0.6380\n",
      "Epoch 67/150\n",
      "768/768 [==============================] - 0s 33us/step - loss: 3.0595 - acc: 0.6445\n",
      "Epoch 68/150\n",
      "768/768 [==============================] - 0s 30us/step - loss: 3.0526 - acc: 0.6471\n",
      "Epoch 69/150\n",
      "768/768 [==============================] - 0s 30us/step - loss: 3.0472 - acc: 0.6562\n",
      "Epoch 70/150\n",
      "768/768 [==============================] - 0s 31us/step - loss: 3.0414 - acc: 0.6602\n",
      "Epoch 71/150\n",
      "768/768 [==============================] - 0s 33us/step - loss: 3.0401 - acc: 0.6615\n",
      "Epoch 72/150\n",
      "768/768 [==============================] - 0s 38us/step - loss: 3.0405 - acc: 0.6589\n",
      "Epoch 73/150\n",
      "768/768 [==============================] - 0s 33us/step - loss: 3.0327 - acc: 0.6693\n",
      "Epoch 74/150\n",
      "768/768 [==============================] - 0s 31us/step - loss: 3.0351 - acc: 0.6745\n",
      "Epoch 75/150\n",
      "768/768 [==============================] - 0s 32us/step - loss: 3.0331 - acc: 0.6732\n",
      "Epoch 76/150\n",
      "768/768 [==============================] - 0s 31us/step - loss: 3.0327 - acc: 0.6784\n",
      "Epoch 77/150\n",
      "768/768 [==============================] - 0s 31us/step - loss: 3.0329 - acc: 0.6784\n",
      "Epoch 78/150\n",
      "768/768 [==============================] - 0s 30us/step - loss: 3.0336 - acc: 0.6615\n",
      "Epoch 79/150\n",
      "768/768 [==============================] - 0s 28us/step - loss: 3.0248 - acc: 0.6667\n",
      "Epoch 80/150\n",
      "768/768 [==============================] - 0s 28us/step - loss: 3.0241 - acc: 0.6745\n",
      "Epoch 81/150\n",
      "768/768 [==============================] - 0s 37us/step - loss: 3.0252 - acc: 0.6771\n",
      "Epoch 82/150\n",
      "768/768 [==============================] - 0s 34us/step - loss: 3.0233 - acc: 0.6732\n",
      "Epoch 83/150\n",
      "768/768 [==============================] - 0s 34us/step - loss: 3.0215 - acc: 0.6797\n",
      "Epoch 84/150\n",
      "768/768 [==============================] - 0s 31us/step - loss: 3.0254 - acc: 0.6745\n",
      "Epoch 85/150\n",
      "768/768 [==============================] - 0s 30us/step - loss: 3.0267 - acc: 0.6745\n",
      "Epoch 86/150\n",
      "768/768 [==============================] - 0s 33us/step - loss: 3.0194 - acc: 0.6836\n",
      "Epoch 87/150\n",
      "768/768 [==============================] - 0s 31us/step - loss: 3.0217 - acc: 0.6745\n",
      "Epoch 88/150\n",
      "768/768 [==============================] - 0s 32us/step - loss: 3.0203 - acc: 0.6888\n",
      "Epoch 89/150\n",
      "768/768 [==============================] - 0s 31us/step - loss: 3.0188 - acc: 0.6758\n",
      "Epoch 90/150\n",
      "768/768 [==============================] - 0s 27us/step - loss: 3.0175 - acc: 0.6875\n",
      "Epoch 91/150\n",
      "768/768 [==============================] - 0s 33us/step - loss: 3.0196 - acc: 0.6823\n",
      "Epoch 92/150\n",
      "768/768 [==============================] - 0s 29us/step - loss: 3.0201 - acc: 0.6849\n",
      "Epoch 93/150\n",
      "768/768 [==============================] - 0s 27us/step - loss: 3.0183 - acc: 0.6797\n",
      "Epoch 94/150\n",
      "768/768 [==============================] - 0s 31us/step - loss: 3.0175 - acc: 0.6836\n",
      "Epoch 95/150\n",
      "768/768 [==============================] - 0s 26us/step - loss: 3.0166 - acc: 0.6849\n",
      "Epoch 96/150\n",
      "768/768 [==============================] - 0s 26us/step - loss: 3.0213 - acc: 0.6849\n",
      "Epoch 97/150\n",
      "768/768 [==============================] - 0s 30us/step - loss: 3.0185 - acc: 0.6875\n",
      "Epoch 98/150\n",
      "768/768 [==============================] - 0s 31us/step - loss: 3.0146 - acc: 0.6849\n",
      "Epoch 99/150\n",
      "768/768 [==============================] - 0s 27us/step - loss: 3.0157 - acc: 0.6810\n",
      "Epoch 100/150\n",
      "768/768 [==============================] - 0s 38us/step - loss: 3.0157 - acc: 0.6875\n",
      "Epoch 101/150\n",
      "768/768 [==============================] - 0s 55us/step - loss: 3.0171 - acc: 0.6797\n",
      "Epoch 102/150\n",
      "768/768 [==============================] - 0s 36us/step - loss: 3.0151 - acc: 0.6849\n",
      "Epoch 103/150\n",
      "768/768 [==============================] - 0s 35us/step - loss: 3.0145 - acc: 0.6836\n",
      "Epoch 104/150\n",
      "768/768 [==============================] - 0s 36us/step - loss: 3.0136 - acc: 0.6810\n",
      "Epoch 105/150\n",
      "768/768 [==============================] - 0s 39us/step - loss: 3.0145 - acc: 0.6888\n",
      "Epoch 106/150\n",
      "768/768 [==============================] - 0s 35us/step - loss: 3.0135 - acc: 0.6849\n",
      "Epoch 107/150\n",
      "768/768 [==============================] - 0s 29us/step - loss: 3.0131 - acc: 0.6862\n",
      "Epoch 108/150\n",
      "768/768 [==============================] - 0s 28us/step - loss: 3.0196 - acc: 0.6784\n",
      "Epoch 109/150\n",
      "768/768 [==============================] - 0s 31us/step - loss: 3.0151 - acc: 0.6914\n",
      "Epoch 110/150\n",
      "768/768 [==============================] - 0s 30us/step - loss: 3.0140 - acc: 0.6797\n",
      "Epoch 111/150\n",
      "768/768 [==============================] - 0s 25us/step - loss: 3.0155 - acc: 0.6888\n",
      "Epoch 112/150\n",
      "768/768 [==============================] - 0s 36us/step - loss: 3.0161 - acc: 0.6836\n",
      "Epoch 113/150\n",
      "768/768 [==============================] - 0s 30us/step - loss: 3.0159 - acc: 0.6745\n",
      "Epoch 114/150\n",
      "768/768 [==============================] - 0s 34us/step - loss: 3.0136 - acc: 0.6888\n",
      "Epoch 115/150\n",
      "768/768 [==============================] - 0s 29us/step - loss: 3.0155 - acc: 0.6940\n",
      "Epoch 116/150\n",
      "768/768 [==============================] - 0s 33us/step - loss: 3.0134 - acc: 0.6927\n",
      "Epoch 117/150\n",
      "768/768 [==============================] - 0s 36us/step - loss: 3.0164 - acc: 0.6823\n",
      "Epoch 118/150\n",
      "768/768 [==============================] - 0s 34us/step - loss: 3.0303 - acc: 0.6628\n",
      "Epoch 119/150\n",
      "768/768 [==============================] - 0s 38us/step - loss: 3.0197 - acc: 0.6862\n",
      "Epoch 120/150\n",
      "768/768 [==============================] - 0s 33us/step - loss: 3.0129 - acc: 0.6849\n",
      "Epoch 121/150\n",
      "768/768 [==============================] - 0s 30us/step - loss: 3.0102 - acc: 0.6901\n",
      "Epoch 122/150\n",
      "768/768 [==============================] - 0s 28us/step - loss: 3.0156 - acc: 0.6849\n",
      "Epoch 123/150\n",
      "768/768 [==============================] - 0s 32us/step - loss: 3.0137 - acc: 0.6914\n",
      "Epoch 124/150\n",
      "768/768 [==============================] - 0s 31us/step - loss: 3.0102 - acc: 0.6823\n",
      "Epoch 125/150\n",
      "768/768 [==============================] - 0s 28us/step - loss: 3.0121 - acc: 0.6901\n",
      "Epoch 126/150\n",
      "768/768 [==============================] - 0s 31us/step - loss: 3.0115 - acc: 0.6927\n",
      "Epoch 127/150\n",
      "768/768 [==============================] - 0s 32us/step - loss: 3.0140 - acc: 0.6836\n",
      "Epoch 128/150\n",
      "768/768 [==============================] - 0s 29us/step - loss: 3.0121 - acc: 0.6810\n",
      "Epoch 129/150\n",
      "768/768 [==============================] - 0s 30us/step - loss: 3.0105 - acc: 0.6914\n",
      "Epoch 130/150\n",
      "768/768 [==============================] - 0s 72us/step - loss: 3.0111 - acc: 0.6836\n",
      "Epoch 131/150\n",
      "768/768 [==============================] - 0s 35us/step - loss: 3.0109 - acc: 0.6875\n",
      "Epoch 132/150\n",
      "768/768 [==============================] - 0s 35us/step - loss: 3.0142 - acc: 0.6810\n",
      "Epoch 133/150\n",
      "768/768 [==============================] - 0s 41us/step - loss: 3.0095 - acc: 0.6953\n",
      "Epoch 134/150\n",
      "768/768 [==============================] - 0s 37us/step - loss: 3.0107 - acc: 0.6836\n",
      "Epoch 135/150\n",
      "768/768 [==============================] - 0s 40us/step - loss: 3.0114 - acc: 0.6940\n",
      "Epoch 136/150\n",
      "768/768 [==============================] - 0s 41us/step - loss: 3.0110 - acc: 0.6849\n",
      "Epoch 137/150\n",
      "768/768 [==============================] - 0s 37us/step - loss: 3.0099 - acc: 0.6914\n",
      "Epoch 138/150\n",
      "768/768 [==============================] - 0s 34us/step - loss: 3.0120 - acc: 0.6784\n",
      "Epoch 139/150\n",
      "768/768 [==============================] - 0s 29us/step - loss: 3.0103 - acc: 0.6914\n",
      "Epoch 140/150\n",
      "768/768 [==============================] - 0s 35us/step - loss: 3.0094 - acc: 0.6953\n",
      "Epoch 141/150\n",
      "768/768 [==============================] - 0s 31us/step - loss: 3.0111 - acc: 0.6875\n",
      "Epoch 142/150\n",
      "768/768 [==============================] - 0s 31us/step - loss: 3.0074 - acc: 0.6901\n",
      "Epoch 143/150\n",
      "768/768 [==============================] - 0s 35us/step - loss: 3.0099 - acc: 0.6836\n",
      "Epoch 144/150\n",
      "768/768 [==============================] - 0s 31us/step - loss: 3.0069 - acc: 0.6953\n",
      "Epoch 145/150\n",
      "768/768 [==============================] - 0s 47us/step - loss: 3.0118 - acc: 0.6862\n",
      "Epoch 146/150\n",
      "768/768 [==============================] - 0s 44us/step - loss: 3.0139 - acc: 0.6875\n",
      "Epoch 147/150\n",
      "768/768 [==============================] - 0s 47us/step - loss: 3.0143 - acc: 0.6823\n",
      "Epoch 148/150\n",
      "768/768 [==============================] - 0s 34us/step - loss: 3.0110 - acc: 0.6888\n",
      "Epoch 149/150\n",
      "768/768 [==============================] - 0s 35us/step - loss: 3.0068 - acc: 0.6901\n",
      "Epoch 150/150\n",
      "768/768 [==============================] - 0s 34us/step - loss: 3.0107 - acc: 0.6836\n"
     ]
    },
    {
     "data": {
      "text/plain": [
       "<keras.callbacks.History at 0xb28934eb8>"
      ]
     },
     "execution_count": 14,
     "metadata": {},
     "output_type": "execute_result"
    }
   ],
   "source": [
    "model.fit(X, Y, epochs=150)"
   ]
  },
  {
   "cell_type": "markdown",
   "metadata": {
    "colab_type": "text",
    "id": "BSybwWEJtGFm"
   },
   "source": [
    "### Evaluate Model"
   ]
  },
  {
   "cell_type": "code",
   "execution_count": 15,
   "metadata": {
    "colab": {
     "base_uri": "https://localhost:8080/",
     "height": 52
    },
    "colab_type": "code",
    "id": "34wh8z9MvFMp",
    "outputId": "f55fa2e8-59fe-4072-a8d3-6f2b9b8aa9c0"
   },
   "outputs": [
    {
     "name": "stdout",
     "output_type": "stream",
     "text": [
      "768/768 [==============================] - 0s 77us/step\n",
      "acc: 69.27083333333334\n"
     ]
    }
   ],
   "source": [
    "scores = model.evaluate(X, Y)\n",
    "print(f\"{model.metrics_names[1]}: {scores[1]*100}\")"
   ]
  },
  {
   "cell_type": "markdown",
   "metadata": {
    "colab_type": "text",
    "id": "AIJoRBxHy27n"
   },
   "source": [
    "# Keras Perceptron Model in 4 lines of code:"
   ]
  },
  {
   "cell_type": "code",
   "execution_count": 16,
   "metadata": {
    "colab": {
     "base_uri": "https://localhost:8080/",
     "height": 5216
    },
    "colab_type": "code",
    "id": "TQxyONqKvFxB",
    "outputId": "12966e66-2297-4f82-85b3-c275a9c38563"
   },
   "outputs": [
    {
     "name": "stdout",
     "output_type": "stream",
     "text": [
      "Epoch 1/150\n",
      "768/768 [==============================] - 0s 252us/step - loss: 5.1972 - acc: 0.6393\n",
      "Epoch 2/150\n",
      "768/768 [==============================] - 0s 38us/step - loss: 5.1545 - acc: 0.6432\n",
      "Epoch 3/150\n",
      "768/768 [==============================] - 0s 34us/step - loss: 5.1578 - acc: 0.6445\n",
      "Epoch 4/150\n",
      "768/768 [==============================] - 0s 30us/step - loss: 5.1384 - acc: 0.6458\n",
      "Epoch 5/150\n",
      "768/768 [==============================] - 0s 39us/step - loss: 5.1391 - acc: 0.6393\n",
      "Epoch 6/150\n",
      "768/768 [==============================] - 0s 32us/step - loss: 5.1279 - acc: 0.6419\n",
      "Epoch 7/150\n",
      "768/768 [==============================] - 0s 37us/step - loss: 5.1197 - acc: 0.6432\n",
      "Epoch 8/150\n",
      "768/768 [==============================] - 0s 37us/step - loss: 5.1111 - acc: 0.6445\n",
      "Epoch 9/150\n",
      "768/768 [==============================] - 0s 34us/step - loss: 5.0985 - acc: 0.6432\n",
      "Epoch 10/150\n",
      "768/768 [==============================] - 0s 33us/step - loss: 5.0925 - acc: 0.6406\n",
      "Epoch 11/150\n",
      "768/768 [==============================] - 0s 32us/step - loss: 5.0878 - acc: 0.6445\n",
      "Epoch 12/150\n",
      "768/768 [==============================] - 0s 32us/step - loss: 5.0650 - acc: 0.6406\n",
      "Epoch 13/150\n",
      "768/768 [==============================] - 0s 37us/step - loss: 5.0616 - acc: 0.6419\n",
      "Epoch 14/150\n",
      "768/768 [==============================] - 0s 32us/step - loss: 5.0478 - acc: 0.6393\n",
      "Epoch 15/150\n",
      "768/768 [==============================] - 0s 29us/step - loss: 5.0406 - acc: 0.6432\n",
      "Epoch 16/150\n",
      "768/768 [==============================] - 0s 37us/step - loss: 5.0207 - acc: 0.6432\n",
      "Epoch 17/150\n",
      "768/768 [==============================] - 0s 32us/step - loss: 5.0034 - acc: 0.6432\n",
      "Epoch 18/150\n",
      "768/768 [==============================] - 0s 37us/step - loss: 4.9948 - acc: 0.6406\n",
      "Epoch 19/150\n",
      "768/768 [==============================] - 0s 32us/step - loss: 4.9891 - acc: 0.6393\n",
      "Epoch 20/150\n",
      "768/768 [==============================] - 0s 38us/step - loss: 4.9551 - acc: 0.6393\n",
      "Epoch 21/150\n",
      "768/768 [==============================] - 0s 31us/step - loss: 4.9417 - acc: 0.6406\n",
      "Epoch 22/150\n",
      "768/768 [==============================] - 0s 36us/step - loss: 4.9259 - acc: 0.6432\n",
      "Epoch 23/150\n",
      "768/768 [==============================] - 0s 35us/step - loss: 4.9319 - acc: 0.6393\n",
      "Epoch 24/150\n",
      "768/768 [==============================] - 0s 44us/step - loss: 4.8950 - acc: 0.6406\n",
      "Epoch 25/150\n",
      "768/768 [==============================] - 0s 42us/step - loss: 4.8776 - acc: 0.6419\n",
      "Epoch 26/150\n",
      "768/768 [==============================] - 0s 38us/step - loss: 4.8557 - acc: 0.6419\n",
      "Epoch 27/150\n",
      "768/768 [==============================] - 0s 40us/step - loss: 4.8407 - acc: 0.6432\n",
      "Epoch 28/150\n",
      "768/768 [==============================] - 0s 43us/step - loss: 4.8150 - acc: 0.6419\n",
      "Epoch 29/150\n",
      "768/768 [==============================] - 0s 47us/step - loss: 4.7901 - acc: 0.6419\n",
      "Epoch 30/150\n",
      "768/768 [==============================] - 0s 38us/step - loss: 4.8008 - acc: 0.6445\n",
      "Epoch 31/150\n",
      "768/768 [==============================] - 0s 33us/step - loss: 4.7531 - acc: 0.6432\n",
      "Epoch 32/150\n",
      "768/768 [==============================] - 0s 39us/step - loss: 4.7167 - acc: 0.6484\n",
      "Epoch 33/150\n",
      "768/768 [==============================] - 0s 37us/step - loss: 4.6894 - acc: 0.6458\n",
      "Epoch 34/150\n",
      "768/768 [==============================] - 0s 38us/step - loss: 4.6401 - acc: 0.6432\n",
      "Epoch 35/150\n",
      "768/768 [==============================] - 0s 32us/step - loss: 4.5621 - acc: 0.6406\n",
      "Epoch 36/150\n",
      "768/768 [==============================] - 0s 40us/step - loss: 4.3775 - acc: 0.6380\n",
      "Epoch 37/150\n",
      "768/768 [==============================] - 0s 40us/step - loss: 4.1455 - acc: 0.6107\n",
      "Epoch 38/150\n",
      "768/768 [==============================] - 0s 43us/step - loss: 3.8657 - acc: 0.5938\n",
      "Epoch 39/150\n",
      "768/768 [==============================] - 0s 39us/step - loss: 3.6265 - acc: 0.5703\n",
      "Epoch 40/150\n",
      "768/768 [==============================] - 0s 42us/step - loss: 3.4733 - acc: 0.5807\n",
      "Epoch 41/150\n",
      "768/768 [==============================] - 0s 42us/step - loss: 3.3457 - acc: 0.6042\n",
      "Epoch 42/150\n",
      "768/768 [==============================] - 0s 44us/step - loss: 3.2545 - acc: 0.6068\n",
      "Epoch 43/150\n",
      "768/768 [==============================] - 0s 40us/step - loss: 3.1514 - acc: 0.6120\n",
      "Epoch 44/150\n",
      "768/768 [==============================] - 0s 36us/step - loss: 3.0661 - acc: 0.6146\n",
      "Epoch 45/150\n",
      "768/768 [==============================] - 0s 36us/step - loss: 2.9688 - acc: 0.6198\n",
      "Epoch 46/150\n",
      "768/768 [==============================] - 0s 39us/step - loss: 2.8690 - acc: 0.6172\n",
      "Epoch 47/150\n",
      "768/768 [==============================] - 0s 36us/step - loss: 2.7582 - acc: 0.6211\n",
      "Epoch 48/150\n",
      "768/768 [==============================] - 0s 33us/step - loss: 2.6310 - acc: 0.6224\n",
      "Epoch 49/150\n",
      "768/768 [==============================] - 0s 33us/step - loss: 2.5235 - acc: 0.6289\n",
      "Epoch 50/150\n",
      "768/768 [==============================] - 0s 37us/step - loss: 2.4022 - acc: 0.6211\n",
      "Epoch 51/150\n",
      "768/768 [==============================] - 0s 42us/step - loss: 2.2610 - acc: 0.6224\n",
      "Epoch 52/150\n",
      "768/768 [==============================] - 0s 40us/step - loss: 2.1287 - acc: 0.6250\n",
      "Epoch 53/150\n",
      "768/768 [==============================] - 0s 55us/step - loss: 1.9872 - acc: 0.6211\n",
      "Epoch 54/150\n",
      "768/768 [==============================] - 0s 49us/step - loss: 1.8524 - acc: 0.6302\n",
      "Epoch 55/150\n",
      "768/768 [==============================] - 0s 61us/step - loss: 1.7338 - acc: 0.6224\n",
      "Epoch 56/150\n",
      "768/768 [==============================] - 0s 58us/step - loss: 1.5822 - acc: 0.6198\n",
      "Epoch 57/150\n",
      "768/768 [==============================] - 0s 44us/step - loss: 1.4696 - acc: 0.6276\n",
      "Epoch 58/150\n",
      "768/768 [==============================] - 0s 70us/step - loss: 1.3478 - acc: 0.6120\n",
      "Epoch 59/150\n",
      "768/768 [==============================] - 0s 65us/step - loss: 1.2377 - acc: 0.6406\n",
      "Epoch 60/150\n",
      "768/768 [==============================] - 0s 57us/step - loss: 1.1701 - acc: 0.6289\n",
      "Epoch 61/150\n",
      "768/768 [==============================] - 0s 46us/step - loss: 1.0855 - acc: 0.6419\n",
      "Epoch 62/150\n",
      "768/768 [==============================] - 0s 56us/step - loss: 0.9981 - acc: 0.6393\n",
      "Epoch 63/150\n",
      "768/768 [==============================] - 0s 44us/step - loss: 0.9373 - acc: 0.6419\n",
      "Epoch 64/150\n",
      "768/768 [==============================] - 0s 34us/step - loss: 0.8886 - acc: 0.6393\n",
      "Epoch 65/150\n",
      "768/768 [==============================] - 0s 35us/step - loss: 0.8424 - acc: 0.6497\n",
      "Epoch 66/150\n",
      "768/768 [==============================] - 0s 60us/step - loss: 0.8146 - acc: 0.6445\n",
      "Epoch 67/150\n",
      "768/768 [==============================] - 0s 61us/step - loss: 0.7905 - acc: 0.6536\n",
      "Epoch 68/150\n",
      "768/768 [==============================] - 0s 44us/step - loss: 0.7621 - acc: 0.6497\n",
      "Epoch 69/150\n",
      "768/768 [==============================] - 0s 46us/step - loss: 0.7367 - acc: 0.6667\n",
      "Epoch 70/150\n",
      "768/768 [==============================] - 0s 48us/step - loss: 0.7270 - acc: 0.6680\n",
      "Epoch 71/150\n",
      "768/768 [==============================] - 0s 30us/step - loss: 0.7299 - acc: 0.6536\n",
      "Epoch 72/150\n",
      "768/768 [==============================] - 0s 35us/step - loss: 0.7027 - acc: 0.6654\n",
      "Epoch 73/150\n",
      "768/768 [==============================] - 0s 32us/step - loss: 0.7008 - acc: 0.6693\n",
      "Epoch 74/150\n",
      "768/768 [==============================] - 0s 29us/step - loss: 0.6893 - acc: 0.6797\n",
      "Epoch 75/150\n",
      "768/768 [==============================] - 0s 31us/step - loss: 0.6771 - acc: 0.6888\n",
      "Epoch 76/150\n",
      "768/768 [==============================] - 0s 35us/step - loss: 0.6741 - acc: 0.6823\n",
      "Epoch 77/150\n",
      "768/768 [==============================] - 0s 34us/step - loss: 0.6809 - acc: 0.6706\n",
      "Epoch 78/150\n",
      "768/768 [==============================] - 0s 29us/step - loss: 0.6569 - acc: 0.6914\n",
      "Epoch 79/150\n",
      "768/768 [==============================] - 0s 31us/step - loss: 0.6571 - acc: 0.6888\n",
      "Epoch 80/150\n",
      "768/768 [==============================] - 0s 33us/step - loss: 0.6524 - acc: 0.6901\n",
      "Epoch 81/150\n",
      "768/768 [==============================] - 0s 32us/step - loss: 0.6509 - acc: 0.6914\n",
      "Epoch 82/150\n",
      "768/768 [==============================] - 0s 30us/step - loss: 0.6551 - acc: 0.6979\n",
      "Epoch 83/150\n",
      "768/768 [==============================] - 0s 30us/step - loss: 0.6443 - acc: 0.7083\n",
      "Epoch 84/150\n",
      "768/768 [==============================] - 0s 30us/step - loss: 0.6475 - acc: 0.6927\n",
      "Epoch 85/150\n",
      "768/768 [==============================] - 0s 30us/step - loss: 0.6367 - acc: 0.6875\n",
      "Epoch 86/150\n",
      "768/768 [==============================] - 0s 27us/step - loss: 0.6330 - acc: 0.7005\n",
      "Epoch 87/150\n",
      "768/768 [==============================] - 0s 27us/step - loss: 0.6311 - acc: 0.6979\n",
      "Epoch 88/150\n",
      "768/768 [==============================] - 0s 31us/step - loss: 0.6290 - acc: 0.7005\n",
      "Epoch 89/150\n",
      "768/768 [==============================] - 0s 27us/step - loss: 0.6271 - acc: 0.6940\n",
      "Epoch 90/150\n",
      "768/768 [==============================] - 0s 39us/step - loss: 0.6197 - acc: 0.7135\n",
      "Epoch 91/150\n",
      "768/768 [==============================] - 0s 39us/step - loss: 0.6224 - acc: 0.6992\n",
      "Epoch 92/150\n",
      "768/768 [==============================] - 0s 47us/step - loss: 0.6192 - acc: 0.6992\n",
      "Epoch 93/150\n",
      "768/768 [==============================] - 0s 32us/step - loss: 0.6166 - acc: 0.7005\n",
      "Epoch 94/150\n",
      "768/768 [==============================] - 0s 33us/step - loss: 0.6177 - acc: 0.6940\n",
      "Epoch 95/150\n",
      "768/768 [==============================] - 0s 33us/step - loss: 0.6202 - acc: 0.6914\n",
      "Epoch 96/150\n",
      "768/768 [==============================] - 0s 30us/step - loss: 0.6182 - acc: 0.7005\n",
      "Epoch 97/150\n",
      "768/768 [==============================] - 0s 33us/step - loss: 0.6140 - acc: 0.6992\n",
      "Epoch 98/150\n",
      "768/768 [==============================] - 0s 32us/step - loss: 0.6224 - acc: 0.7018\n",
      "Epoch 99/150\n",
      "768/768 [==============================] - 0s 30us/step - loss: 0.6121 - acc: 0.7083\n",
      "Epoch 100/150\n",
      "768/768 [==============================] - 0s 26us/step - loss: 0.6102 - acc: 0.7070\n",
      "Epoch 101/150\n",
      "768/768 [==============================] - 0s 43us/step - loss: 0.6063 - acc: 0.7018\n",
      "Epoch 102/150\n",
      "768/768 [==============================] - 0s 32us/step - loss: 0.6062 - acc: 0.7044\n",
      "Epoch 103/150\n",
      "768/768 [==============================] - 0s 30us/step - loss: 0.6172 - acc: 0.6901\n",
      "Epoch 104/150\n",
      "768/768 [==============================] - 0s 39us/step - loss: 0.6050 - acc: 0.7057\n",
      "Epoch 105/150\n",
      "768/768 [==============================] - 0s 34us/step - loss: 0.6072 - acc: 0.7044\n",
      "Epoch 106/150\n",
      "768/768 [==============================] - 0s 29us/step - loss: 0.6123 - acc: 0.6927\n",
      "Epoch 107/150\n",
      "768/768 [==============================] - 0s 29us/step - loss: 0.6053 - acc: 0.6940\n",
      "Epoch 108/150\n",
      "768/768 [==============================] - 0s 32us/step - loss: 0.6119 - acc: 0.6979\n",
      "Epoch 109/150\n",
      "768/768 [==============================] - 0s 30us/step - loss: 0.6047 - acc: 0.6953\n",
      "Epoch 110/150\n",
      "768/768 [==============================] - 0s 28us/step - loss: 0.6027 - acc: 0.6914\n",
      "Epoch 111/150\n",
      "768/768 [==============================] - 0s 36us/step - loss: 0.6007 - acc: 0.7174\n",
      "Epoch 112/150\n",
      "768/768 [==============================] - 0s 46us/step - loss: 0.5991 - acc: 0.7070\n",
      "Epoch 113/150\n",
      "768/768 [==============================] - 0s 38us/step - loss: 0.6029 - acc: 0.7005\n",
      "Epoch 114/150\n",
      "768/768 [==============================] - 0s 34us/step - loss: 0.6041 - acc: 0.7031\n",
      "Epoch 115/150\n",
      "768/768 [==============================] - 0s 37us/step - loss: 0.6037 - acc: 0.6901\n",
      "Epoch 116/150\n",
      "768/768 [==============================] - 0s 29us/step - loss: 0.5960 - acc: 0.7057\n",
      "Epoch 117/150\n",
      "768/768 [==============================] - 0s 32us/step - loss: 0.5966 - acc: 0.6953\n",
      "Epoch 118/150\n",
      "768/768 [==============================] - 0s 36us/step - loss: 0.6044 - acc: 0.7174\n",
      "Epoch 119/150\n",
      "768/768 [==============================] - 0s 32us/step - loss: 0.5970 - acc: 0.7018\n",
      "Epoch 120/150\n",
      "768/768 [==============================] - 0s 34us/step - loss: 0.6058 - acc: 0.6953\n",
      "Epoch 121/150\n",
      "768/768 [==============================] - 0s 34us/step - loss: 0.6001 - acc: 0.7096\n",
      "Epoch 122/150\n",
      "768/768 [==============================] - 0s 31us/step - loss: 0.5986 - acc: 0.6992\n",
      "Epoch 123/150\n",
      "768/768 [==============================] - 0s 31us/step - loss: 0.6086 - acc: 0.6836\n",
      "Epoch 124/150\n",
      "768/768 [==============================] - 0s 34us/step - loss: 0.6005 - acc: 0.7044\n",
      "Epoch 125/150\n",
      "768/768 [==============================] - 0s 28us/step - loss: 0.6001 - acc: 0.6940\n",
      "Epoch 126/150\n",
      "768/768 [==============================] - 0s 29us/step - loss: 0.6006 - acc: 0.6927\n",
      "Epoch 127/150\n",
      "768/768 [==============================] - 0s 44us/step - loss: 0.6069 - acc: 0.6927\n",
      "Epoch 128/150\n",
      "768/768 [==============================] - 0s 56us/step - loss: 0.5947 - acc: 0.7044\n",
      "Epoch 129/150\n",
      "768/768 [==============================] - 0s 35us/step - loss: 0.5926 - acc: 0.7057\n",
      "Epoch 130/150\n",
      "768/768 [==============================] - 0s 33us/step - loss: 0.5926 - acc: 0.7057\n",
      "Epoch 131/150\n",
      "768/768 [==============================] - 0s 40us/step - loss: 0.5901 - acc: 0.6979\n",
      "Epoch 132/150\n",
      "768/768 [==============================] - 0s 38us/step - loss: 0.5957 - acc: 0.6966\n",
      "Epoch 133/150\n",
      "768/768 [==============================] - 0s 40us/step - loss: 0.5918 - acc: 0.7044\n",
      "Epoch 134/150\n",
      "768/768 [==============================] - 0s 37us/step - loss: 0.5889 - acc: 0.7253\n",
      "Epoch 135/150\n",
      "768/768 [==============================] - 0s 39us/step - loss: 0.5923 - acc: 0.7031\n",
      "Epoch 136/150\n",
      "768/768 [==============================] - 0s 33us/step - loss: 0.5927 - acc: 0.6940\n",
      "Epoch 137/150\n",
      "768/768 [==============================] - 0s 30us/step - loss: 0.5909 - acc: 0.7083\n",
      "Epoch 138/150\n",
      "768/768 [==============================] - 0s 30us/step - loss: 0.5884 - acc: 0.7109\n",
      "Epoch 139/150\n",
      "768/768 [==============================] - 0s 30us/step - loss: 0.5939 - acc: 0.7070\n",
      "Epoch 140/150\n",
      "768/768 [==============================] - 0s 33us/step - loss: 0.5935 - acc: 0.7044\n",
      "Epoch 141/150\n",
      "768/768 [==============================] - 0s 29us/step - loss: 0.5872 - acc: 0.7148\n",
      "Epoch 142/150\n",
      "768/768 [==============================] - 0s 31us/step - loss: 0.5900 - acc: 0.7018\n",
      "Epoch 143/150\n",
      "768/768 [==============================] - 0s 34us/step - loss: 0.5968 - acc: 0.7031\n",
      "Epoch 144/150\n",
      "768/768 [==============================] - 0s 32us/step - loss: 0.5875 - acc: 0.7174\n",
      "Epoch 145/150\n",
      "768/768 [==============================] - 0s 24us/step - loss: 0.5891 - acc: 0.7044\n",
      "Epoch 146/150\n",
      "768/768 [==============================] - 0s 36us/step - loss: 0.5904 - acc: 0.7070\n",
      "Epoch 147/150\n",
      "768/768 [==============================] - 0s 34us/step - loss: 0.5914 - acc: 0.6979\n",
      "Epoch 148/150\n",
      "768/768 [==============================] - 0s 35us/step - loss: 0.5994 - acc: 0.6758\n",
      "Epoch 149/150\n",
      "768/768 [==============================] - 0s 37us/step - loss: 0.5894 - acc: 0.6927\n",
      "Epoch 150/150\n",
      "768/768 [==============================] - 0s 32us/step - loss: 0.5844 - acc: 0.7148\n"
     ]
    },
    {
     "data": {
      "text/plain": [
       "<keras.callbacks.History at 0xb288fe358>"
      ]
     },
     "execution_count": 16,
     "metadata": {},
     "output_type": "execute_result"
    }
   ],
   "source": [
    "model = Sequential()\n",
    "model.add(Dense(1, input_dim=8, activation='sigmoid'))\n",
    "model.compile(loss='binary_crossentropy', optimizer='adam', metrics=['accuracy'])\n",
    "model.fit(X, Y, epochs=150)"
   ]
  },
  {
   "cell_type": "code",
   "execution_count": 17,
   "metadata": {
    "colab": {
     "base_uri": "https://localhost:8080/",
     "height": 69
    },
    "colab_type": "code",
    "id": "Z1wfKUxszPKa",
    "outputId": "0cdacd1d-6e5a-4bbe-fabb-568cd94724be"
   },
   "outputs": [
    {
     "name": "stdout",
     "output_type": "stream",
     "text": [
      "768/768 [==============================] - 0s 79us/step\n",
      "acc: 71.875\n"
     ]
    }
   ],
   "source": [
    "# evaluate the model\n",
    "scores = model.evaluate(X, Y)\n",
    "print(f\"{model.metrics_names[1]}: {scores[1]*100}\")"
   ]
  },
  {
   "cell_type": "markdown",
   "metadata": {
    "colab_type": "text",
    "id": "zHYB7k9q3O8T"
   },
   "source": [
    "### Why are we getting such different results if we re-run the model?\n",
    "\n",
    "<https://machinelearningmastery.com/randomness-in-machine-learning/>"
   ]
  },
  {
   "cell_type": "markdown",
   "metadata": {
    "colab_type": "text",
    "id": "ueDVpctAzvy8"
   },
   "source": [
    "# What architecture should we try?"
   ]
  },
  {
   "cell_type": "code",
   "execution_count": 19,
   "metadata": {
    "colab": {},
    "colab_type": "code",
    "id": "6W2Sc7-LzQo_"
   },
   "outputs": [
    {
     "name": "stdout",
     "output_type": "stream",
     "text": [
      "_________________________________________________________________\n",
      "Layer (type)                 Output Shape              Param #   \n",
      "=================================================================\n",
      "dense_6 (Dense)              (None, 10)                90        \n",
      "_________________________________________________________________\n",
      "dense_7 (Dense)              (None, 3)                 33        \n",
      "_________________________________________________________________\n",
      "dense_8 (Dense)              (None, 1)                 4         \n",
      "=================================================================\n",
      "Total params: 127\n",
      "Trainable params: 127\n",
      "Non-trainable params: 0\n",
      "_________________________________________________________________\n"
     ]
    }
   ],
   "source": [
    "#### Tell me your amazing ideas\n",
    "\n",
    "model_improved = Sequential()\n",
    "\n",
    "# Input + First Hidden\n",
    "model_improved.add(Dense(10, input_dim=8, activation='relu'))\n",
    "# Hidden\n",
    "model_improved.add(Dense(3, activation='sigmoid'))\n",
    "# Output\n",
    "model_improved.add(Dense(1, activation = 'sigmoid'))\n",
    "\n",
    "# Compile\n",
    "model_improved.compile(loss='binary_crossentropy',\n",
    "                       optimizer='adam',\n",
    "                       metrics=['acc'])\n",
    "\n",
    "model_improved.summary()"
   ]
  },
  {
   "cell_type": "code",
   "execution_count": 34,
   "metadata": {},
   "outputs": [
    {
     "name": "stdout",
     "output_type": "stream",
     "text": [
      "CPU times: user 9.67 s, sys: 1.17 s, total: 10.8 s\n",
      "Wall time: 8.13 s\n"
     ]
    },
    {
     "data": {
      "text/plain": [
       "<keras.callbacks.History at 0xb29a64748>"
      ]
     },
     "execution_count": 34,
     "metadata": {},
     "output_type": "execute_result"
    }
   ],
   "source": [
    "%%time\n",
    "model_improved.fit(X,Y, epochs=600, batch_size=64, verbose=0)"
   ]
  },
  {
   "cell_type": "code",
   "execution_count": 35,
   "metadata": {},
   "outputs": [
    {
     "name": "stdout",
     "output_type": "stream",
     "text": [
      "768/768 [==============================] - 0s 35us/step\n",
      "acc:84.24479166666666\n"
     ]
    }
   ],
   "source": [
    "score = model_improved.evaluate(X,Y)\n",
    "print(f\"{model_improved.metrics_names[1]}:{score[1]*100}\")"
   ]
  },
  {
   "cell_type": "markdown",
   "metadata": {
    "colab_type": "text",
    "id": "tcjMuxtn6wIQ"
   },
   "source": [
    "# Activation Functions\n",
    "\n",
    "What is an activation function and how does it work?\n",
    "\n",
    "- Takes in a weighted sum of inputs + a bias from the previous layer and outputs an \"activation\" value.\n",
    "- Based its inputs the neuron decides how 'activated' it should be. This can be thought of as the neuron deciding how strongly to fire. You can also think of it as if the neuron is deciding how much of the signal that it has received to pass onto the next layer. \n",
    "- Our choice of activation function does not only affect signal that is passed forward but also affects the backpropagation algorithm. It affects how we update weights in reverse order since activated weight/input sums become the inputs of the next layer. \n"
   ]
  },
  {
   "cell_type": "markdown",
   "metadata": {
    "colab_type": "text",
    "id": "n_b0u8Ch60bA"
   },
   "source": [
    "## Step Function\n",
    "\n",
    "![Heaviside Step Function](https://upload.wikimedia.org/wikipedia/commons/thumb/d/d9/Dirac_distribution_CDF.svg/325px-Dirac_distribution_CDF.svg.png)\n",
    "\n",
    "All or nothing, a little extreme, which is fine, but makes updating weights through backpropagation impossible. Why? remember that during backpropagation we use derivatives in order to determine how much to update or not update weights. What is the derivative of the step function?"
   ]
  },
  {
   "cell_type": "markdown",
   "metadata": {
    "colab_type": "text",
    "id": "vKR0YhIVEnXZ"
   },
   "source": [
    "## Linear Function\n",
    "\n",
    "![Linear Function](http://www.roconnell.net/Parent%20function/linear.gif)\n",
    "\n",
    "The linear function takes the opposite tact from the step function and passes the signal onto the next layer by a constant factor. There are problems with this but the biggest problems again lie in backpropagation. The derivative of any linear function is a horizontal line which would indicate that we should update all weights by a constant amount every time -which on balance wouldn't change the behavior of our network. Linear functions are typically only used for very simple tasks where interpretability is important, but if interpretability is your highest priority, you probably shouldn't be using neural networks in the first place."
   ]
  },
  {
   "cell_type": "markdown",
   "metadata": {
    "colab_type": "text",
    "id": "JFurIVL6EkQ8"
   },
   "source": [
    "## Sigmoid Function\n",
    "\n",
    "![Sigmoid Function](https://upload.wikimedia.org/wikipedia/commons/thumb/8/88/Logistic-curve.svg/480px-Logistic-curve.svg.png)\n",
    "\n",
    "The sigmoid function works great as an activation function! it's continuously differentiable, its derivative doesn't have a constant slope, and having the higher slope in the middle pushes y value predictions towards extremes which is particularly useful for binary classification problems. I mean, this is why we use it as the squishifier in logistic regression as well. It constrains output, but over repeated epochs pushes predictions towards a strong binary prediction. \n",
    "\n",
    "What's the biggest problem with the sigmoid function? The fact that its slope gets pretty flat so quickly after its departure from zero. This means that updating weights based on its gradient really diminishes the size of our weight updates as our model gets more confident about its classifications. This is why even after so many iterations with our test score example we couldn't reach the levels of fit that our gradient descent based model could reach in just a few epochs."
   ]
  },
  {
   "cell_type": "markdown",
   "metadata": {
    "colab_type": "text",
    "id": "hm6p1HWbEhYi"
   },
   "source": [
    "## Tanh Function\n",
    "\n",
    "![Tanh Function](http://mathworld.wolfram.com/images/interactive/TanhReal.gif)\n",
    "\n",
    "What if the sigmoid function didn't get so flat quite as soon when moving away from zero and was a little bit steeper in the middle? That's basically the Tanh function. The Tanh function can actually be created by scaling the sigmoid function by 2 in the y dimension and subtracting 1 from all values. It has basically the same properties as the sigmoid, still struggles from diminishingly flat gradients as we move away from 0, but its derivative is higher around 0 causing weights to move to the extremes a little faster. "
   ]
  },
  {
   "cell_type": "markdown",
   "metadata": {
    "colab_type": "text",
    "id": "sFOn_L6gEcz1"
   },
   "source": [
    "## ReLU Function\n",
    "\n",
    "![ReLU Function](https://cdn-images-1.medium.com/max/937/1*oePAhrm74RNnNEolprmTaQ.png)\n",
    "\n",
    "ReLU stands for Rectified Linear Units it is by far the most commonly used activation function in modern neural networks. It doesn't activate neurons that are being passed a negative signal and passes on positive signals. Think about why this might be useful. Remember how a lot of our initial weights got set to negative numbers by chance? This would have dealt with those negative weights a lot faster than the sigmoid function updating. What does the derivative of this function look like? It looks like the step function! This means that not all neurons are activated. With sigmoid basically all of our neurons are passing some amount of signal even if it's small making it hard for the network to differentiate important and less important connections. ReLU turns off a portion of our less important neurons which decreases computational load, but also helps the network learn what the most important connections are faster. \n",
    "\n",
    "What's the problem with relu? Well the left half of its derivative function shows that for neurons that are initialized with weights that cause them to have no activation, our gradient will not update those neuron's weights, this can lead to dead neurons that never fire and whose weights never get updated. We would probably want to update the weights of neurons that didn't fire even if it's just by a little bit in case we got unlucky with our initial weights and want to give those neurons a chance of turning back on in the future."
   ]
  },
  {
   "cell_type": "markdown",
   "metadata": {
    "colab_type": "text",
    "id": "XWdvWOBIETwk"
   },
   "source": [
    "## Leaky ReLU\n",
    "\n",
    "![Leaky ReLU](https://cdn-images-1.medium.com/max/1600/1*ypsvQH7kvtI2BhzR2eT_Sw.png)\n",
    "\n",
    "Leaky ReLU accomplishes exactly that! it avoids having a gradient of 0 on the left side of its derivative function. This means that even \"dead\" neurons have a chance of being revived over enough iterations. In some specifications the slope of the leaky left-hand side can also be experimented with as a hyperparameter of the model!"
   ]
  },
  {
   "cell_type": "markdown",
   "metadata": {
    "colab_type": "text",
    "id": "FcAxkNFREMFb"
   },
   "source": [
    "## Softmax Function\n",
    "\n",
    "![Softmax Function](https://cdn-images-1.medium.com/max/800/1*670CdxchunD-yAuUWdI7Bw.png)\n",
    "\n",
    "Like the sigmoid function but more useful for multi-class classification problems. The softmax function can take any set of inputs and translate them into probabilities that sum up to 1. This means that we can throw any list of outputs at it and it will translate them into probabilities, this is extremely useful for multi-class classification problems. Like MNIST for example..."
   ]
  },
  {
   "cell_type": "markdown",
   "metadata": {
    "colab_type": "text",
    "id": "23-XRRXKHs34"
   },
   "source": [
    "## Major takeaways\n",
    "\n",
    "- ReLU is generally better at obtaining the optimal model fit.\n",
    "- Sigmoid and its derivatives are usually better at classification problems.\n",
    "- Softmax for multi-class classification problems. \n",
    "\n",
    "You'll typically see ReLU used for all initial layers and then the final layer being sigmoid or softmax for classification problems. But you can experiment and tune these selections as hyperparameters as well!"
   ]
  },
  {
   "cell_type": "markdown",
   "metadata": {
    "colab_type": "text",
    "id": "TWuoXZCCKCI7"
   },
   "source": [
    "## MNIST with Keras \n",
    "\n",
    "### This will be a good chance to bring up dropout regularization. :)"
   ]
  },
  {
   "cell_type": "code",
   "execution_count": null,
   "metadata": {
    "colab": {},
    "colab_type": "code",
    "id": "jmJ_5azs04pU"
   },
   "outputs": [],
   "source": [
    "### Let's do it!"
   ]
  },
  {
   "cell_type": "code",
   "execution_count": 36,
   "metadata": {},
   "outputs": [],
   "source": [
    "from tensorflow import keras\n",
    "from tensorflow.keras.datasets import mnist\n",
    "from tensorflow.keras.models import Sequential\n",
    "from tensorflow.keras.layers import Dense\n",
    "\n",
    "import numpy as np"
   ]
  },
  {
   "cell_type": "code",
   "execution_count": 41,
   "metadata": {},
   "outputs": [],
   "source": [
    "batch_size = 64\n",
    "num_class = 10\n",
    "epochs = 150\n",
    "\n",
    "(X_train, y_train), (X_test, y_test) = mnist.load_data()"
   ]
  },
  {
   "cell_type": "code",
   "execution_count": 42,
   "metadata": {},
   "outputs": [],
   "source": [
    "# Reshape\n",
    "X_train = X_train.reshape(60000, 784)\n",
    "X_test = X_test.reshape(10000, 784)"
   ]
  },
  {
   "cell_type": "code",
   "execution_count": 43,
   "metadata": {},
   "outputs": [],
   "source": [
    "# Transform into floats\n",
    "\n",
    "X_train = X_train.astype('float32')\n",
    "X_test = X_test.astype('float32')"
   ]
  },
  {
   "cell_type": "code",
   "execution_count": 45,
   "metadata": {},
   "outputs": [],
   "source": [
    "# Vectorize the Target Categories\n",
    "y_train = keras.utils.to_categorical(y_train, num_class)\n",
    "y_test = keras.utils.to_categorical(y_test, num_class)"
   ]
  },
  {
   "cell_type": "code",
   "execution_count": 53,
   "metadata": {},
   "outputs": [
    {
     "name": "stdout",
     "output_type": "stream",
     "text": [
      "Model: \"sequential_6\"\n",
      "_________________________________________________________________\n",
      "Layer (type)                 Output Shape              Param #   \n",
      "=================================================================\n",
      "dense_9 (Dense)              (None, 16)                12560     \n",
      "_________________________________________________________________\n",
      "dense_10 (Dense)             (None, 16)                272       \n",
      "_________________________________________________________________\n",
      "dense_11 (Dense)             (None, 10)                170       \n",
      "=================================================================\n",
      "Total params: 13,002\n",
      "Trainable params: 13,002\n",
      "Non-trainable params: 0\n",
      "_________________________________________________________________\n"
     ]
    }
   ],
   "source": [
    "mnist_model = Sequential()\n",
    "\n",
    "# Hidden Layer\n",
    "mnist_model.add(Dense(16, input_dim=784, activation='relu'))\n",
    "mnist_model.add(Dense(16, activation='relu'))\n",
    "\n",
    "#Output Layer\n",
    "mnist_model.add(Dense(10, activation='softmax'))\n",
    "\n",
    "mnist_model.compile(loss='categorical_crossentropy',\n",
    "                    optimizer='adam',\n",
    "                    metrics =['accuracy'])\n",
    "\n",
    "mnist_model.summary()"
   ]
  },
  {
   "cell_type": "code",
   "execution_count": 57,
   "metadata": {},
   "outputs": [
    {
     "name": "stdout",
     "output_type": "stream",
     "text": [
      "10000/10000 [==============================] - 0s 17us/sample - loss: 0.3398 - acc: 0.9157\n",
      "acc: 91.57000184059143\n",
      "CPU times: user 3min 35s, sys: 30.3 s, total: 4min 5s\n",
      "Wall time: 2min 47s\n"
     ]
    }
   ],
   "source": [
    "%%time\n",
    "\n",
    "history = mnist_model.fit(X_train, y_train,\n",
    "                          batch_size=batch_size,\n",
    "                          epochs=epochs, \n",
    "                          validation_split=.1, \n",
    "                          verbose=0)\n",
    "scores = mnist_model.evaluate(X_test, y_test)\n",
    "print(f'{mnist_model.metrics_names[1]}: {scores[1]*100}')"
   ]
  },
  {
   "cell_type": "markdown",
   "metadata": {
    "colab_type": "text",
    "id": "CKmx8153w9Ci"
   },
   "source": [
    "## What if we use dropout techniques to prevent overfitting? How does that affect our model?\n",
    "\n",
    "![Regularization](https://upload.wikimedia.org/wikipedia/commons/thumb/0/02/Regularization.svg/354px-Regularization.svg.png)"
   ]
  },
  {
   "cell_type": "code",
   "execution_count": null,
   "metadata": {
    "colab": {},
    "colab_type": "code",
    "id": "CWDopERJ16yJ"
   },
   "outputs": [],
   "source": [
    "### Try it with dropout\n",
    "def prepare_data(X):\n",
    "    \n",
    "    #Reshape X\n",
    "    #Make sure Everything is a float\n",
    "    # ?????\n",
    "    # Profit\n",
    "\n",
    "y_pred = mnist_model.predict(classes(X_test))"
   ]
  }
 ],
 "metadata": {
  "colab": {
   "collapsed_sections": [],
   "name": "LS_DS_433_Keras_Lecture.ipynb",
   "provenance": [],
   "version": "0.3.2"
  },
  "kernelspec": {
   "display_name": "Python 3",
   "language": "python",
   "name": "python3"
  },
  "language_info": {
   "codemirror_mode": {
    "name": "ipython",
    "version": 3
   },
   "file_extension": ".py",
   "mimetype": "text/x-python",
   "name": "python",
   "nbconvert_exporter": "python",
   "pygments_lexer": "ipython3",
   "version": "3.7.3"
  }
 },
 "nbformat": 4,
 "nbformat_minor": 2
}
